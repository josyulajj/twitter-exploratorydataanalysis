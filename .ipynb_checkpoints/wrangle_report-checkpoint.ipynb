{
 "cells": [
  {
   "cell_type": "markdown",
   "metadata": {},
   "source": [
    "# WeRateDogs - Data Wrangling Report #\n",
    "-------\n",
    "\n",
    "The motivation was to create interesting and trustworthy analyses and visualizations for the twitter data set that had the basic tweet data along with image classification of the dog breed. The favorite and retweet count on each original tweet was gathered programmatically from twitter by using twitter api.\n",
    "\n",
    "<br />\n",
    "\n",
    "## 1. Assessment Phase ##\n",
    "------\n",
    "<br />\n",
    "\n",
    "### Twitter archive data set assessment ###\n",
    "\n",
    "Visual assessment on twiter data set reviled that our tweet data set did have missing or no values on expanded_url column. There were records in our data set that were retweets. There were was data type mismatch on timestamp column.\n",
    "\n",
    "Programmatic assessment on twiter data set reviled that 59 tweets did not have an image associated with them. 181 tweets were retweets. This indicates that these tweets were not original tweets. Data consistency issues were seen on the status and user id columns. The name column has inaccurate values.\n",
    "\n",
    "### Image classfication data set assessment ###\n",
    "\n",
    "Both visual and programmatic assessment found no data quality issues. The dataset is complete, consistent, and valid with no accuracy issues.\n",
    "\n",
    "\n",
    "### Twitter json data set collection and assessment ###\n",
    "\n",
    "The favorite and retweet count on each original tweet was gathered programmatically from twitter by using twitter api.\n",
    "\n",
    "<br />\n",
    "\n",
    "## 2. Cleaning Phase ##\n",
    "-----\n",
    "<br />\n",
    "\n",
    "8 quality issues were cleaned to enable us to move to tackle the tidiness issues. The first tidiness issues - the retweet and favorite count belong to twitter data set to form an observational unit and the second was each variable forms a column, the columns on twitter data set 'doggo', 'floofer', 'pupper', 'puppo' are identifing various stages of dog. We fix this by creating a single column 'growth_stage' that captures the dog stage.\n",
    "\n",
    "The resulting master data set was saved as csv for the next steps on our journey.\n",
    "\n",
    "\n",
    "<br />\n",
    "\n",
    "## 3. Visualization and Findings Phase ##\n",
    "-----\n",
    "<br />\n",
    "\n",
    "The analysis primarily focused on impression and engagement aspects of our dog tweets as we are primarily focused on dog ratings.\n",
    "\n",
    "Bar charts were used to visualize the average impression and engagement metrics. Below were our findings from the visualizations.\n",
    "\n",
    "- puppo dog stage was highly favorited on average by 21,631.\n",
    "- Again puppo dog stage was highly retweeted on average by 6292.\n",
    "- All three dog stages doggo, puppo, floofer were equally rated on average at 12. While pupper was only off by 1 rating.\n"
   ]
  }
 ],
 "metadata": {
  "kernelspec": {
   "display_name": "Python 3",
   "language": "python",
   "name": "python3"
  },
  "language_info": {
   "codemirror_mode": {
    "name": "ipython",
    "version": 3
   },
   "file_extension": ".py",
   "mimetype": "text/x-python",
   "name": "python",
   "nbconvert_exporter": "python",
   "pygments_lexer": "ipython3",
   "version": "3.7.6"
  }
 },
 "nbformat": 4,
 "nbformat_minor": 2
}
