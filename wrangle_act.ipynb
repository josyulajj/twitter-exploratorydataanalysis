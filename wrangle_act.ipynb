{
 "metadata": {
  "language_info": {
   "codemirror_mode": {
    "name": "ipython",
    "version": 3
   },
   "file_extension": ".py",
   "mimetype": "text/x-python",
   "name": "python",
   "nbconvert_exporter": "python",
   "pygments_lexer": "ipython3",
   "version": "3.7.6-final"
  },
  "orig_nbformat": 2,
  "kernelspec": {
   "name": "python_defaultSpec_1599338015699",
   "display_name": "Python 3"
  }
 },
 "nbformat": 4,
 "nbformat_minor": 2,
 "cells": [
  {
   "cell_type": "code",
   "execution_count": 12,
   "metadata": {},
   "outputs": [],
   "source": [
    "import pandas as pd\n",
    "import numpy as np\n",
    "import json as json\n",
    "import tweepy"
   ]
  },
  {
   "cell_type": "code",
   "execution_count": 13,
   "metadata": {},
   "outputs": [],
   "source": [
    "tweet_av_df = pd.read_csv('twitter-archive-enhanced-2.csv')"
   ]
  },
  {
   "cell_type": "code",
   "execution_count": 14,
   "metadata": {},
   "outputs": [
    {
     "output_type": "execute_result",
     "data": {
      "text/plain": "             tweet_id  in_reply_to_status_id  in_reply_to_user_id  \\\n0  892420643555336193                    NaN                  NaN   \n1  892177421306343426                    NaN                  NaN   \n2  891815181378084864                    NaN                  NaN   \n3  891689557279858688                    NaN                  NaN   \n4  891327558926688256                    NaN                  NaN   \n\n                   timestamp  \\\n0  2017-08-01 16:23:56 +0000   \n1  2017-08-01 00:17:27 +0000   \n2  2017-07-31 00:18:03 +0000   \n3  2017-07-30 15:58:51 +0000   \n4  2017-07-29 16:00:24 +0000   \n\n                                              source  \\\n0  <a href=\"http://twitter.com/download/iphone\" r...   \n1  <a href=\"http://twitter.com/download/iphone\" r...   \n2  <a href=\"http://twitter.com/download/iphone\" r...   \n3  <a href=\"http://twitter.com/download/iphone\" r...   \n4  <a href=\"http://twitter.com/download/iphone\" r...   \n\n                                                text  retweeted_status_id  \\\n0  This is Phineas. He's a mystical boy. Only eve...                  NaN   \n1  This is Tilly. She's just checking pup on you....                  NaN   \n2  This is Archie. He is a rare Norwegian Pouncin...                  NaN   \n3  This is Darla. She commenced a snooze mid meal...                  NaN   \n4  This is Franklin. He would like you to stop ca...                  NaN   \n\n   retweeted_status_user_id retweeted_status_timestamp  \\\n0                       NaN                        NaN   \n1                       NaN                        NaN   \n2                       NaN                        NaN   \n3                       NaN                        NaN   \n4                       NaN                        NaN   \n\n                                       expanded_urls  rating_numerator  \\\n0  https://twitter.com/dog_rates/status/892420643...                13   \n1  https://twitter.com/dog_rates/status/892177421...                13   \n2  https://twitter.com/dog_rates/status/891815181...                12   \n3  https://twitter.com/dog_rates/status/891689557...                13   \n4  https://twitter.com/dog_rates/status/891327558...                12   \n\n   rating_denominator      name doggo floofer pupper puppo  \n0                  10   Phineas  None    None   None  None  \n1                  10     Tilly  None    None   None  None  \n2                  10    Archie  None    None   None  None  \n3                  10     Darla  None    None   None  None  \n4                  10  Franklin  None    None   None  None  ",
      "text/html": "<div>\n<style scoped>\n    .dataframe tbody tr th:only-of-type {\n        vertical-align: middle;\n    }\n\n    .dataframe tbody tr th {\n        vertical-align: top;\n    }\n\n    .dataframe thead th {\n        text-align: right;\n    }\n</style>\n<table border=\"1\" class=\"dataframe\">\n  <thead>\n    <tr style=\"text-align: right;\">\n      <th></th>\n      <th>tweet_id</th>\n      <th>in_reply_to_status_id</th>\n      <th>in_reply_to_user_id</th>\n      <th>timestamp</th>\n      <th>source</th>\n      <th>text</th>\n      <th>retweeted_status_id</th>\n      <th>retweeted_status_user_id</th>\n      <th>retweeted_status_timestamp</th>\n      <th>expanded_urls</th>\n      <th>rating_numerator</th>\n      <th>rating_denominator</th>\n      <th>name</th>\n      <th>doggo</th>\n      <th>floofer</th>\n      <th>pupper</th>\n      <th>puppo</th>\n    </tr>\n  </thead>\n  <tbody>\n    <tr>\n      <th>0</th>\n      <td>892420643555336193</td>\n      <td>NaN</td>\n      <td>NaN</td>\n      <td>2017-08-01 16:23:56 +0000</td>\n      <td>&lt;a href=\"http://twitter.com/download/iphone\" r...</td>\n      <td>This is Phineas. He's a mystical boy. Only eve...</td>\n      <td>NaN</td>\n      <td>NaN</td>\n      <td>NaN</td>\n      <td>https://twitter.com/dog_rates/status/892420643...</td>\n      <td>13</td>\n      <td>10</td>\n      <td>Phineas</td>\n      <td>None</td>\n      <td>None</td>\n      <td>None</td>\n      <td>None</td>\n    </tr>\n    <tr>\n      <th>1</th>\n      <td>892177421306343426</td>\n      <td>NaN</td>\n      <td>NaN</td>\n      <td>2017-08-01 00:17:27 +0000</td>\n      <td>&lt;a href=\"http://twitter.com/download/iphone\" r...</td>\n      <td>This is Tilly. She's just checking pup on you....</td>\n      <td>NaN</td>\n      <td>NaN</td>\n      <td>NaN</td>\n      <td>https://twitter.com/dog_rates/status/892177421...</td>\n      <td>13</td>\n      <td>10</td>\n      <td>Tilly</td>\n      <td>None</td>\n      <td>None</td>\n      <td>None</td>\n      <td>None</td>\n    </tr>\n    <tr>\n      <th>2</th>\n      <td>891815181378084864</td>\n      <td>NaN</td>\n      <td>NaN</td>\n      <td>2017-07-31 00:18:03 +0000</td>\n      <td>&lt;a href=\"http://twitter.com/download/iphone\" r...</td>\n      <td>This is Archie. He is a rare Norwegian Pouncin...</td>\n      <td>NaN</td>\n      <td>NaN</td>\n      <td>NaN</td>\n      <td>https://twitter.com/dog_rates/status/891815181...</td>\n      <td>12</td>\n      <td>10</td>\n      <td>Archie</td>\n      <td>None</td>\n      <td>None</td>\n      <td>None</td>\n      <td>None</td>\n    </tr>\n    <tr>\n      <th>3</th>\n      <td>891689557279858688</td>\n      <td>NaN</td>\n      <td>NaN</td>\n      <td>2017-07-30 15:58:51 +0000</td>\n      <td>&lt;a href=\"http://twitter.com/download/iphone\" r...</td>\n      <td>This is Darla. She commenced a snooze mid meal...</td>\n      <td>NaN</td>\n      <td>NaN</td>\n      <td>NaN</td>\n      <td>https://twitter.com/dog_rates/status/891689557...</td>\n      <td>13</td>\n      <td>10</td>\n      <td>Darla</td>\n      <td>None</td>\n      <td>None</td>\n      <td>None</td>\n      <td>None</td>\n    </tr>\n    <tr>\n      <th>4</th>\n      <td>891327558926688256</td>\n      <td>NaN</td>\n      <td>NaN</td>\n      <td>2017-07-29 16:00:24 +0000</td>\n      <td>&lt;a href=\"http://twitter.com/download/iphone\" r...</td>\n      <td>This is Franklin. He would like you to stop ca...</td>\n      <td>NaN</td>\n      <td>NaN</td>\n      <td>NaN</td>\n      <td>https://twitter.com/dog_rates/status/891327558...</td>\n      <td>12</td>\n      <td>10</td>\n      <td>Franklin</td>\n      <td>None</td>\n      <td>None</td>\n      <td>None</td>\n      <td>None</td>\n    </tr>\n  </tbody>\n</table>\n</div>"
     },
     "metadata": {},
     "execution_count": 14
    }
   ],
   "source": [
    "tweet_av_df.head()"
   ]
  },
  {
   "cell_type": "code",
   "execution_count": null,
   "metadata": {
    "tags": []
   },
   "outputs": [],
   "source": [
    "tweet_av_df.info()"
   ]
  },
  {
   "cell_type": "code",
   "execution_count": 15,
   "metadata": {},
   "outputs": [],
   "source": [
    "image_pd_df = pd.read_csv('image-predictions-3.tsv', sep='\\t')"
   ]
  },
  {
   "cell_type": "code",
   "execution_count": null,
   "metadata": {},
   "outputs": [],
   "source": [
    "image_pd_df.head()"
   ]
  },
  {
   "cell_type": "code",
   "execution_count": null,
   "metadata": {
    "tags": []
   },
   "outputs": [],
   "source": [
    "image_pd_df.info()"
   ]
  },
  {
   "cell_type": "code",
   "execution_count": null,
   "metadata": {
    "tags": []
   },
   "outputs": [],
   "source": [
    "tweets_data = []\n",
    "with open('tweets.json', errors='ignore') as tweets:\n",
    "    for line in tweets:\n",
    "        #print(json.loads(json.dumps(line)))\n",
    "        tweets_data.append(json.loads(json.dumps(line)))\n",
    "tweets_df = pd.DataFrame(tweets_data)\n",
    "tweets_df.head()"
   ]
  },
  {
   "cell_type": "code",
   "execution_count": null,
   "metadata": {
    "tags": []
   },
   "outputs": [],
   "source": [
    "from pandas.io.json import json_normalize\n",
    "twt_dt = {}\n",
    "with open('tweets.json', errors='ignore') as tweets:\n",
    "    for line in tweets:\n",
    "        twt_dt.append(json_normalize(json.loads(line)))\n",
    "        #twt_dict = json.loads(line)\n",
    "        #print(json_normalize(twt_dict))        \n",
    "cmpd_df = pd.DataFrame.from_records(twt_dt)\n",
    "cmpd_df.head()\n",
    "#print(tweets_data[0])\n",
    "#json_normalize(tweets_data[0])\n",
    "\n"
   ]
  },
  {
   "cell_type": "code",
   "execution_count": null,
   "metadata": {},
   "outputs": [],
   "source": [
    "from pandas.io.json import json_normalize\n",
    "df = json_normalize([json.loads(x) for x in open('tweets.json').readlines()])\n",
    "print (df)"
   ]
  },
  {
   "cell_type": "code",
   "execution_count": null,
   "metadata": {
    "tags": []
   },
   "outputs": [],
   "source": [
    "df = pd.DataFrame()\n",
    "row_df=[]\n",
    "with open('tweets.json') as f:\n",
    "    for l in f:\n",
    "        try:\n",
    "            df. = json_normalize(json.loads(l))\n",
    "            row_df.append(df)\n",
    "        except:\n",
    "            pass\n",
    "dt = pd.concat(row_df)\n",
    "dt.head()\n",
    "#dfA.head()"
   ]
  },
  {
   "cell_type": "code",
   "execution_count": null,
   "metadata": {
    "tags": []
   },
   "outputs": [],
   "source": [
    "df.info()"
   ]
  },
  {
   "cell_type": "code",
   "execution_count": null,
   "metadata": {
    "tags": []
   },
   "outputs": [],
   "source": [
    "dt.columns"
   ]
  },
  {
   "cell_type": "code",
   "execution_count": null,
   "metadata": {
    "tags": []
   },
   "outputs": [],
   "source": [
    "data = []\n",
    "with open('tweets.json','r') as f:\n",
    "    for l in f:\n",
    "        try:\n",
    "            data.append(json_normalize(json.loads(l)))\n",
    "        except:\n",
    "            pass\n",
    "print(type(data[0]))\n",
    "df = pd.DataFrame.from_dict(map(dict,data))\n",
    "pd.DataFrame.join()\n",
    "df.head()"
   ]
  },
  {
   "cell_type": "code",
   "execution_count": null,
   "metadata": {},
   "outputs": [],
   "source": [
    "df.columns[pd.Series(df.columns).str.contains(\"favorite_count\")]"
   ]
  },
  {
   "cell_type": "code",
   "execution_count": null,
   "metadata": {},
   "outputs": [],
   "source": [
    "df.columns[pd.Series(df.columns).str.contains(\"retweet_count\")]"
   ]
  },
  {
   "cell_type": "code",
   "execution_count": null,
   "metadata": {
    "tags": []
   },
   "outputs": [],
   "source": [
    "df[['favorite_count']].info()"
   ]
  },
  {
   "cell_type": "code",
   "execution_count": null,
   "metadata": {
    "tags": []
   },
   "outputs": [],
   "source": [
    "df[['retweet_count']].info()"
   ]
  },
  {
   "cell_type": "code",
   "execution_count": null,
   "metadata": {
    "tags": []
   },
   "outputs": [],
   "source": [
    "df[['id']].info()"
   ]
  },
  {
   "cell_type": "code",
   "execution_count": null,
   "metadata": {},
   "outputs": [],
   "source": [
    "df[['retweet_count']]"
   ]
  },
  {
   "cell_type": "code",
   "execution_count": null,
   "metadata": {},
   "outputs": [],
   "source": [
    "df[['id']]"
   ]
  },
  {
   "cell_type": "code",
   "execution_count": null,
   "metadata": {},
   "outputs": [],
   "source": [
    "df[['favorite_count']]"
   ]
  },
  {
   "cell_type": "code",
   "execution_count": null,
   "metadata": {},
   "outputs": [],
   "source": [
    "df[['id','favorite_count', 'retweet_count']].head()"
   ]
  },
  {
   "cell_type": "code",
   "execution_count": 4,
   "metadata": {
    "tags": []
   },
   "outputs": [
    {
     "output_type": "execute_result",
     "data": {
      "text/plain": "             tweet_id  favorite_count  retweet_count\n0  892420643555336193           39467           8853\n1  892177421306343426           33819           6514\n2  891815181378084864           25461           4328\n3  891689557279858688           42908           8964\n4  891327558926688256           41048           9774",
      "text/html": "<div>\n<style scoped>\n    .dataframe tbody tr th:only-of-type {\n        vertical-align: middle;\n    }\n\n    .dataframe tbody tr th {\n        vertical-align: top;\n    }\n\n    .dataframe thead th {\n        text-align: right;\n    }\n</style>\n<table border=\"1\" class=\"dataframe\">\n  <thead>\n    <tr style=\"text-align: right;\">\n      <th></th>\n      <th>tweet_id</th>\n      <th>favorite_count</th>\n      <th>retweet_count</th>\n    </tr>\n  </thead>\n  <tbody>\n    <tr>\n      <th>0</th>\n      <td>892420643555336193</td>\n      <td>39467</td>\n      <td>8853</td>\n    </tr>\n    <tr>\n      <th>1</th>\n      <td>892177421306343426</td>\n      <td>33819</td>\n      <td>6514</td>\n    </tr>\n    <tr>\n      <th>2</th>\n      <td>891815181378084864</td>\n      <td>25461</td>\n      <td>4328</td>\n    </tr>\n    <tr>\n      <th>3</th>\n      <td>891689557279858688</td>\n      <td>42908</td>\n      <td>8964</td>\n    </tr>\n    <tr>\n      <th>4</th>\n      <td>891327558926688256</td>\n      <td>41048</td>\n      <td>9774</td>\n    </tr>\n  </tbody>\n</table>\n</div>"
     },
     "metadata": {},
     "execution_count": 4
    }
   ],
   "source": [
    "def is_json_key_present(json, key):\n",
    "    try:\n",
    "        buf = json[key]\n",
    "    except KeyError:\n",
    "        return False\n",
    "\n",
    "    return True\n",
    "\n",
    "column_names = [\"tweet_id\", \"favorite_count\", \"retweet_count\"]\n",
    "list_vals = []\n",
    "with open('tweet-json.txt','r') as f:\n",
    "    for l in f:\n",
    "        try:\n",
    "            myjson = json.loads(l)\n",
    "            if (is_json_key_present(myjson,'id') and  is_json_key_present(myjson,'favorite_count') and is_json_key_present(myjson,'retweet_count')):\n",
    "                vals = [myjson['id'], myjson['favorite_count'], myjson['retweet_count']]\n",
    "                list_vals.append(vals)\n",
    "            else:\n",
    "                print('Skipping row as there is no data')\n",
    "        except:\n",
    "            pass\n",
    "mydf = pd.DataFrame(list_vals, columns=column_names)\n",
    "mydf.head()"
   ]
  },
  {
   "cell_type": "code",
   "execution_count": null,
   "metadata": {
    "tags": []
   },
   "outputs": [],
   "source": [
    "mydf.info()"
   ]
  },
  {
   "cell_type": "code",
   "execution_count": null,
   "metadata": {},
   "outputs": [],
   "source": [
    "twitter_archive_favs_df =  tweet_av_df.merge(mydf, on='tweet_id')"
   ]
  },
  {
   "cell_type": "code",
   "execution_count": null,
   "metadata": {},
   "outputs": [],
   "source": [
    "twitter_archive_master_df.head()"
   ]
  },
  {
   "cell_type": "code",
   "execution_count": null,
   "metadata": {
    "tags": []
   },
   "outputs": [],
   "source": [
    "twitter_archive_master_df.info()"
   ]
  },
  {
   "cell_type": "code",
   "execution_count": null,
   "metadata": {},
   "outputs": [],
   "source": [
    "del(twitter_archive_master_df)"
   ]
  },
  {
   "cell_type": "code",
   "execution_count": null,
   "metadata": {},
   "outputs": [],
   "source": [
    "twitter_archive_master_df = twitter_archive_favs_df.merge(image_pd_df, on='tweet_id')"
   ]
  },
  {
   "cell_type": "code",
   "execution_count": null,
   "metadata": {
    "tags": []
   },
   "outputs": [],
   "source": [
    "twitter_archive_master_df.info()"
   ]
  },
  {
   "cell_type": "code",
   "execution_count": 134,
   "metadata": {},
   "outputs": [],
   "source": [
    "twitter_archive_master_df.to_csv('twitter_archive_master.csv')"
   ]
  },
  {
   "cell_type": "code",
   "execution_count": 6,
   "metadata": {},
   "outputs": [
    {
     "output_type": "execute_result",
     "data": {
      "text/plain": "0       This is Phineas. He's a mystical boy. Only eve...\n1       This is Tilly. She's just checking pup on you....\n3       This is Darla. She commenced a snooze mid meal...\n5       Here we have a majestic great white breaching ...\n6       Meet Jax. He enjoys ice cream so much he gets ...\n                              ...                        \n2037    This is the best thing I've ever seen so sprea...\n2074    After so many requests... here you go.\\n\\nGood...\n2172    Just got home from college. Dis my dog. She do...\n2212    Never forget this vine. You will not stop watc...\n2228    This is Jareld. Jareld rules these waters. Lad...\nName: text, Length: 433, dtype: object"
     },
     "metadata": {},
     "execution_count": 6
    }
   ],
   "source": [
    "tweet_av_df[tweet_av_df.rating_numerator > 12 ].text"
   ]
  },
  {
   "cell_type": "code",
   "execution_count": 7,
   "metadata": {},
   "outputs": [
    {
     "output_type": "execute_result",
     "data": {
      "text/plain": "Index(['in_reply_to_status_id', 'in_reply_to_user_id', 'retweeted_status_id',\n       'retweeted_status_user_id', 'retweeted_status_timestamp',\n       'expanded_urls'],\n      dtype='object')"
     },
     "metadata": {},
     "execution_count": 7
    }
   ],
   "source": [
    "tweet_av_df.columns[tweet_av_df.isnull().any()]"
   ]
  },
  {
   "cell_type": "code",
   "execution_count": 8,
   "metadata": {
    "tags": []
   },
   "outputs": [
    {
     "output_type": "stream",
     "name": "stdout",
     "text": "<class 'pandas.core.frame.DataFrame'>\nRangeIndex: 2356 entries, 0 to 2355\nData columns (total 17 columns):\n #   Column                      Non-Null Count  Dtype  \n---  ------                      --------------  -----  \n 0   tweet_id                    2356 non-null   int64  \n 1   in_reply_to_status_id       78 non-null     float64\n 2   in_reply_to_user_id         78 non-null     float64\n 3   timestamp                   2356 non-null   object \n 4   source                      2356 non-null   object \n 5   text                        2356 non-null   object \n 6   retweeted_status_id         181 non-null    float64\n 7   retweeted_status_user_id    181 non-null    float64\n 8   retweeted_status_timestamp  181 non-null    object \n 9   expanded_urls               2297 non-null   object \n 10  rating_numerator            2356 non-null   int64  \n 11  rating_denominator          2356 non-null   int64  \n 12  name                        2356 non-null   object \n 13  doggo                       2356 non-null   object \n 14  floofer                     2356 non-null   object \n 15  pupper                      2356 non-null   object \n 16  puppo                       2356 non-null   object \ndtypes: float64(4), int64(3), object(10)\nmemory usage: 313.0+ KB\n"
    }
   ],
   "source": [
    "tweet_av_df.info()"
   ]
  },
  {
   "cell_type": "code",
   "execution_count": 9,
   "metadata": {
    "tags": []
   },
   "outputs": [
    {
     "output_type": "stream",
     "name": "stdout",
     "text": "<class 'pandas.core.frame.DataFrame'>\nRangeIndex: 2075 entries, 0 to 2074\nData columns (total 12 columns):\n #   Column    Non-Null Count  Dtype  \n---  ------    --------------  -----  \n 0   tweet_id  2075 non-null   int64  \n 1   jpg_url   2075 non-null   object \n 2   img_num   2075 non-null   int64  \n 3   p1        2075 non-null   object \n 4   p1_conf   2075 non-null   float64\n 5   p1_dog    2075 non-null   bool   \n 6   p2        2075 non-null   object \n 7   p2_conf   2075 non-null   float64\n 8   p2_dog    2075 non-null   bool   \n 9   p3        2075 non-null   object \n 10  p3_conf   2075 non-null   float64\n 11  p3_dog    2075 non-null   bool   \ndtypes: bool(3), float64(3), int64(2), object(4)\nmemory usage: 152.1+ KB\n"
    }
   ],
   "source": [
    "image_pd_df.info()"
   ]
  },
  {
   "cell_type": "code",
   "execution_count": 10,
   "metadata": {
    "tags": []
   },
   "outputs": [
    {
     "output_type": "stream",
     "name": "stdout",
     "text": "<class 'pandas.core.frame.DataFrame'>\nRangeIndex: 2354 entries, 0 to 2353\nData columns (total 3 columns):\n #   Column          Non-Null Count  Dtype\n---  ------          --------------  -----\n 0   tweet_id        2354 non-null   int64\n 1   favorite_count  2354 non-null   int64\n 2   retweet_count   2354 non-null   int64\ndtypes: int64(3)\nmemory usage: 55.3 KB\n"
    }
   ],
   "source": [
    "mydf.info()"
   ]
  },
  {
   "cell_type": "code",
   "execution_count": 11,
   "metadata": {},
   "outputs": [
    {
     "output_type": "execute_result",
     "data": {
      "text/plain": "Empty DataFrame\nColumns: [tweet_id, in_reply_to_status_id, in_reply_to_user_id, timestamp, source, text, retweeted_status_id, retweeted_status_user_id, retweeted_status_timestamp, expanded_urls, rating_numerator, rating_denominator, name, doggo, floofer, pupper, puppo]\nIndex: []",
      "text/html": "<div>\n<style scoped>\n    .dataframe tbody tr th:only-of-type {\n        vertical-align: middle;\n    }\n\n    .dataframe tbody tr th {\n        vertical-align: top;\n    }\n\n    .dataframe thead th {\n        text-align: right;\n    }\n</style>\n<table border=\"1\" class=\"dataframe\">\n  <thead>\n    <tr style=\"text-align: right;\">\n      <th></th>\n      <th>tweet_id</th>\n      <th>in_reply_to_status_id</th>\n      <th>in_reply_to_user_id</th>\n      <th>timestamp</th>\n      <th>source</th>\n      <th>text</th>\n      <th>retweeted_status_id</th>\n      <th>retweeted_status_user_id</th>\n      <th>retweeted_status_timestamp</th>\n      <th>expanded_urls</th>\n      <th>rating_numerator</th>\n      <th>rating_denominator</th>\n      <th>name</th>\n      <th>doggo</th>\n      <th>floofer</th>\n      <th>pupper</th>\n      <th>puppo</th>\n    </tr>\n  </thead>\n  <tbody>\n  </tbody>\n</table>\n</div>"
     },
     "metadata": {},
     "execution_count": 11
    }
   ],
   "source": [
    "tweet_av_df[tweet_av_df.tweet_id.duplicated()]"
   ]
  },
  {
   "cell_type": "code",
   "execution_count": 15,
   "metadata": {},
   "outputs": [
    {
     "output_type": "execute_result",
     "data": {
      "text/plain": "979     1776\n313      960\n189      666\n188      420\n2074     420\n1120     204\n290      182\n902      165\n1779     144\n1634     143\n1635     121\n1228      99\n1843      88\n433       84\n1254      80\n695       75\n340       75\n1351      60\n1202      50\n1274      45\n1433      44\n763       27\n1712      26\n516       24\n1663      20\n55        17\n285       15\n291       15\n83        14\n866       14\nName: rating_numerator, dtype: int64"
     },
     "metadata": {},
     "execution_count": 15
    }
   ],
   "source": [
    "tweet_av_df.rating_numerator.sort_values(ascending=False).head(30)"
   ]
  },
  {
   "cell_type": "code",
   "execution_count": 35,
   "metadata": {},
   "outputs": [
    {
     "output_type": "execute_result",
     "data": {
      "text/plain": "7"
     },
     "metadata": {},
     "execution_count": 35
    }
   ],
   "source": [
    "int(np.rint(np.log2(165)))"
   ]
  },
  {
   "cell_type": "code",
   "execution_count": 24,
   "metadata": {},
   "outputs": [
    {
     "output_type": "execute_result",
     "data": {
      "text/plain": "      rating_numerator  rating_denominator\n188                420                  10\n189                666                  10\n290                182                  10\n313                960                   0\n902                165                 150\n979               1776                  10\n1120               204                 170\n1634               143                 130\n1635               121                 110\n1779               144                 120\n2074               420                  10",
      "text/html": "<div>\n<style scoped>\n    .dataframe tbody tr th:only-of-type {\n        vertical-align: middle;\n    }\n\n    .dataframe tbody tr th {\n        vertical-align: top;\n    }\n\n    .dataframe thead th {\n        text-align: right;\n    }\n</style>\n<table border=\"1\" class=\"dataframe\">\n  <thead>\n    <tr style=\"text-align: right;\">\n      <th></th>\n      <th>rating_numerator</th>\n      <th>rating_denominator</th>\n    </tr>\n  </thead>\n  <tbody>\n    <tr>\n      <th>188</th>\n      <td>420</td>\n      <td>10</td>\n    </tr>\n    <tr>\n      <th>189</th>\n      <td>666</td>\n      <td>10</td>\n    </tr>\n    <tr>\n      <th>290</th>\n      <td>182</td>\n      <td>10</td>\n    </tr>\n    <tr>\n      <th>313</th>\n      <td>960</td>\n      <td>0</td>\n    </tr>\n    <tr>\n      <th>902</th>\n      <td>165</td>\n      <td>150</td>\n    </tr>\n    <tr>\n      <th>979</th>\n      <td>1776</td>\n      <td>10</td>\n    </tr>\n    <tr>\n      <th>1120</th>\n      <td>204</td>\n      <td>170</td>\n    </tr>\n    <tr>\n      <th>1634</th>\n      <td>143</td>\n      <td>130</td>\n    </tr>\n    <tr>\n      <th>1635</th>\n      <td>121</td>\n      <td>110</td>\n    </tr>\n    <tr>\n      <th>1779</th>\n      <td>144</td>\n      <td>120</td>\n    </tr>\n    <tr>\n      <th>2074</th>\n      <td>420</td>\n      <td>10</td>\n    </tr>\n  </tbody>\n</table>\n</div>"
     },
     "metadata": {},
     "execution_count": 24
    }
   ],
   "source": [
    "tweet_av_df[tweet_av_df.rating_numerator > 100][['rating_numerator', 'rating_denominator']]"
   ]
  },
  {
   "cell_type": "code",
   "execution_count": null,
   "metadata": {},
   "outputs": [],
   "source": []
  },
  {
   "cell_type": "code",
   "execution_count": 17,
   "metadata": {},
   "outputs": [
    {
     "output_type": "execute_result",
     "data": {
      "text/plain": "315     0\n1016    0\n2335    1\n2261    1\n2338    1\n605     1\n1446    1\n1869    1\n2091    1\n2038    1\n1940    1\n1764    2\n2310    2\n1761    2\n1920    2\n2246    2\n2237    2\n2349    2\n2326    2\n2079    2\n2305    3\n1249    3\n1898    3\n1478    3\n1692    3\n2202    3\n765     3\n1928    3\n1314    3\n2183    3\nName: rating_numerator, dtype: int64"
     },
     "metadata": {},
     "execution_count": 17
    }
   ],
   "source": [
    "tweet_av_df.rating_numerator.sort_values().head(30)"
   ]
  },
  {
   "cell_type": "code",
   "execution_count": 36,
   "metadata": {},
   "outputs": [
    {
     "output_type": "execute_result",
     "data": {
      "text/plain": "Index(['tweet_id', 'in_reply_to_status_id', 'in_reply_to_user_id', 'timestamp',\n       'source', 'text', 'retweeted_status_id', 'retweeted_status_user_id',\n       'retweeted_status_timestamp', 'expanded_urls', 'rating_numerator',\n       'rating_denominator', 'name', 'doggo', 'floofer', 'pupper', 'puppo'],\n      dtype='object')"
     },
     "metadata": {},
     "execution_count": 36
    }
   ],
   "source": [
    "tweet_av_df.columns"
   ]
  },
  {
   "cell_type": "code",
   "execution_count": 37,
   "metadata": {},
   "outputs": [
    {
     "output_type": "execute_result",
     "data": {
      "text/plain": "array(['None', 'doggo'], dtype=object)"
     },
     "metadata": {},
     "execution_count": 37
    }
   ],
   "source": [
    "tweet_av_df.doggo.unique()"
   ]
  },
  {
   "cell_type": "code",
   "execution_count": 40,
   "metadata": {},
   "outputs": [
    {
     "output_type": "execute_result",
     "data": {
      "text/plain": "               tweet_id  in_reply_to_status_id  in_reply_to_user_id  \\\n200  854010172552949760                    NaN                  NaN   \n\n                     timestamp  \\\n200  2017-04-17 16:34:26 +0000   \n\n                                                source  \\\n200  <a href=\"http://twitter.com/download/iphone\" r...   \n\n                                                  text  retweeted_status_id  \\\n200  At first I thought this was a shy doggo, but i...                  NaN   \n\n     retweeted_status_user_id retweeted_status_timestamp  \\\n200                       NaN                        NaN   \n\n                                         expanded_urls  rating_numerator  \\\n200  https://twitter.com/dog_rates/status/854010172...                11   \n\n     rating_denominator  name  doggo  floofer pupper puppo  \n200                  10  None  doggo  floofer   None  None  ",
      "text/html": "<div>\n<style scoped>\n    .dataframe tbody tr th:only-of-type {\n        vertical-align: middle;\n    }\n\n    .dataframe tbody tr th {\n        vertical-align: top;\n    }\n\n    .dataframe thead th {\n        text-align: right;\n    }\n</style>\n<table border=\"1\" class=\"dataframe\">\n  <thead>\n    <tr style=\"text-align: right;\">\n      <th></th>\n      <th>tweet_id</th>\n      <th>in_reply_to_status_id</th>\n      <th>in_reply_to_user_id</th>\n      <th>timestamp</th>\n      <th>source</th>\n      <th>text</th>\n      <th>retweeted_status_id</th>\n      <th>retweeted_status_user_id</th>\n      <th>retweeted_status_timestamp</th>\n      <th>expanded_urls</th>\n      <th>rating_numerator</th>\n      <th>rating_denominator</th>\n      <th>name</th>\n      <th>doggo</th>\n      <th>floofer</th>\n      <th>pupper</th>\n      <th>puppo</th>\n    </tr>\n  </thead>\n  <tbody>\n    <tr>\n      <th>200</th>\n      <td>854010172552949760</td>\n      <td>NaN</td>\n      <td>NaN</td>\n      <td>2017-04-17 16:34:26 +0000</td>\n      <td>&lt;a href=\"http://twitter.com/download/iphone\" r...</td>\n      <td>At first I thought this was a shy doggo, but i...</td>\n      <td>NaN</td>\n      <td>NaN</td>\n      <td>NaN</td>\n      <td>https://twitter.com/dog_rates/status/854010172...</td>\n      <td>11</td>\n      <td>10</td>\n      <td>None</td>\n      <td>doggo</td>\n      <td>floofer</td>\n      <td>None</td>\n      <td>None</td>\n    </tr>\n  </tbody>\n</table>\n</div>"
     },
     "metadata": {},
     "execution_count": 40
    }
   ],
   "source": [
    "tweet_av_df.query('doggo != \"None\" and  floofer != \"None\"')"
   ]
  },
  {
   "cell_type": "code",
   "execution_count": 43,
   "metadata": {},
   "outputs": [
    {
     "output_type": "execute_result",
     "data": {
      "text/plain": "                tweet_id  in_reply_to_status_id  in_reply_to_user_id  \\\n0     892420643555336193                    NaN                  NaN   \n1     892177421306343426                    NaN                  NaN   \n2     891815181378084864                    NaN                  NaN   \n3     891689557279858688                    NaN                  NaN   \n4     891327558926688256                    NaN                  NaN   \n...                  ...                    ...                  ...   \n2351  666049248165822465                    NaN                  NaN   \n2352  666044226329800704                    NaN                  NaN   \n2353  666033412701032449                    NaN                  NaN   \n2354  666029285002620928                    NaN                  NaN   \n2355  666020888022790149                    NaN                  NaN   \n\n                      timestamp  \\\n0     2017-08-01 16:23:56 +0000   \n1     2017-08-01 00:17:27 +0000   \n2     2017-07-31 00:18:03 +0000   \n3     2017-07-30 15:58:51 +0000   \n4     2017-07-29 16:00:24 +0000   \n...                         ...   \n2351  2015-11-16 00:24:50 +0000   \n2352  2015-11-16 00:04:52 +0000   \n2353  2015-11-15 23:21:54 +0000   \n2354  2015-11-15 23:05:30 +0000   \n2355  2015-11-15 22:32:08 +0000   \n\n                                                 source  \\\n0     <a href=\"http://twitter.com/download/iphone\" r...   \n1     <a href=\"http://twitter.com/download/iphone\" r...   \n2     <a href=\"http://twitter.com/download/iphone\" r...   \n3     <a href=\"http://twitter.com/download/iphone\" r...   \n4     <a href=\"http://twitter.com/download/iphone\" r...   \n...                                                 ...   \n2351  <a href=\"http://twitter.com/download/iphone\" r...   \n2352  <a href=\"http://twitter.com/download/iphone\" r...   \n2353  <a href=\"http://twitter.com/download/iphone\" r...   \n2354  <a href=\"http://twitter.com/download/iphone\" r...   \n2355  <a href=\"http://twitter.com/download/iphone\" r...   \n\n                                                   text  retweeted_status_id  \\\n0     This is Phineas. He's a mystical boy. Only eve...                  NaN   \n1     This is Tilly. She's just checking pup on you....                  NaN   \n2     This is Archie. He is a rare Norwegian Pouncin...                  NaN   \n3     This is Darla. She commenced a snooze mid meal...                  NaN   \n4     This is Franklin. He would like you to stop ca...                  NaN   \n...                                                 ...                  ...   \n2351  Here we have a 1949 1st generation vulpix. Enj...                  NaN   \n2352  This is a purebred Piers Morgan. Loves to Netf...                  NaN   \n2353  Here is a very happy pup. Big fan of well-main...                  NaN   \n2354  This is a western brown Mitsubishi terrier. Up...                  NaN   \n2355  Here we have a Japanese Irish Setter. Lost eye...                  NaN   \n\n      retweeted_status_user_id retweeted_status_timestamp  \\\n0                          NaN                        NaN   \n1                          NaN                        NaN   \n2                          NaN                        NaN   \n3                          NaN                        NaN   \n4                          NaN                        NaN   \n...                        ...                        ...   \n2351                       NaN                        NaN   \n2352                       NaN                        NaN   \n2353                       NaN                        NaN   \n2354                       NaN                        NaN   \n2355                       NaN                        NaN   \n\n                                          expanded_urls  rating_numerator  \\\n0     https://twitter.com/dog_rates/status/892420643...                13   \n1     https://twitter.com/dog_rates/status/892177421...                13   \n2     https://twitter.com/dog_rates/status/891815181...                12   \n3     https://twitter.com/dog_rates/status/891689557...                13   \n4     https://twitter.com/dog_rates/status/891327558...                12   \n...                                                 ...               ...   \n2351  https://twitter.com/dog_rates/status/666049248...                 5   \n2352  https://twitter.com/dog_rates/status/666044226...                 6   \n2353  https://twitter.com/dog_rates/status/666033412...                 9   \n2354  https://twitter.com/dog_rates/status/666029285...                 7   \n2355  https://twitter.com/dog_rates/status/666020888...                 8   \n\n      rating_denominator      name doggo floofer pupper puppo  \n0                     10   Phineas  None    None   None  None  \n1                     10     Tilly  None    None   None  None  \n2                     10    Archie  None    None   None  None  \n3                     10     Darla  None    None   None  None  \n4                     10  Franklin  None    None   None  None  \n...                  ...       ...   ...     ...    ...   ...  \n2351                  10      None  None    None   None  None  \n2352                  10         a  None    None   None  None  \n2353                  10         a  None    None   None  None  \n2354                  10         a  None    None   None  None  \n2355                  10      None  None    None   None  None  \n\n[1976 rows x 17 columns]",
      "text/html": "<div>\n<style scoped>\n    .dataframe tbody tr th:only-of-type {\n        vertical-align: middle;\n    }\n\n    .dataframe tbody tr th {\n        vertical-align: top;\n    }\n\n    .dataframe thead th {\n        text-align: right;\n    }\n</style>\n<table border=\"1\" class=\"dataframe\">\n  <thead>\n    <tr style=\"text-align: right;\">\n      <th></th>\n      <th>tweet_id</th>\n      <th>in_reply_to_status_id</th>\n      <th>in_reply_to_user_id</th>\n      <th>timestamp</th>\n      <th>source</th>\n      <th>text</th>\n      <th>retweeted_status_id</th>\n      <th>retweeted_status_user_id</th>\n      <th>retweeted_status_timestamp</th>\n      <th>expanded_urls</th>\n      <th>rating_numerator</th>\n      <th>rating_denominator</th>\n      <th>name</th>\n      <th>doggo</th>\n      <th>floofer</th>\n      <th>pupper</th>\n      <th>puppo</th>\n    </tr>\n  </thead>\n  <tbody>\n    <tr>\n      <th>0</th>\n      <td>892420643555336193</td>\n      <td>NaN</td>\n      <td>NaN</td>\n      <td>2017-08-01 16:23:56 +0000</td>\n      <td>&lt;a href=\"http://twitter.com/download/iphone\" r...</td>\n      <td>This is Phineas. He's a mystical boy. Only eve...</td>\n      <td>NaN</td>\n      <td>NaN</td>\n      <td>NaN</td>\n      <td>https://twitter.com/dog_rates/status/892420643...</td>\n      <td>13</td>\n      <td>10</td>\n      <td>Phineas</td>\n      <td>None</td>\n      <td>None</td>\n      <td>None</td>\n      <td>None</td>\n    </tr>\n    <tr>\n      <th>1</th>\n      <td>892177421306343426</td>\n      <td>NaN</td>\n      <td>NaN</td>\n      <td>2017-08-01 00:17:27 +0000</td>\n      <td>&lt;a href=\"http://twitter.com/download/iphone\" r...</td>\n      <td>This is Tilly. She's just checking pup on you....</td>\n      <td>NaN</td>\n      <td>NaN</td>\n      <td>NaN</td>\n      <td>https://twitter.com/dog_rates/status/892177421...</td>\n      <td>13</td>\n      <td>10</td>\n      <td>Tilly</td>\n      <td>None</td>\n      <td>None</td>\n      <td>None</td>\n      <td>None</td>\n    </tr>\n    <tr>\n      <th>2</th>\n      <td>891815181378084864</td>\n      <td>NaN</td>\n      <td>NaN</td>\n      <td>2017-07-31 00:18:03 +0000</td>\n      <td>&lt;a href=\"http://twitter.com/download/iphone\" r...</td>\n      <td>This is Archie. He is a rare Norwegian Pouncin...</td>\n      <td>NaN</td>\n      <td>NaN</td>\n      <td>NaN</td>\n      <td>https://twitter.com/dog_rates/status/891815181...</td>\n      <td>12</td>\n      <td>10</td>\n      <td>Archie</td>\n      <td>None</td>\n      <td>None</td>\n      <td>None</td>\n      <td>None</td>\n    </tr>\n    <tr>\n      <th>3</th>\n      <td>891689557279858688</td>\n      <td>NaN</td>\n      <td>NaN</td>\n      <td>2017-07-30 15:58:51 +0000</td>\n      <td>&lt;a href=\"http://twitter.com/download/iphone\" r...</td>\n      <td>This is Darla. She commenced a snooze mid meal...</td>\n      <td>NaN</td>\n      <td>NaN</td>\n      <td>NaN</td>\n      <td>https://twitter.com/dog_rates/status/891689557...</td>\n      <td>13</td>\n      <td>10</td>\n      <td>Darla</td>\n      <td>None</td>\n      <td>None</td>\n      <td>None</td>\n      <td>None</td>\n    </tr>\n    <tr>\n      <th>4</th>\n      <td>891327558926688256</td>\n      <td>NaN</td>\n      <td>NaN</td>\n      <td>2017-07-29 16:00:24 +0000</td>\n      <td>&lt;a href=\"http://twitter.com/download/iphone\" r...</td>\n      <td>This is Franklin. He would like you to stop ca...</td>\n      <td>NaN</td>\n      <td>NaN</td>\n      <td>NaN</td>\n      <td>https://twitter.com/dog_rates/status/891327558...</td>\n      <td>12</td>\n      <td>10</td>\n      <td>Franklin</td>\n      <td>None</td>\n      <td>None</td>\n      <td>None</td>\n      <td>None</td>\n    </tr>\n    <tr>\n      <th>...</th>\n      <td>...</td>\n      <td>...</td>\n      <td>...</td>\n      <td>...</td>\n      <td>...</td>\n      <td>...</td>\n      <td>...</td>\n      <td>...</td>\n      <td>...</td>\n      <td>...</td>\n      <td>...</td>\n      <td>...</td>\n      <td>...</td>\n      <td>...</td>\n      <td>...</td>\n      <td>...</td>\n      <td>...</td>\n    </tr>\n    <tr>\n      <th>2351</th>\n      <td>666049248165822465</td>\n      <td>NaN</td>\n      <td>NaN</td>\n      <td>2015-11-16 00:24:50 +0000</td>\n      <td>&lt;a href=\"http://twitter.com/download/iphone\" r...</td>\n      <td>Here we have a 1949 1st generation vulpix. Enj...</td>\n      <td>NaN</td>\n      <td>NaN</td>\n      <td>NaN</td>\n      <td>https://twitter.com/dog_rates/status/666049248...</td>\n      <td>5</td>\n      <td>10</td>\n      <td>None</td>\n      <td>None</td>\n      <td>None</td>\n      <td>None</td>\n      <td>None</td>\n    </tr>\n    <tr>\n      <th>2352</th>\n      <td>666044226329800704</td>\n      <td>NaN</td>\n      <td>NaN</td>\n      <td>2015-11-16 00:04:52 +0000</td>\n      <td>&lt;a href=\"http://twitter.com/download/iphone\" r...</td>\n      <td>This is a purebred Piers Morgan. Loves to Netf...</td>\n      <td>NaN</td>\n      <td>NaN</td>\n      <td>NaN</td>\n      <td>https://twitter.com/dog_rates/status/666044226...</td>\n      <td>6</td>\n      <td>10</td>\n      <td>a</td>\n      <td>None</td>\n      <td>None</td>\n      <td>None</td>\n      <td>None</td>\n    </tr>\n    <tr>\n      <th>2353</th>\n      <td>666033412701032449</td>\n      <td>NaN</td>\n      <td>NaN</td>\n      <td>2015-11-15 23:21:54 +0000</td>\n      <td>&lt;a href=\"http://twitter.com/download/iphone\" r...</td>\n      <td>Here is a very happy pup. Big fan of well-main...</td>\n      <td>NaN</td>\n      <td>NaN</td>\n      <td>NaN</td>\n      <td>https://twitter.com/dog_rates/status/666033412...</td>\n      <td>9</td>\n      <td>10</td>\n      <td>a</td>\n      <td>None</td>\n      <td>None</td>\n      <td>None</td>\n      <td>None</td>\n    </tr>\n    <tr>\n      <th>2354</th>\n      <td>666029285002620928</td>\n      <td>NaN</td>\n      <td>NaN</td>\n      <td>2015-11-15 23:05:30 +0000</td>\n      <td>&lt;a href=\"http://twitter.com/download/iphone\" r...</td>\n      <td>This is a western brown Mitsubishi terrier. Up...</td>\n      <td>NaN</td>\n      <td>NaN</td>\n      <td>NaN</td>\n      <td>https://twitter.com/dog_rates/status/666029285...</td>\n      <td>7</td>\n      <td>10</td>\n      <td>a</td>\n      <td>None</td>\n      <td>None</td>\n      <td>None</td>\n      <td>None</td>\n    </tr>\n    <tr>\n      <th>2355</th>\n      <td>666020888022790149</td>\n      <td>NaN</td>\n      <td>NaN</td>\n      <td>2015-11-15 22:32:08 +0000</td>\n      <td>&lt;a href=\"http://twitter.com/download/iphone\" r...</td>\n      <td>Here we have a Japanese Irish Setter. Lost eye...</td>\n      <td>NaN</td>\n      <td>NaN</td>\n      <td>NaN</td>\n      <td>https://twitter.com/dog_rates/status/666020888...</td>\n      <td>8</td>\n      <td>10</td>\n      <td>None</td>\n      <td>None</td>\n      <td>None</td>\n      <td>None</td>\n      <td>None</td>\n    </tr>\n  </tbody>\n</table>\n<p>1976 rows × 17 columns</p>\n</div>"
     },
     "metadata": {},
     "execution_count": 43
    }
   ],
   "source": [
    " tweet_av_df.query('doggo != \"doggo\" and  floofer != \"floofer\" and pupper != \"pupper\" and puppo != \"puppo\" ')"
   ]
  },
  {
   "cell_type": "code",
   "execution_count": 44,
   "metadata": {},
   "outputs": [
    {
     "output_type": "execute_result",
     "data": {
      "text/plain": "['tweet_id',\n 'in_reply_to_status_id',\n 'in_reply_to_user_id',\n 'timestamp',\n 'source',\n 'text',\n 'retweeted_status_id',\n 'retweeted_status_user_id',\n 'retweeted_status_timestamp',\n 'expanded_urls',\n 'rating_numerator',\n 'rating_denominator',\n 'name',\n 'doggo',\n 'floofer',\n 'pupper',\n 'puppo']"
     },
     "metadata": {},
     "execution_count": 44
    }
   ],
   "source": [
    "list(tweet_av_df)"
   ]
  },
  {
   "cell_type": "code",
   "execution_count": 47,
   "metadata": {},
   "outputs": [
    {
     "output_type": "execute_result",
     "data": {
      "text/plain": "17    tweet_id\n29    tweet_id\ndtype: object"
     },
     "metadata": {},
     "execution_count": 47
    }
   ],
   "source": [
    "all_columns = pd.Series(list(tweet_av_df) + list(image_pd_df) + list(mydf))\n",
    "all_columns[all_columns.duplicated()]"
   ]
  },
  {
   "cell_type": "code",
   "execution_count": 48,
   "metadata": {},
   "outputs": [
    {
     "output_type": "execute_result",
     "data": {
      "text/plain": "['tweet_id', 'favorite_count', 'retweet_count']"
     },
     "metadata": {},
     "execution_count": 48
    }
   ],
   "source": [
    "list(mydf)"
   ]
  },
  {
   "cell_type": "code",
   "execution_count": 10,
   "metadata": {
    "tags": []
   },
   "outputs": [],
   "source": [
    "def collecttweetdata(id):\n",
    "    consumer_key = 'AeFxgKcFhsENzkKD8MfoMPoA9'\n",
    "    consumer_secret = 'PErJwUZAwfmLBzZKyWBNwOpprGbUNsrro167rBYZ04JmzqmSqx'\n",
    "    auth = tweepy.AppAuthHandler(consumer_key, consumer_secret)\n",
    "    api = tweepy.API(auth)\n",
    "    try:\n",
    "        status = api.get_status(id, tweet_mode=\"extended\")\n",
    "        print(status)\n",
    "        return status\n",
    "    except tweepy.TweepError as e:\n",
    "        print(\"Fail\", e)\n",
    "        pass\n"
   ]
  },
  {
   "cell_type": "code",
   "execution_count": 11,
   "metadata": {},
   "outputs": [
    {
     "output_type": "error",
     "ename": "NameError",
     "evalue": "name 'tweet_av_df' is not defined",
     "traceback": [
      "\u001b[1;31m---------------------------------------------------------------------------\u001b[0m",
      "\u001b[1;31mNameError\u001b[0m                                 Traceback (most recent call last)",
      "\u001b[1;32m<ipython-input-11-5250ea55b981>\u001b[0m in \u001b[0;36m<module>\u001b[1;34m\u001b[0m\n\u001b[1;32m----> 1\u001b[1;33m \u001b[0mtweet_av_df\u001b[0m\u001b[1;33m.\u001b[0m\u001b[0mshape\u001b[0m\u001b[1;33m[\u001b[0m\u001b[1;36m0\u001b[0m\u001b[1;33m]\u001b[0m\u001b[1;33m\u001b[0m\u001b[1;33m\u001b[0m\u001b[0m\n\u001b[0m",
      "\u001b[1;31mNameError\u001b[0m: name 'tweet_av_df' is not defined"
     ]
    }
   ],
   "source": [
    "tweet_av_df.shape[0]"
   ]
  },
  {
   "cell_type": "code",
   "execution_count": null,
   "metadata": {},
   "outputs": [],
   "source": []
  }
 ]
}