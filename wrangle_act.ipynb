{
 "metadata": {
  "language_info": {
   "codemirror_mode": {
    "name": "ipython",
    "version": 3
   },
   "file_extension": ".py",
   "mimetype": "text/x-python",
   "name": "python",
   "nbconvert_exporter": "python",
   "pygments_lexer": "ipython3",
   "version": "3.7.6-final"
  },
  "orig_nbformat": 2,
  "kernelspec": {
   "name": "python_defaultSpec_1599591221048",
   "display_name": "Python 3"
  }
 },
 "nbformat": 4,
 "nbformat_minor": 2,
 "cells": [
  {
   "cell_type": "code",
   "execution_count": 41,
   "metadata": {},
   "outputs": [],
   "source": [
    "import pandas as pd\n",
    "import numpy as np\n",
    "import json as json\n",
    "import tweepy\n",
    "from timeit import default_timer as timer"
   ]
  },
  {
   "cell_type": "code",
   "execution_count": 2,
   "metadata": {},
   "outputs": [],
   "source": [
    "#Loading dataset\n",
    "tweet_av_df = pd.read_csv('twitter-archive-enhanced-2.csv')\n",
    "image_pred_df = pd.read_csv('image-predictions-3.tsv', sep='\\t')"
   ]
  },
  {
   "cell_type": "markdown",
   "metadata": {},
   "source": [
    "### Visual Assessement on Twitter archive content which contains basic tweet data ###\n",
    "-----\n",
    "For this project, key data assessement requirement for twitter archive data include original rating and there should be an image associated for the given rating.\n",
    "- \"expanded_urls\" is associated with image urls for a given tweet.\n",
    "- It is observed that the \"expanded_urls\" column does have missing or no values\n",
    "- \"rating_numerator\" gives us insights into the given dog rating.\n",
    "- \"tweet_id\" it unique identifier identifing each unique tweet for each dog.\n",
    "- \"timestamp\" captures the date and time specifics when a direct message was posted to weratedogs\n",
    "- 2356 records in twitter archive data set.\n",
    "\n"
   ]
  },
  {
   "cell_type": "code",
   "execution_count": 21,
   "metadata": {},
   "outputs": [
    {
     "output_type": "execute_result",
     "data": {
      "text/plain": "                tweet_id  in_reply_to_status_id  in_reply_to_user_id  \\\n0     892420643555336193                    NaN                  NaN   \n1     892177421306343426                    NaN                  NaN   \n2     891815181378084864                    NaN                  NaN   \n3     891689557279858688                    NaN                  NaN   \n4     891327558926688256                    NaN                  NaN   \n...                  ...                    ...                  ...   \n2351  666049248165822465                    NaN                  NaN   \n2352  666044226329800704                    NaN                  NaN   \n2353  666033412701032449                    NaN                  NaN   \n2354  666029285002620928                    NaN                  NaN   \n2355  666020888022790149                    NaN                  NaN   \n\n                      timestamp  \\\n0     2017-08-01 16:23:56 +0000   \n1     2017-08-01 00:17:27 +0000   \n2     2017-07-31 00:18:03 +0000   \n3     2017-07-30 15:58:51 +0000   \n4     2017-07-29 16:00:24 +0000   \n...                         ...   \n2351  2015-11-16 00:24:50 +0000   \n2352  2015-11-16 00:04:52 +0000   \n2353  2015-11-15 23:21:54 +0000   \n2354  2015-11-15 23:05:30 +0000   \n2355  2015-11-15 22:32:08 +0000   \n\n                                                 source  \\\n0     <a href=\"http://twitter.com/download/iphone\" r...   \n1     <a href=\"http://twitter.com/download/iphone\" r...   \n2     <a href=\"http://twitter.com/download/iphone\" r...   \n3     <a href=\"http://twitter.com/download/iphone\" r...   \n4     <a href=\"http://twitter.com/download/iphone\" r...   \n...                                                 ...   \n2351  <a href=\"http://twitter.com/download/iphone\" r...   \n2352  <a href=\"http://twitter.com/download/iphone\" r...   \n2353  <a href=\"http://twitter.com/download/iphone\" r...   \n2354  <a href=\"http://twitter.com/download/iphone\" r...   \n2355  <a href=\"http://twitter.com/download/iphone\" r...   \n\n                                                   text  retweeted_status_id  \\\n0     This is Phineas. He's a mystical boy. Only eve...                  NaN   \n1     This is Tilly. She's just checking pup on you....                  NaN   \n2     This is Archie. He is a rare Norwegian Pouncin...                  NaN   \n3     This is Darla. She commenced a snooze mid meal...                  NaN   \n4     This is Franklin. He would like you to stop ca...                  NaN   \n...                                                 ...                  ...   \n2351  Here we have a 1949 1st generation vulpix. Enj...                  NaN   \n2352  This is a purebred Piers Morgan. Loves to Netf...                  NaN   \n2353  Here is a very happy pup. Big fan of well-main...                  NaN   \n2354  This is a western brown Mitsubishi terrier. Up...                  NaN   \n2355  Here we have a Japanese Irish Setter. Lost eye...                  NaN   \n\n      retweeted_status_user_id retweeted_status_timestamp  \\\n0                          NaN                        NaN   \n1                          NaN                        NaN   \n2                          NaN                        NaN   \n3                          NaN                        NaN   \n4                          NaN                        NaN   \n...                        ...                        ...   \n2351                       NaN                        NaN   \n2352                       NaN                        NaN   \n2353                       NaN                        NaN   \n2354                       NaN                        NaN   \n2355                       NaN                        NaN   \n\n                                          expanded_urls  rating_numerator  \\\n0     https://twitter.com/dog_rates/status/892420643...                13   \n1     https://twitter.com/dog_rates/status/892177421...                13   \n2     https://twitter.com/dog_rates/status/891815181...                12   \n3     https://twitter.com/dog_rates/status/891689557...                13   \n4     https://twitter.com/dog_rates/status/891327558...                12   \n...                                                 ...               ...   \n2351  https://twitter.com/dog_rates/status/666049248...                 5   \n2352  https://twitter.com/dog_rates/status/666044226...                 6   \n2353  https://twitter.com/dog_rates/status/666033412...                 9   \n2354  https://twitter.com/dog_rates/status/666029285...                 7   \n2355  https://twitter.com/dog_rates/status/666020888...                 8   \n\n      rating_denominator      name doggo floofer pupper puppo  \n0                     10   Phineas  None    None   None  None  \n1                     10     Tilly  None    None   None  None  \n2                     10    Archie  None    None   None  None  \n3                     10     Darla  None    None   None  None  \n4                     10  Franklin  None    None   None  None  \n...                  ...       ...   ...     ...    ...   ...  \n2351                  10      None  None    None   None  None  \n2352                  10         a  None    None   None  None  \n2353                  10         a  None    None   None  None  \n2354                  10         a  None    None   None  None  \n2355                  10      None  None    None   None  None  \n\n[2356 rows x 17 columns]",
      "text/html": "<div>\n<style scoped>\n    .dataframe tbody tr th:only-of-type {\n        vertical-align: middle;\n    }\n\n    .dataframe tbody tr th {\n        vertical-align: top;\n    }\n\n    .dataframe thead th {\n        text-align: right;\n    }\n</style>\n<table border=\"1\" class=\"dataframe\">\n  <thead>\n    <tr style=\"text-align: right;\">\n      <th></th>\n      <th>tweet_id</th>\n      <th>in_reply_to_status_id</th>\n      <th>in_reply_to_user_id</th>\n      <th>timestamp</th>\n      <th>source</th>\n      <th>text</th>\n      <th>retweeted_status_id</th>\n      <th>retweeted_status_user_id</th>\n      <th>retweeted_status_timestamp</th>\n      <th>expanded_urls</th>\n      <th>rating_numerator</th>\n      <th>rating_denominator</th>\n      <th>name</th>\n      <th>doggo</th>\n      <th>floofer</th>\n      <th>pupper</th>\n      <th>puppo</th>\n    </tr>\n  </thead>\n  <tbody>\n    <tr>\n      <th>0</th>\n      <td>892420643555336193</td>\n      <td>NaN</td>\n      <td>NaN</td>\n      <td>2017-08-01 16:23:56 +0000</td>\n      <td>&lt;a href=\"http://twitter.com/download/iphone\" r...</td>\n      <td>This is Phineas. He's a mystical boy. Only eve...</td>\n      <td>NaN</td>\n      <td>NaN</td>\n      <td>NaN</td>\n      <td>https://twitter.com/dog_rates/status/892420643...</td>\n      <td>13</td>\n      <td>10</td>\n      <td>Phineas</td>\n      <td>None</td>\n      <td>None</td>\n      <td>None</td>\n      <td>None</td>\n    </tr>\n    <tr>\n      <th>1</th>\n      <td>892177421306343426</td>\n      <td>NaN</td>\n      <td>NaN</td>\n      <td>2017-08-01 00:17:27 +0000</td>\n      <td>&lt;a href=\"http://twitter.com/download/iphone\" r...</td>\n      <td>This is Tilly. She's just checking pup on you....</td>\n      <td>NaN</td>\n      <td>NaN</td>\n      <td>NaN</td>\n      <td>https://twitter.com/dog_rates/status/892177421...</td>\n      <td>13</td>\n      <td>10</td>\n      <td>Tilly</td>\n      <td>None</td>\n      <td>None</td>\n      <td>None</td>\n      <td>None</td>\n    </tr>\n    <tr>\n      <th>2</th>\n      <td>891815181378084864</td>\n      <td>NaN</td>\n      <td>NaN</td>\n      <td>2017-07-31 00:18:03 +0000</td>\n      <td>&lt;a href=\"http://twitter.com/download/iphone\" r...</td>\n      <td>This is Archie. He is a rare Norwegian Pouncin...</td>\n      <td>NaN</td>\n      <td>NaN</td>\n      <td>NaN</td>\n      <td>https://twitter.com/dog_rates/status/891815181...</td>\n      <td>12</td>\n      <td>10</td>\n      <td>Archie</td>\n      <td>None</td>\n      <td>None</td>\n      <td>None</td>\n      <td>None</td>\n    </tr>\n    <tr>\n      <th>3</th>\n      <td>891689557279858688</td>\n      <td>NaN</td>\n      <td>NaN</td>\n      <td>2017-07-30 15:58:51 +0000</td>\n      <td>&lt;a href=\"http://twitter.com/download/iphone\" r...</td>\n      <td>This is Darla. She commenced a snooze mid meal...</td>\n      <td>NaN</td>\n      <td>NaN</td>\n      <td>NaN</td>\n      <td>https://twitter.com/dog_rates/status/891689557...</td>\n      <td>13</td>\n      <td>10</td>\n      <td>Darla</td>\n      <td>None</td>\n      <td>None</td>\n      <td>None</td>\n      <td>None</td>\n    </tr>\n    <tr>\n      <th>4</th>\n      <td>891327558926688256</td>\n      <td>NaN</td>\n      <td>NaN</td>\n      <td>2017-07-29 16:00:24 +0000</td>\n      <td>&lt;a href=\"http://twitter.com/download/iphone\" r...</td>\n      <td>This is Franklin. He would like you to stop ca...</td>\n      <td>NaN</td>\n      <td>NaN</td>\n      <td>NaN</td>\n      <td>https://twitter.com/dog_rates/status/891327558...</td>\n      <td>12</td>\n      <td>10</td>\n      <td>Franklin</td>\n      <td>None</td>\n      <td>None</td>\n      <td>None</td>\n      <td>None</td>\n    </tr>\n    <tr>\n      <th>...</th>\n      <td>...</td>\n      <td>...</td>\n      <td>...</td>\n      <td>...</td>\n      <td>...</td>\n      <td>...</td>\n      <td>...</td>\n      <td>...</td>\n      <td>...</td>\n      <td>...</td>\n      <td>...</td>\n      <td>...</td>\n      <td>...</td>\n      <td>...</td>\n      <td>...</td>\n      <td>...</td>\n      <td>...</td>\n    </tr>\n    <tr>\n      <th>2351</th>\n      <td>666049248165822465</td>\n      <td>NaN</td>\n      <td>NaN</td>\n      <td>2015-11-16 00:24:50 +0000</td>\n      <td>&lt;a href=\"http://twitter.com/download/iphone\" r...</td>\n      <td>Here we have a 1949 1st generation vulpix. Enj...</td>\n      <td>NaN</td>\n      <td>NaN</td>\n      <td>NaN</td>\n      <td>https://twitter.com/dog_rates/status/666049248...</td>\n      <td>5</td>\n      <td>10</td>\n      <td>None</td>\n      <td>None</td>\n      <td>None</td>\n      <td>None</td>\n      <td>None</td>\n    </tr>\n    <tr>\n      <th>2352</th>\n      <td>666044226329800704</td>\n      <td>NaN</td>\n      <td>NaN</td>\n      <td>2015-11-16 00:04:52 +0000</td>\n      <td>&lt;a href=\"http://twitter.com/download/iphone\" r...</td>\n      <td>This is a purebred Piers Morgan. Loves to Netf...</td>\n      <td>NaN</td>\n      <td>NaN</td>\n      <td>NaN</td>\n      <td>https://twitter.com/dog_rates/status/666044226...</td>\n      <td>6</td>\n      <td>10</td>\n      <td>a</td>\n      <td>None</td>\n      <td>None</td>\n      <td>None</td>\n      <td>None</td>\n    </tr>\n    <tr>\n      <th>2353</th>\n      <td>666033412701032449</td>\n      <td>NaN</td>\n      <td>NaN</td>\n      <td>2015-11-15 23:21:54 +0000</td>\n      <td>&lt;a href=\"http://twitter.com/download/iphone\" r...</td>\n      <td>Here is a very happy pup. Big fan of well-main...</td>\n      <td>NaN</td>\n      <td>NaN</td>\n      <td>NaN</td>\n      <td>https://twitter.com/dog_rates/status/666033412...</td>\n      <td>9</td>\n      <td>10</td>\n      <td>a</td>\n      <td>None</td>\n      <td>None</td>\n      <td>None</td>\n      <td>None</td>\n    </tr>\n    <tr>\n      <th>2354</th>\n      <td>666029285002620928</td>\n      <td>NaN</td>\n      <td>NaN</td>\n      <td>2015-11-15 23:05:30 +0000</td>\n      <td>&lt;a href=\"http://twitter.com/download/iphone\" r...</td>\n      <td>This is a western brown Mitsubishi terrier. Up...</td>\n      <td>NaN</td>\n      <td>NaN</td>\n      <td>NaN</td>\n      <td>https://twitter.com/dog_rates/status/666029285...</td>\n      <td>7</td>\n      <td>10</td>\n      <td>a</td>\n      <td>None</td>\n      <td>None</td>\n      <td>None</td>\n      <td>None</td>\n    </tr>\n    <tr>\n      <th>2355</th>\n      <td>666020888022790149</td>\n      <td>NaN</td>\n      <td>NaN</td>\n      <td>2015-11-15 22:32:08 +0000</td>\n      <td>&lt;a href=\"http://twitter.com/download/iphone\" r...</td>\n      <td>Here we have a Japanese Irish Setter. Lost eye...</td>\n      <td>NaN</td>\n      <td>NaN</td>\n      <td>NaN</td>\n      <td>https://twitter.com/dog_rates/status/666020888...</td>\n      <td>8</td>\n      <td>10</td>\n      <td>None</td>\n      <td>None</td>\n      <td>None</td>\n      <td>None</td>\n      <td>None</td>\n    </tr>\n  </tbody>\n</table>\n<p>2356 rows × 17 columns</p>\n</div>"
     },
     "metadata": {},
     "execution_count": 21
    }
   ],
   "source": [
    "tweet_av_df"
   ]
  },
  {
   "cell_type": "markdown",
   "metadata": {},
   "source": [
    "### Programmatic Assessment on Twitter archive content which contains basic tweet data ###"
   ]
  },
  {
   "cell_type": "code",
   "execution_count": 23,
   "metadata": {
    "tags": []
   },
   "outputs": [
    {
     "output_type": "execute_result",
     "data": {
      "text/plain": "             tweet_id  in_reply_to_status_id  in_reply_to_user_id  \\\n0  892420643555336193                    NaN                  NaN   \n1  892177421306343426                    NaN                  NaN   \n2  891815181378084864                    NaN                  NaN   \n3  891689557279858688                    NaN                  NaN   \n4  891327558926688256                    NaN                  NaN   \n\n                   timestamp  \\\n0  2017-08-01 16:23:56 +0000   \n1  2017-08-01 00:17:27 +0000   \n2  2017-07-31 00:18:03 +0000   \n3  2017-07-30 15:58:51 +0000   \n4  2017-07-29 16:00:24 +0000   \n\n                                              source  \\\n0  <a href=\"http://twitter.com/download/iphone\" r...   \n1  <a href=\"http://twitter.com/download/iphone\" r...   \n2  <a href=\"http://twitter.com/download/iphone\" r...   \n3  <a href=\"http://twitter.com/download/iphone\" r...   \n4  <a href=\"http://twitter.com/download/iphone\" r...   \n\n                                                text  retweeted_status_id  \\\n0  This is Phineas. He's a mystical boy. Only eve...                  NaN   \n1  This is Tilly. She's just checking pup on you....                  NaN   \n2  This is Archie. He is a rare Norwegian Pouncin...                  NaN   \n3  This is Darla. She commenced a snooze mid meal...                  NaN   \n4  This is Franklin. He would like you to stop ca...                  NaN   \n\n   retweeted_status_user_id retweeted_status_timestamp  \\\n0                       NaN                        NaN   \n1                       NaN                        NaN   \n2                       NaN                        NaN   \n3                       NaN                        NaN   \n4                       NaN                        NaN   \n\n                                       expanded_urls  rating_numerator  \\\n0  https://twitter.com/dog_rates/status/892420643...                13   \n1  https://twitter.com/dog_rates/status/892177421...                13   \n2  https://twitter.com/dog_rates/status/891815181...                12   \n3  https://twitter.com/dog_rates/status/891689557...                13   \n4  https://twitter.com/dog_rates/status/891327558...                12   \n\n   rating_denominator      name doggo floofer pupper puppo  \n0                  10   Phineas  None    None   None  None  \n1                  10     Tilly  None    None   None  None  \n2                  10    Archie  None    None   None  None  \n3                  10     Darla  None    None   None  None  \n4                  10  Franklin  None    None   None  None  ",
      "text/html": "<div>\n<style scoped>\n    .dataframe tbody tr th:only-of-type {\n        vertical-align: middle;\n    }\n\n    .dataframe tbody tr th {\n        vertical-align: top;\n    }\n\n    .dataframe thead th {\n        text-align: right;\n    }\n</style>\n<table border=\"1\" class=\"dataframe\">\n  <thead>\n    <tr style=\"text-align: right;\">\n      <th></th>\n      <th>tweet_id</th>\n      <th>in_reply_to_status_id</th>\n      <th>in_reply_to_user_id</th>\n      <th>timestamp</th>\n      <th>source</th>\n      <th>text</th>\n      <th>retweeted_status_id</th>\n      <th>retweeted_status_user_id</th>\n      <th>retweeted_status_timestamp</th>\n      <th>expanded_urls</th>\n      <th>rating_numerator</th>\n      <th>rating_denominator</th>\n      <th>name</th>\n      <th>doggo</th>\n      <th>floofer</th>\n      <th>pupper</th>\n      <th>puppo</th>\n    </tr>\n  </thead>\n  <tbody>\n    <tr>\n      <th>0</th>\n      <td>892420643555336193</td>\n      <td>NaN</td>\n      <td>NaN</td>\n      <td>2017-08-01 16:23:56 +0000</td>\n      <td>&lt;a href=\"http://twitter.com/download/iphone\" r...</td>\n      <td>This is Phineas. He's a mystical boy. Only eve...</td>\n      <td>NaN</td>\n      <td>NaN</td>\n      <td>NaN</td>\n      <td>https://twitter.com/dog_rates/status/892420643...</td>\n      <td>13</td>\n      <td>10</td>\n      <td>Phineas</td>\n      <td>None</td>\n      <td>None</td>\n      <td>None</td>\n      <td>None</td>\n    </tr>\n    <tr>\n      <th>1</th>\n      <td>892177421306343426</td>\n      <td>NaN</td>\n      <td>NaN</td>\n      <td>2017-08-01 00:17:27 +0000</td>\n      <td>&lt;a href=\"http://twitter.com/download/iphone\" r...</td>\n      <td>This is Tilly. She's just checking pup on you....</td>\n      <td>NaN</td>\n      <td>NaN</td>\n      <td>NaN</td>\n      <td>https://twitter.com/dog_rates/status/892177421...</td>\n      <td>13</td>\n      <td>10</td>\n      <td>Tilly</td>\n      <td>None</td>\n      <td>None</td>\n      <td>None</td>\n      <td>None</td>\n    </tr>\n    <tr>\n      <th>2</th>\n      <td>891815181378084864</td>\n      <td>NaN</td>\n      <td>NaN</td>\n      <td>2017-07-31 00:18:03 +0000</td>\n      <td>&lt;a href=\"http://twitter.com/download/iphone\" r...</td>\n      <td>This is Archie. He is a rare Norwegian Pouncin...</td>\n      <td>NaN</td>\n      <td>NaN</td>\n      <td>NaN</td>\n      <td>https://twitter.com/dog_rates/status/891815181...</td>\n      <td>12</td>\n      <td>10</td>\n      <td>Archie</td>\n      <td>None</td>\n      <td>None</td>\n      <td>None</td>\n      <td>None</td>\n    </tr>\n    <tr>\n      <th>3</th>\n      <td>891689557279858688</td>\n      <td>NaN</td>\n      <td>NaN</td>\n      <td>2017-07-30 15:58:51 +0000</td>\n      <td>&lt;a href=\"http://twitter.com/download/iphone\" r...</td>\n      <td>This is Darla. She commenced a snooze mid meal...</td>\n      <td>NaN</td>\n      <td>NaN</td>\n      <td>NaN</td>\n      <td>https://twitter.com/dog_rates/status/891689557...</td>\n      <td>13</td>\n      <td>10</td>\n      <td>Darla</td>\n      <td>None</td>\n      <td>None</td>\n      <td>None</td>\n      <td>None</td>\n    </tr>\n    <tr>\n      <th>4</th>\n      <td>891327558926688256</td>\n      <td>NaN</td>\n      <td>NaN</td>\n      <td>2017-07-29 16:00:24 +0000</td>\n      <td>&lt;a href=\"http://twitter.com/download/iphone\" r...</td>\n      <td>This is Franklin. He would like you to stop ca...</td>\n      <td>NaN</td>\n      <td>NaN</td>\n      <td>NaN</td>\n      <td>https://twitter.com/dog_rates/status/891327558...</td>\n      <td>12</td>\n      <td>10</td>\n      <td>Franklin</td>\n      <td>None</td>\n      <td>None</td>\n      <td>None</td>\n      <td>None</td>\n    </tr>\n  </tbody>\n</table>\n</div>"
     },
     "metadata": {},
     "execution_count": 23
    }
   ],
   "source": [
    "tweet_av_df.head()"
   ]
  },
  {
   "cell_type": "code",
   "execution_count": 24,
   "metadata": {},
   "outputs": [
    {
     "output_type": "execute_result",
     "data": {
      "text/plain": "                tweet_id  in_reply_to_status_id  in_reply_to_user_id  \\\n2351  666049248165822465                    NaN                  NaN   \n2352  666044226329800704                    NaN                  NaN   \n2353  666033412701032449                    NaN                  NaN   \n2354  666029285002620928                    NaN                  NaN   \n2355  666020888022790149                    NaN                  NaN   \n\n                      timestamp  \\\n2351  2015-11-16 00:24:50 +0000   \n2352  2015-11-16 00:04:52 +0000   \n2353  2015-11-15 23:21:54 +0000   \n2354  2015-11-15 23:05:30 +0000   \n2355  2015-11-15 22:32:08 +0000   \n\n                                                 source  \\\n2351  <a href=\"http://twitter.com/download/iphone\" r...   \n2352  <a href=\"http://twitter.com/download/iphone\" r...   \n2353  <a href=\"http://twitter.com/download/iphone\" r...   \n2354  <a href=\"http://twitter.com/download/iphone\" r...   \n2355  <a href=\"http://twitter.com/download/iphone\" r...   \n\n                                                   text  retweeted_status_id  \\\n2351  Here we have a 1949 1st generation vulpix. Enj...                  NaN   \n2352  This is a purebred Piers Morgan. Loves to Netf...                  NaN   \n2353  Here is a very happy pup. Big fan of well-main...                  NaN   \n2354  This is a western brown Mitsubishi terrier. Up...                  NaN   \n2355  Here we have a Japanese Irish Setter. Lost eye...                  NaN   \n\n      retweeted_status_user_id retweeted_status_timestamp  \\\n2351                       NaN                        NaN   \n2352                       NaN                        NaN   \n2353                       NaN                        NaN   \n2354                       NaN                        NaN   \n2355                       NaN                        NaN   \n\n                                          expanded_urls  rating_numerator  \\\n2351  https://twitter.com/dog_rates/status/666049248...                 5   \n2352  https://twitter.com/dog_rates/status/666044226...                 6   \n2353  https://twitter.com/dog_rates/status/666033412...                 9   \n2354  https://twitter.com/dog_rates/status/666029285...                 7   \n2355  https://twitter.com/dog_rates/status/666020888...                 8   \n\n      rating_denominator  name doggo floofer pupper puppo  \n2351                  10  None  None    None   None  None  \n2352                  10     a  None    None   None  None  \n2353                  10     a  None    None   None  None  \n2354                  10     a  None    None   None  None  \n2355                  10  None  None    None   None  None  ",
      "text/html": "<div>\n<style scoped>\n    .dataframe tbody tr th:only-of-type {\n        vertical-align: middle;\n    }\n\n    .dataframe tbody tr th {\n        vertical-align: top;\n    }\n\n    .dataframe thead th {\n        text-align: right;\n    }\n</style>\n<table border=\"1\" class=\"dataframe\">\n  <thead>\n    <tr style=\"text-align: right;\">\n      <th></th>\n      <th>tweet_id</th>\n      <th>in_reply_to_status_id</th>\n      <th>in_reply_to_user_id</th>\n      <th>timestamp</th>\n      <th>source</th>\n      <th>text</th>\n      <th>retweeted_status_id</th>\n      <th>retweeted_status_user_id</th>\n      <th>retweeted_status_timestamp</th>\n      <th>expanded_urls</th>\n      <th>rating_numerator</th>\n      <th>rating_denominator</th>\n      <th>name</th>\n      <th>doggo</th>\n      <th>floofer</th>\n      <th>pupper</th>\n      <th>puppo</th>\n    </tr>\n  </thead>\n  <tbody>\n    <tr>\n      <th>2351</th>\n      <td>666049248165822465</td>\n      <td>NaN</td>\n      <td>NaN</td>\n      <td>2015-11-16 00:24:50 +0000</td>\n      <td>&lt;a href=\"http://twitter.com/download/iphone\" r...</td>\n      <td>Here we have a 1949 1st generation vulpix. Enj...</td>\n      <td>NaN</td>\n      <td>NaN</td>\n      <td>NaN</td>\n      <td>https://twitter.com/dog_rates/status/666049248...</td>\n      <td>5</td>\n      <td>10</td>\n      <td>None</td>\n      <td>None</td>\n      <td>None</td>\n      <td>None</td>\n      <td>None</td>\n    </tr>\n    <tr>\n      <th>2352</th>\n      <td>666044226329800704</td>\n      <td>NaN</td>\n      <td>NaN</td>\n      <td>2015-11-16 00:04:52 +0000</td>\n      <td>&lt;a href=\"http://twitter.com/download/iphone\" r...</td>\n      <td>This is a purebred Piers Morgan. Loves to Netf...</td>\n      <td>NaN</td>\n      <td>NaN</td>\n      <td>NaN</td>\n      <td>https://twitter.com/dog_rates/status/666044226...</td>\n      <td>6</td>\n      <td>10</td>\n      <td>a</td>\n      <td>None</td>\n      <td>None</td>\n      <td>None</td>\n      <td>None</td>\n    </tr>\n    <tr>\n      <th>2353</th>\n      <td>666033412701032449</td>\n      <td>NaN</td>\n      <td>NaN</td>\n      <td>2015-11-15 23:21:54 +0000</td>\n      <td>&lt;a href=\"http://twitter.com/download/iphone\" r...</td>\n      <td>Here is a very happy pup. Big fan of well-main...</td>\n      <td>NaN</td>\n      <td>NaN</td>\n      <td>NaN</td>\n      <td>https://twitter.com/dog_rates/status/666033412...</td>\n      <td>9</td>\n      <td>10</td>\n      <td>a</td>\n      <td>None</td>\n      <td>None</td>\n      <td>None</td>\n      <td>None</td>\n    </tr>\n    <tr>\n      <th>2354</th>\n      <td>666029285002620928</td>\n      <td>NaN</td>\n      <td>NaN</td>\n      <td>2015-11-15 23:05:30 +0000</td>\n      <td>&lt;a href=\"http://twitter.com/download/iphone\" r...</td>\n      <td>This is a western brown Mitsubishi terrier. Up...</td>\n      <td>NaN</td>\n      <td>NaN</td>\n      <td>NaN</td>\n      <td>https://twitter.com/dog_rates/status/666029285...</td>\n      <td>7</td>\n      <td>10</td>\n      <td>a</td>\n      <td>None</td>\n      <td>None</td>\n      <td>None</td>\n      <td>None</td>\n    </tr>\n    <tr>\n      <th>2355</th>\n      <td>666020888022790149</td>\n      <td>NaN</td>\n      <td>NaN</td>\n      <td>2015-11-15 22:32:08 +0000</td>\n      <td>&lt;a href=\"http://twitter.com/download/iphone\" r...</td>\n      <td>Here we have a Japanese Irish Setter. Lost eye...</td>\n      <td>NaN</td>\n      <td>NaN</td>\n      <td>NaN</td>\n      <td>https://twitter.com/dog_rates/status/666020888...</td>\n      <td>8</td>\n      <td>10</td>\n      <td>None</td>\n      <td>None</td>\n      <td>None</td>\n      <td>None</td>\n      <td>None</td>\n    </tr>\n  </tbody>\n</table>\n</div>"
     },
     "metadata": {},
     "execution_count": 24
    }
   ],
   "source": [
    "tweet_av_df.tail()"
   ]
  },
  {
   "cell_type": "code",
   "execution_count": 25,
   "metadata": {},
   "outputs": [
    {
     "output_type": "execute_result",
     "data": {
      "text/plain": "                tweet_id  in_reply_to_status_id  in_reply_to_user_id  \\\n748   779377524342161408                    NaN                  NaN   \n1821  676582956622721024                    NaN                  NaN   \n410   823322678127919110                    NaN                  NaN   \n907   757741869644341248                    NaN                  NaN   \n300   836753516572119041                    NaN                  NaN   \n\n                      timestamp  \\\n748   2016-09-23 17:50:56 +0000   \n1821  2015-12-15 02:02:01 +0000   \n410   2017-01-23 00:13:17 +0000   \n907   2016-07-26 00:58:34 +0000   \n300   2017-03-01 01:42:39 +0000   \n\n                                                 source  \\\n748   <a href=\"http://twitter.com/download/iphone\" r...   \n1821  <a href=\"http://twitter.com/download/iphone\" r...   \n410   <a href=\"http://twitter.com/download/iphone\" r...   \n907   <a href=\"http://twitter.com/download/iphone\" r...   \n300   <a href=\"http://twitter.com/download/iphone\" r...   \n\n                                                   text  retweeted_status_id  \\\n748   Have you ever seen such a smol pupper? Portabl...                  NaN   \n1821  Meet Vinnie. He's having fun while being safe....                  NaN   \n410   This is Wyatt. He's got the fastest paws in th...                  NaN   \n907   This is Leonard. He hides in bushes to escape ...                  NaN   \n300   This is Meera. She just heard about taxes and ...                  NaN   \n\n      retweeted_status_user_id retweeted_status_timestamp  \\\n748                        NaN                        NaN   \n1821                       NaN                        NaN   \n410                        NaN                        NaN   \n907                        NaN                        NaN   \n300                        NaN                        NaN   \n\n                                          expanded_urls  rating_numerator  \\\n748   https://twitter.com/dog_rates/status/779377524...                12   \n1821  https://twitter.com/dog_rates/status/676582956...                 8   \n410   https://twitter.com/dog_rates/status/823322678...                11   \n907   https://twitter.com/dog_rates/status/757741869...                10   \n300   https://twitter.com/dog_rates/status/836753516...                12   \n\n      rating_denominator     name  doggo floofer  pupper puppo  \n748                   10     None   None    None  pupper  None  \n1821                  10   Vinnie   None    None    None  None  \n410                   10    Wyatt   None    None    None  None  \n907                   10  Leonard   None    None    None  None  \n300                   10    Meera  doggo    None    None  None  ",
      "text/html": "<div>\n<style scoped>\n    .dataframe tbody tr th:only-of-type {\n        vertical-align: middle;\n    }\n\n    .dataframe tbody tr th {\n        vertical-align: top;\n    }\n\n    .dataframe thead th {\n        text-align: right;\n    }\n</style>\n<table border=\"1\" class=\"dataframe\">\n  <thead>\n    <tr style=\"text-align: right;\">\n      <th></th>\n      <th>tweet_id</th>\n      <th>in_reply_to_status_id</th>\n      <th>in_reply_to_user_id</th>\n      <th>timestamp</th>\n      <th>source</th>\n      <th>text</th>\n      <th>retweeted_status_id</th>\n      <th>retweeted_status_user_id</th>\n      <th>retweeted_status_timestamp</th>\n      <th>expanded_urls</th>\n      <th>rating_numerator</th>\n      <th>rating_denominator</th>\n      <th>name</th>\n      <th>doggo</th>\n      <th>floofer</th>\n      <th>pupper</th>\n      <th>puppo</th>\n    </tr>\n  </thead>\n  <tbody>\n    <tr>\n      <th>748</th>\n      <td>779377524342161408</td>\n      <td>NaN</td>\n      <td>NaN</td>\n      <td>2016-09-23 17:50:56 +0000</td>\n      <td>&lt;a href=\"http://twitter.com/download/iphone\" r...</td>\n      <td>Have you ever seen such a smol pupper? Portabl...</td>\n      <td>NaN</td>\n      <td>NaN</td>\n      <td>NaN</td>\n      <td>https://twitter.com/dog_rates/status/779377524...</td>\n      <td>12</td>\n      <td>10</td>\n      <td>None</td>\n      <td>None</td>\n      <td>None</td>\n      <td>pupper</td>\n      <td>None</td>\n    </tr>\n    <tr>\n      <th>1821</th>\n      <td>676582956622721024</td>\n      <td>NaN</td>\n      <td>NaN</td>\n      <td>2015-12-15 02:02:01 +0000</td>\n      <td>&lt;a href=\"http://twitter.com/download/iphone\" r...</td>\n      <td>Meet Vinnie. He's having fun while being safe....</td>\n      <td>NaN</td>\n      <td>NaN</td>\n      <td>NaN</td>\n      <td>https://twitter.com/dog_rates/status/676582956...</td>\n      <td>8</td>\n      <td>10</td>\n      <td>Vinnie</td>\n      <td>None</td>\n      <td>None</td>\n      <td>None</td>\n      <td>None</td>\n    </tr>\n    <tr>\n      <th>410</th>\n      <td>823322678127919110</td>\n      <td>NaN</td>\n      <td>NaN</td>\n      <td>2017-01-23 00:13:17 +0000</td>\n      <td>&lt;a href=\"http://twitter.com/download/iphone\" r...</td>\n      <td>This is Wyatt. He's got the fastest paws in th...</td>\n      <td>NaN</td>\n      <td>NaN</td>\n      <td>NaN</td>\n      <td>https://twitter.com/dog_rates/status/823322678...</td>\n      <td>11</td>\n      <td>10</td>\n      <td>Wyatt</td>\n      <td>None</td>\n      <td>None</td>\n      <td>None</td>\n      <td>None</td>\n    </tr>\n    <tr>\n      <th>907</th>\n      <td>757741869644341248</td>\n      <td>NaN</td>\n      <td>NaN</td>\n      <td>2016-07-26 00:58:34 +0000</td>\n      <td>&lt;a href=\"http://twitter.com/download/iphone\" r...</td>\n      <td>This is Leonard. He hides in bushes to escape ...</td>\n      <td>NaN</td>\n      <td>NaN</td>\n      <td>NaN</td>\n      <td>https://twitter.com/dog_rates/status/757741869...</td>\n      <td>10</td>\n      <td>10</td>\n      <td>Leonard</td>\n      <td>None</td>\n      <td>None</td>\n      <td>None</td>\n      <td>None</td>\n    </tr>\n    <tr>\n      <th>300</th>\n      <td>836753516572119041</td>\n      <td>NaN</td>\n      <td>NaN</td>\n      <td>2017-03-01 01:42:39 +0000</td>\n      <td>&lt;a href=\"http://twitter.com/download/iphone\" r...</td>\n      <td>This is Meera. She just heard about taxes and ...</td>\n      <td>NaN</td>\n      <td>NaN</td>\n      <td>NaN</td>\n      <td>https://twitter.com/dog_rates/status/836753516...</td>\n      <td>12</td>\n      <td>10</td>\n      <td>Meera</td>\n      <td>doggo</td>\n      <td>None</td>\n      <td>None</td>\n      <td>None</td>\n    </tr>\n  </tbody>\n</table>\n</div>"
     },
     "metadata": {},
     "execution_count": 25
    }
   ],
   "source": [
    "tweet_av_df.sample(5)"
   ]
  },
  {
   "cell_type": "code",
   "execution_count": 26,
   "metadata": {
    "tags": []
   },
   "outputs": [
    {
     "output_type": "stream",
     "name": "stdout",
     "text": "<class 'pandas.core.frame.DataFrame'>\nRangeIndex: 2356 entries, 0 to 2355\nData columns (total 17 columns):\n #   Column                      Non-Null Count  Dtype  \n---  ------                      --------------  -----  \n 0   tweet_id                    2356 non-null   int64  \n 1   in_reply_to_status_id       78 non-null     float64\n 2   in_reply_to_user_id         78 non-null     float64\n 3   timestamp                   2356 non-null   object \n 4   source                      2356 non-null   object \n 5   text                        2356 non-null   object \n 6   retweeted_status_id         181 non-null    float64\n 7   retweeted_status_user_id    181 non-null    float64\n 8   retweeted_status_timestamp  181 non-null    object \n 9   expanded_urls               2297 non-null   object \n 10  rating_numerator            2356 non-null   int64  \n 11  rating_denominator          2356 non-null   int64  \n 12  name                        2356 non-null   object \n 13  doggo                       2356 non-null   object \n 14  floofer                     2356 non-null   object \n 15  pupper                      2356 non-null   object \n 16  puppo                       2356 non-null   object \ndtypes: float64(4), int64(3), object(10)\nmemory usage: 313.0+ KB\n"
    }
   ],
   "source": [
    "tweet_av_df.info()"
   ]
  },
  {
   "cell_type": "code",
   "execution_count": 27,
   "metadata": {},
   "outputs": [
    {
     "output_type": "execute_result",
     "data": {
      "text/plain": "count    2356.000000\nmean       13.126486\nstd        45.876648\nmin         0.000000\n25%        10.000000\n50%        11.000000\n75%        12.000000\nmax      1776.000000\nName: rating_numerator, dtype: float64"
     },
     "metadata": {},
     "execution_count": 27
    }
   ],
   "source": [
    "tweet_av_df.rating_numerator.describe()"
   ]
  },
  {
   "cell_type": "code",
   "execution_count": 31,
   "metadata": {},
   "outputs": [
    {
     "output_type": "execute_result",
     "data": {
      "text/plain": "          doggo  floofer  pupper   puppo\nNone     2259.0   2346.0  2099.0  2326.0\ndoggo      97.0      NaN     NaN     NaN\nfloofer     NaN     10.0     NaN     NaN\npupper      NaN      NaN   257.0     NaN\npuppo       NaN      NaN     NaN    30.0",
      "text/html": "<div>\n<style scoped>\n    .dataframe tbody tr th:only-of-type {\n        vertical-align: middle;\n    }\n\n    .dataframe tbody tr th {\n        vertical-align: top;\n    }\n\n    .dataframe thead th {\n        text-align: right;\n    }\n</style>\n<table border=\"1\" class=\"dataframe\">\n  <thead>\n    <tr style=\"text-align: right;\">\n      <th></th>\n      <th>doggo</th>\n      <th>floofer</th>\n      <th>pupper</th>\n      <th>puppo</th>\n    </tr>\n  </thead>\n  <tbody>\n    <tr>\n      <th>None</th>\n      <td>2259.0</td>\n      <td>2346.0</td>\n      <td>2099.0</td>\n      <td>2326.0</td>\n    </tr>\n    <tr>\n      <th>doggo</th>\n      <td>97.0</td>\n      <td>NaN</td>\n      <td>NaN</td>\n      <td>NaN</td>\n    </tr>\n    <tr>\n      <th>floofer</th>\n      <td>NaN</td>\n      <td>10.0</td>\n      <td>NaN</td>\n      <td>NaN</td>\n    </tr>\n    <tr>\n      <th>pupper</th>\n      <td>NaN</td>\n      <td>NaN</td>\n      <td>257.0</td>\n      <td>NaN</td>\n    </tr>\n    <tr>\n      <th>puppo</th>\n      <td>NaN</td>\n      <td>NaN</td>\n      <td>NaN</td>\n      <td>30.0</td>\n    </tr>\n  </tbody>\n</table>\n</div>"
     },
     "metadata": {},
     "execution_count": 31
    }
   ],
   "source": [
    "tweet_av_df[['doggo', 'floofer', 'pupper', 'puppo']].apply(pd.Series.value_counts)"
   ]
  },
  {
   "cell_type": "markdown",
   "metadata": {},
   "source": [
    "### Assessment Findings on Twitter archive data set ###\n",
    "------\n",
    "** Data Quality Issues **\n",
    "\n",
    "\n",
    "- Completeness: The following columns are incomplete - and have missing values. \n",
    "'in_reply_to_status_id', 'in_reply_to_user_id', 'retweeted_status_id','retweeted_status_user_id', 'retweeted_status_timestamp','expanded_urls'.\n",
    "\n",
    "- Consistency: 'in_reply_to_user_id', 'retweeted_status_user_id' (status ids are sometimes populated with user_id).\n",
    "\n",
    "- Validity: 'rating_denominator' has 0 values in it. This will result in 0 rating for dogs.\n",
    "\n",
    "- Erroneous data types: 'timestamp', 'retweeted_status_timestamp' has been set as object type.\n",
    "\n",
    "- Erroneous data types: 'in_reply_to_status_id', 'in_reply_to_user_id', 'retweeted_status_id','retweeted_status_user_id' should be int type.\n",
    "\n",
    "- Accuracy: 'name' column has inaccurate values.\n",
    "\n",
    "\n",
    "\n",
    "\n",
    "\n",
    "\n"
   ]
  },
  {
   "cell_type": "markdown",
   "metadata": {},
   "source": [
    "### Assessment on Image Predection Data set ###"
   ]
  },
  {
   "cell_type": "code",
   "execution_count": 33,
   "metadata": {},
   "outputs": [
    {
     "output_type": "execute_result",
     "data": {
      "text/plain": "             tweet_id                                          jpg_url  \\\n0  666020888022790149  https://pbs.twimg.com/media/CT4udn0WwAA0aMy.jpg   \n1  666029285002620928  https://pbs.twimg.com/media/CT42GRgUYAA5iDo.jpg   \n2  666033412701032449  https://pbs.twimg.com/media/CT4521TWwAEvMyu.jpg   \n3  666044226329800704  https://pbs.twimg.com/media/CT5Dr8HUEAA-lEu.jpg   \n4  666049248165822465  https://pbs.twimg.com/media/CT5IQmsXIAAKY4A.jpg   \n\n   img_num                      p1   p1_conf  p1_dog                  p2  \\\n0        1  Welsh_springer_spaniel  0.465074    True              collie   \n1        1                 redbone  0.506826    True  miniature_pinscher   \n2        1         German_shepherd  0.596461    True            malinois   \n3        1     Rhodesian_ridgeback  0.408143    True             redbone   \n4        1      miniature_pinscher  0.560311    True          Rottweiler   \n\n    p2_conf  p2_dog                   p3   p3_conf  p3_dog  \n0  0.156665    True    Shetland_sheepdog  0.061428    True  \n1  0.074192    True  Rhodesian_ridgeback  0.072010    True  \n2  0.138584    True           bloodhound  0.116197    True  \n3  0.360687    True   miniature_pinscher  0.222752    True  \n4  0.243682    True             Doberman  0.154629    True  ",
      "text/html": "<div>\n<style scoped>\n    .dataframe tbody tr th:only-of-type {\n        vertical-align: middle;\n    }\n\n    .dataframe tbody tr th {\n        vertical-align: top;\n    }\n\n    .dataframe thead th {\n        text-align: right;\n    }\n</style>\n<table border=\"1\" class=\"dataframe\">\n  <thead>\n    <tr style=\"text-align: right;\">\n      <th></th>\n      <th>tweet_id</th>\n      <th>jpg_url</th>\n      <th>img_num</th>\n      <th>p1</th>\n      <th>p1_conf</th>\n      <th>p1_dog</th>\n      <th>p2</th>\n      <th>p2_conf</th>\n      <th>p2_dog</th>\n      <th>p3</th>\n      <th>p3_conf</th>\n      <th>p3_dog</th>\n    </tr>\n  </thead>\n  <tbody>\n    <tr>\n      <th>0</th>\n      <td>666020888022790149</td>\n      <td>https://pbs.twimg.com/media/CT4udn0WwAA0aMy.jpg</td>\n      <td>1</td>\n      <td>Welsh_springer_spaniel</td>\n      <td>0.465074</td>\n      <td>True</td>\n      <td>collie</td>\n      <td>0.156665</td>\n      <td>True</td>\n      <td>Shetland_sheepdog</td>\n      <td>0.061428</td>\n      <td>True</td>\n    </tr>\n    <tr>\n      <th>1</th>\n      <td>666029285002620928</td>\n      <td>https://pbs.twimg.com/media/CT42GRgUYAA5iDo.jpg</td>\n      <td>1</td>\n      <td>redbone</td>\n      <td>0.506826</td>\n      <td>True</td>\n      <td>miniature_pinscher</td>\n      <td>0.074192</td>\n      <td>True</td>\n      <td>Rhodesian_ridgeback</td>\n      <td>0.072010</td>\n      <td>True</td>\n    </tr>\n    <tr>\n      <th>2</th>\n      <td>666033412701032449</td>\n      <td>https://pbs.twimg.com/media/CT4521TWwAEvMyu.jpg</td>\n      <td>1</td>\n      <td>German_shepherd</td>\n      <td>0.596461</td>\n      <td>True</td>\n      <td>malinois</td>\n      <td>0.138584</td>\n      <td>True</td>\n      <td>bloodhound</td>\n      <td>0.116197</td>\n      <td>True</td>\n    </tr>\n    <tr>\n      <th>3</th>\n      <td>666044226329800704</td>\n      <td>https://pbs.twimg.com/media/CT5Dr8HUEAA-lEu.jpg</td>\n      <td>1</td>\n      <td>Rhodesian_ridgeback</td>\n      <td>0.408143</td>\n      <td>True</td>\n      <td>redbone</td>\n      <td>0.360687</td>\n      <td>True</td>\n      <td>miniature_pinscher</td>\n      <td>0.222752</td>\n      <td>True</td>\n    </tr>\n    <tr>\n      <th>4</th>\n      <td>666049248165822465</td>\n      <td>https://pbs.twimg.com/media/CT5IQmsXIAAKY4A.jpg</td>\n      <td>1</td>\n      <td>miniature_pinscher</td>\n      <td>0.560311</td>\n      <td>True</td>\n      <td>Rottweiler</td>\n      <td>0.243682</td>\n      <td>True</td>\n      <td>Doberman</td>\n      <td>0.154629</td>\n      <td>True</td>\n    </tr>\n  </tbody>\n</table>\n</div>"
     },
     "metadata": {},
     "execution_count": 33
    }
   ],
   "source": [
    "image_pred_df.head()"
   ]
  },
  {
   "cell_type": "code",
   "execution_count": 34,
   "metadata": {},
   "outputs": [
    {
     "output_type": "execute_result",
     "data": {
      "text/plain": "                tweet_id                                          jpg_url  \\\n2070  891327558926688256  https://pbs.twimg.com/media/DF6hr6BUMAAzZgT.jpg   \n2071  891689557279858688  https://pbs.twimg.com/media/DF_q7IAWsAEuuN8.jpg   \n2072  891815181378084864  https://pbs.twimg.com/media/DGBdLU1WsAANxJ9.jpg   \n2073  892177421306343426  https://pbs.twimg.com/media/DGGmoV4XsAAUL6n.jpg   \n2074  892420643555336193  https://pbs.twimg.com/media/DGKD1-bXoAAIAUK.jpg   \n\n      img_num           p1   p1_conf  p1_dog                  p2   p2_conf  \\\n2070        2       basset  0.555712    True    English_springer  0.225770   \n2071        1  paper_towel  0.170278   False  Labrador_retriever  0.168086   \n2072        1    Chihuahua  0.716012    True            malamute  0.078253   \n2073        1    Chihuahua  0.323581    True            Pekinese  0.090647   \n2074        1       orange  0.097049   False               bagel  0.085851   \n\n      p2_dog                           p3   p3_conf  p3_dog  \n2070    True  German_short-haired_pointer  0.175219    True  \n2071    True                      spatula  0.040836   False  \n2072    True                       kelpie  0.031379    True  \n2073    True                     papillon  0.068957    True  \n2074   False                       banana  0.076110   False  ",
      "text/html": "<div>\n<style scoped>\n    .dataframe tbody tr th:only-of-type {\n        vertical-align: middle;\n    }\n\n    .dataframe tbody tr th {\n        vertical-align: top;\n    }\n\n    .dataframe thead th {\n        text-align: right;\n    }\n</style>\n<table border=\"1\" class=\"dataframe\">\n  <thead>\n    <tr style=\"text-align: right;\">\n      <th></th>\n      <th>tweet_id</th>\n      <th>jpg_url</th>\n      <th>img_num</th>\n      <th>p1</th>\n      <th>p1_conf</th>\n      <th>p1_dog</th>\n      <th>p2</th>\n      <th>p2_conf</th>\n      <th>p2_dog</th>\n      <th>p3</th>\n      <th>p3_conf</th>\n      <th>p3_dog</th>\n    </tr>\n  </thead>\n  <tbody>\n    <tr>\n      <th>2070</th>\n      <td>891327558926688256</td>\n      <td>https://pbs.twimg.com/media/DF6hr6BUMAAzZgT.jpg</td>\n      <td>2</td>\n      <td>basset</td>\n      <td>0.555712</td>\n      <td>True</td>\n      <td>English_springer</td>\n      <td>0.225770</td>\n      <td>True</td>\n      <td>German_short-haired_pointer</td>\n      <td>0.175219</td>\n      <td>True</td>\n    </tr>\n    <tr>\n      <th>2071</th>\n      <td>891689557279858688</td>\n      <td>https://pbs.twimg.com/media/DF_q7IAWsAEuuN8.jpg</td>\n      <td>1</td>\n      <td>paper_towel</td>\n      <td>0.170278</td>\n      <td>False</td>\n      <td>Labrador_retriever</td>\n      <td>0.168086</td>\n      <td>True</td>\n      <td>spatula</td>\n      <td>0.040836</td>\n      <td>False</td>\n    </tr>\n    <tr>\n      <th>2072</th>\n      <td>891815181378084864</td>\n      <td>https://pbs.twimg.com/media/DGBdLU1WsAANxJ9.jpg</td>\n      <td>1</td>\n      <td>Chihuahua</td>\n      <td>0.716012</td>\n      <td>True</td>\n      <td>malamute</td>\n      <td>0.078253</td>\n      <td>True</td>\n      <td>kelpie</td>\n      <td>0.031379</td>\n      <td>True</td>\n    </tr>\n    <tr>\n      <th>2073</th>\n      <td>892177421306343426</td>\n      <td>https://pbs.twimg.com/media/DGGmoV4XsAAUL6n.jpg</td>\n      <td>1</td>\n      <td>Chihuahua</td>\n      <td>0.323581</td>\n      <td>True</td>\n      <td>Pekinese</td>\n      <td>0.090647</td>\n      <td>True</td>\n      <td>papillon</td>\n      <td>0.068957</td>\n      <td>True</td>\n    </tr>\n    <tr>\n      <th>2074</th>\n      <td>892420643555336193</td>\n      <td>https://pbs.twimg.com/media/DGKD1-bXoAAIAUK.jpg</td>\n      <td>1</td>\n      <td>orange</td>\n      <td>0.097049</td>\n      <td>False</td>\n      <td>bagel</td>\n      <td>0.085851</td>\n      <td>False</td>\n      <td>banana</td>\n      <td>0.076110</td>\n      <td>False</td>\n    </tr>\n  </tbody>\n</table>\n</div>"
     },
     "metadata": {},
     "execution_count": 34
    }
   ],
   "source": [
    "image_pred_df.tail()"
   ]
  },
  {
   "cell_type": "code",
   "execution_count": 35,
   "metadata": {
    "tags": []
   },
   "outputs": [
    {
     "output_type": "execute_result",
     "data": {
      "text/plain": "                tweet_id                                          jpg_url  \\\n402   673697980713705472  https://pbs.twimg.com/media/CVl0vFeWoAAMTfg.jpg   \n1014  709566166965075968  https://pbs.twimg.com/media/Cdjiqi6XIAIUOg-.jpg   \n721   685973236358713344  https://pbs.twimg.com/media/CYURBGoWYAAKey3.jpg   \n1764  826476773533745153  https://pbs.twimg.com/media/C3g8M0lWIAEcFgn.jpg   \n1268  749417653287129088  https://pbs.twimg.com/media/CmZ3YH9WEAAowi3.jpg   \n\n      img_num               p1   p1_conf  p1_dog                 p2   p2_conf  \\\n402         1        porcupine  0.151876   False                hen  0.111380   \n1014        1             chow  0.999837    True    Tibetan_mastiff  0.000117   \n721         1   Siberian_husky  0.450678    True         Eskimo_dog  0.430275   \n1764        1  German_shepherd  0.741860    True    Tibetan_mastiff  0.122812   \n1268        2         papillon  0.772894    True  Shetland_sheepdog  0.042408   \n\n      p2_dog                  p3   p3_conf  p3_dog  \n402    False             doormat  0.058934   False  \n1014    True  Australian_terrier  0.000011    True  \n721     True            malamute  0.118590    True  \n1764    True              kelpie  0.100460    True  \n1268    True              collie  0.042313    True  ",
      "text/html": "<div>\n<style scoped>\n    .dataframe tbody tr th:only-of-type {\n        vertical-align: middle;\n    }\n\n    .dataframe tbody tr th {\n        vertical-align: top;\n    }\n\n    .dataframe thead th {\n        text-align: right;\n    }\n</style>\n<table border=\"1\" class=\"dataframe\">\n  <thead>\n    <tr style=\"text-align: right;\">\n      <th></th>\n      <th>tweet_id</th>\n      <th>jpg_url</th>\n      <th>img_num</th>\n      <th>p1</th>\n      <th>p1_conf</th>\n      <th>p1_dog</th>\n      <th>p2</th>\n      <th>p2_conf</th>\n      <th>p2_dog</th>\n      <th>p3</th>\n      <th>p3_conf</th>\n      <th>p3_dog</th>\n    </tr>\n  </thead>\n  <tbody>\n    <tr>\n      <th>402</th>\n      <td>673697980713705472</td>\n      <td>https://pbs.twimg.com/media/CVl0vFeWoAAMTfg.jpg</td>\n      <td>1</td>\n      <td>porcupine</td>\n      <td>0.151876</td>\n      <td>False</td>\n      <td>hen</td>\n      <td>0.111380</td>\n      <td>False</td>\n      <td>doormat</td>\n      <td>0.058934</td>\n      <td>False</td>\n    </tr>\n    <tr>\n      <th>1014</th>\n      <td>709566166965075968</td>\n      <td>https://pbs.twimg.com/media/Cdjiqi6XIAIUOg-.jpg</td>\n      <td>1</td>\n      <td>chow</td>\n      <td>0.999837</td>\n      <td>True</td>\n      <td>Tibetan_mastiff</td>\n      <td>0.000117</td>\n      <td>True</td>\n      <td>Australian_terrier</td>\n      <td>0.000011</td>\n      <td>True</td>\n    </tr>\n    <tr>\n      <th>721</th>\n      <td>685973236358713344</td>\n      <td>https://pbs.twimg.com/media/CYURBGoWYAAKey3.jpg</td>\n      <td>1</td>\n      <td>Siberian_husky</td>\n      <td>0.450678</td>\n      <td>True</td>\n      <td>Eskimo_dog</td>\n      <td>0.430275</td>\n      <td>True</td>\n      <td>malamute</td>\n      <td>0.118590</td>\n      <td>True</td>\n    </tr>\n    <tr>\n      <th>1764</th>\n      <td>826476773533745153</td>\n      <td>https://pbs.twimg.com/media/C3g8M0lWIAEcFgn.jpg</td>\n      <td>1</td>\n      <td>German_shepherd</td>\n      <td>0.741860</td>\n      <td>True</td>\n      <td>Tibetan_mastiff</td>\n      <td>0.122812</td>\n      <td>True</td>\n      <td>kelpie</td>\n      <td>0.100460</td>\n      <td>True</td>\n    </tr>\n    <tr>\n      <th>1268</th>\n      <td>749417653287129088</td>\n      <td>https://pbs.twimg.com/media/CmZ3YH9WEAAowi3.jpg</td>\n      <td>2</td>\n      <td>papillon</td>\n      <td>0.772894</td>\n      <td>True</td>\n      <td>Shetland_sheepdog</td>\n      <td>0.042408</td>\n      <td>True</td>\n      <td>collie</td>\n      <td>0.042313</td>\n      <td>True</td>\n    </tr>\n  </tbody>\n</table>\n</div>"
     },
     "metadata": {},
     "execution_count": 35
    }
   ],
   "source": [
    "image_pred_df.sample(5)"
   ]
  },
  {
   "cell_type": "code",
   "execution_count": 36,
   "metadata": {
    "tags": []
   },
   "outputs": [
    {
     "output_type": "stream",
     "name": "stdout",
     "text": "<class 'pandas.core.frame.DataFrame'>\nRangeIndex: 2075 entries, 0 to 2074\nData columns (total 12 columns):\n #   Column    Non-Null Count  Dtype  \n---  ------    --------------  -----  \n 0   tweet_id  2075 non-null   int64  \n 1   jpg_url   2075 non-null   object \n 2   img_num   2075 non-null   int64  \n 3   p1        2075 non-null   object \n 4   p1_conf   2075 non-null   float64\n 5   p1_dog    2075 non-null   bool   \n 6   p2        2075 non-null   object \n 7   p2_conf   2075 non-null   float64\n 8   p2_dog    2075 non-null   bool   \n 9   p3        2075 non-null   object \n 10  p3_conf   2075 non-null   float64\n 11  p3_dog    2075 non-null   bool   \ndtypes: bool(3), float64(3), int64(2), object(4)\nmemory usage: 152.1+ KB\n"
    }
   ],
   "source": [
    "image_pred_df.info()"
   ]
  },
  {
   "cell_type": "markdown",
   "metadata": {},
   "source": [
    "\n",
    "### Assessment Findings on Image Predictions data set ###\n",
    "------\n",
    "** Data Quality Issues **\n",
    "\n",
    "- No data quality issues are found with this data set. The dataset is complete, consistent, valid with no accuracy issues."
   ]
  },
  {
   "cell_type": "markdown",
   "metadata": {},
   "source": [
    "### Fixing data quality issues with twitter archive data ###\n",
    "\n",
    "Before I gather tweet data, I will clean the data quality issues that was found on twitter archive data. I do this so, I can use this cleaned dataset to query twitter api to get tweet related data."
   ]
  },
  {
   "cell_type": "code",
   "execution_count": 12,
   "metadata": {},
   "outputs": [],
   "source": [
    "# Fixing the 'timestamp' data quality issue. Converting object type to datetime64 with UTC timezone \n",
    "tweet_av_df['timestamp'] = pd.to_datetime(tweet_av_df['timestamp'], utc=True, errors='coerce')\n",
    "tweet_av_df.timestamp.dtype"
   ]
  },
  {
   "cell_type": "code",
   "execution_count": 22,
   "metadata": {
    "tags": []
   },
   "outputs": [
    {
     "output_type": "stream",
     "name": "stdout",
     "text": "expanded urls has null values? False\n"
    }
   ],
   "source": [
    "# Fixing 'expanded_urls' data quality issue. Delete rows that have null values since we only want original tweet ratings that have images.\n",
    "tweet_av_df = tweet_av_df.dropna(axis=0, subset=['expanded_urls'])\n",
    "print('expanded urls has null values?', tweet_av_df.expanded_urls.isnull().values.any())"
   ]
  },
  {
   "cell_type": "code",
   "execution_count": 29,
   "metadata": {
    "tags": []
   },
   "outputs": [
    {
     "output_type": "stream",
     "name": "stdout",
     "text": "retweeted_status_id has a value? False\n"
    }
   ],
   "source": [
    "# Fixing 'retweeted_status_id' data quality issue. We delete rows that have a value associated with retweeted_status_id since we only want original tweet ratings.\n",
    "tweet_av_df = tweet_av_df.drop(tweet_av_df.loc[tweet_av_df.retweeted_status_id.notna()].index)\n",
    "tweet_av_df.reset_index()\n",
    "print('retweeted_status_id has a value?', tweet_av_df.retweeted_status_id.notna().any())\n"
   ]
  },
  {
   "cell_type": "code",
   "execution_count": 33,
   "metadata": {
    "tags": []
   },
   "outputs": [],
   "source": [
    "# Continue with 'retweeted_status_id' - since we are intrested with original tweets only, it is safe to drop this column since we are left with null values in this column.\n",
    "tweet_av_df.drop(axis=1, columns=['retweeted_status_id'], inplace=True)\n"
   ]
  },
  {
   "cell_type": "code",
   "execution_count": 34,
   "metadata": {},
   "outputs": [],
   "source": [
    "# 'retweeted_status_user_id' column can also be dropped since we are also left with null values. Keeping the original question in mind.\n",
    "tweet_av_df.drop(axis=1, columns=['retweeted_status_user_id'], inplace=True)"
   ]
  },
  {
   "cell_type": "code",
   "execution_count": 35,
   "metadata": {},
   "outputs": [],
   "source": [
    "# 'retweeted_status_timestamp' column can also be dropped since we are also left with null values. Keeping the original question in mind.\n",
    "tweet_av_df.drop(axis=1, columns=['retweeted_status_timestamp'], inplace=True)"
   ]
  },
  {
   "cell_type": "code",
   "execution_count": 36,
   "metadata": {},
   "outputs": [],
   "source": [
    "# 'in_reply_to_status_id' column can be dropped, since we are not really looking at tweets that were in reply.\n",
    "tweet_av_df.drop(axis=1, columns=['in_reply_to_status_id'], inplace=True)"
   ]
  },
  {
   "cell_type": "code",
   "execution_count": 37,
   "metadata": {},
   "outputs": [],
   "source": [
    "# 'in_reply_to_user_id' column can be dropped too, since we are not really looking at tweets that were in reply.\n",
    "tweet_av_df.drop(axis=1, columns=['in_reply_to_user_id'], inplace=True)"
   ]
  },
  {
   "cell_type": "code",
   "execution_count": 38,
   "metadata": {
    "tags": []
   },
   "outputs": [
    {
     "output_type": "stream",
     "name": "stdout",
     "text": "<class 'pandas.core.frame.DataFrame'>\nInt64Index: 2117 entries, 0 to 2355\nData columns (total 12 columns):\n #   Column              Non-Null Count  Dtype              \n---  ------              --------------  -----              \n 0   tweet_id            2117 non-null   int64              \n 1   timestamp           2117 non-null   datetime64[ns, UTC]\n 2   source              2117 non-null   object             \n 3   text                2117 non-null   object             \n 4   expanded_urls       2117 non-null   object             \n 5   rating_numerator    2117 non-null   int64              \n 6   rating_denominator  2117 non-null   int64              \n 7   name                2117 non-null   object             \n 8   doggo               2117 non-null   object             \n 9   floofer             2117 non-null   object             \n 10  pupper              2117 non-null   object             \n 11  puppo               2117 non-null   object             \ndtypes: datetime64[ns, UTC](1), int64(3), object(8)\nmemory usage: 295.0+ KB\n"
    }
   ],
   "source": [
    "# Taking a peek at tweet dataframe after fixing the data quality issues.\n",
    "tweet_av_df.info()"
   ]
  },
  {
   "cell_type": "markdown",
   "metadata": {},
   "source": [
    "Before we proceed with data tidy tasks., we will check the min and max timestamps of teets as we are not required to gather the tweets beyond August 1st, 2017."
   ]
  },
  {
   "cell_type": "code",
   "execution_count": 40,
   "metadata": {
    "tags": []
   },
   "outputs": [
    {
     "output_type": "stream",
     "name": "stdout",
     "text": "2015-11-15 22:32:08+00:00 2017-08-01 16:23:56+00:00\n"
    }
   ],
   "source": [
    "# What is the min and max datetime from our teet dataset.\n",
    "print(tweet_av_df.timestamp.min(), tweet_av_df.timestamp.max())"
   ]
  },
  {
   "cell_type": "code",
   "execution_count": 52,
   "metadata": {},
   "outputs": [],
   "source": [
    "\n",
    "# A function to collect tweet json data using twitter api and save it to json file.\n",
    "def collecttweetdata(tweet_ids):\n",
    "    consumer_key = 'AeFxgKcFhsENzkKD8MfoMPoA9'\n",
    "    consumer_secret = 'PErJwUZAwfmLBzZKyWBNwOpprGbUNsrro167rBYZ04JmzqmSqx'\n",
    "    \n",
    "    auth = tweepy.AppAuthHandler(consumer_key, consumer_secret)\n",
    "    api = tweepy.API(auth, wait_on_rate_limit=True)\n",
    "    count = 0\n",
    "    fails_dict = {}\n",
    "    start = timer()\n",
    "    with open('tweet_json_latest.txt', 'w') as outfile:\n",
    "        for tweet_id in tweet_ids:\n",
    "            count += 1\n",
    "            print(str(count) + \": \" + str(tweet_id))\n",
    "            try:\n",
    "                tweetjson = api.get_status(tweet_id, tweet_mode=\"extended\")\n",
    "                print(\"Success\")\n",
    "                json.dump(tweetjson._json, outfile)\n",
    "                outfile.write('\\n')\n",
    "            except tweepy.TweepError as e:\n",
    "                print(\"Fail\", e)\n",
    "                fails_dict[tweet_id] = e\n",
    "                pass\n",
    "    end = timer()\n",
    "    print(end - start)\n",
    "    print(fails_dict)"
   ]
  },
  {
   "cell_type": "code",
   "execution_count": 53,
   "metadata": {
    "tags": [
     "outputPrepend"
    ]
   },
   "outputs": [
    {
     "output_type": "stream",
     "name": "stdout",
     "text": "764513869611008\nSuccess\n1533: 678755239630127104\nSuccess\n1534: 678740035362037760\nSuccess\n1535: 678708137298427904\nSuccess\n1536: 678675843183484930\nSuccess\n1537: 678643457146150913\nSuccess\n1538: 678446151570427904\nSuccess\n1539: 678424312106393600\nSuccess\n1540: 678410210315247616\nSuccess\n1541: 678399652199309312\nSuccess\n1542: 678396796259975168\nSuccess\n1543: 678389028614488064\nSuccess\n1544: 678380236862578688\nSuccess\n1545: 678341075375947776\nSuccess\n1546: 678334497360859136\nSuccess\n1547: 678278586130948096\nSuccess\n1548: 678255464182861824\nSuccess\n1549: 678021115718029313\nSuccess\n1550: 677961670166224897\nSuccess\n1551: 677918531514703872\nSuccess\n1552: 677895101218201600\nSuccess\n1553: 677716515794329600\nSuccess\n1554: 677700003327029250\nSuccess\n1555: 677698403548192770\nSuccess\n1556: 677687604918272002\nSuccess\n1557: 677673981332312066\nSuccess\n1558: 677662372920729601\nSuccess\n1559: 677644091929329666\nSuccess\n1560: 677573743309385728\nSuccess\n1561: 677565715327688705\nSuccess\n1562: 677557565589463040\nSuccess\n1563: 677547928504967168\nSuccess\n1564: 677530072887205888\nSuccess\n1565: 677335745548390400\nSuccess\n1566: 677334615166730240\nSuccess\n1567: 677331501395156992\nSuccess\n1568: 677328882937298944\nSuccess\n1569: 677314812125323265\nSuccess\n1570: 677301033169788928\nSuccess\n1571: 677269281705472000\nSuccess\n1572: 677228873407442944\nSuccess\n1573: 677187300187611136\nSuccess\n1574: 676975532580409345\nSuccess\n1575: 676957860086095872\nSuccess\n1576: 676949632774234114\nSuccess\n1577: 676948236477857792\nSuccess\n1578: 676946864479084545\nSuccess\n1579: 676942428000112642\nSuccess\n1580: 676936541936185344\nSuccess\n1581: 676916996760600576\nSuccess\n1582: 676897532954456065\nSuccess\n1583: 676864501615042560\nSuccess\n1584: 676821958043033607\nSuccess\n1585: 676819651066732545\nSuccess\n1586: 676811746707918848\nSuccess\n1587: 676776431406465024\nSuccess\n1588: 676617503762681856\nSuccess\n1589: 676613908052996102\nSuccess\n1590: 676606785097199616\nSuccess\n1591: 676603393314578432\nSuccess\n1592: 676593408224403456\nSuccess\n1593: 676588346097852417\nSuccess\n1594: 676582956622721024\nSuccess\n1595: 676575501977128964\nSuccess\n1596: 676533798876651520\nSuccess\n1597: 676496375194980353\nSuccess\n1598: 676470639084101634\nSuccess\n1599: 676440007570247681\nSuccess\n1600: 676430933382295552\nSuccess\n1601: 676263575653122048\nSuccess\n1602: 676237365392908289\nSuccess\n1603: 676219687039057920\nSuccess\n1604: 676215927814406144\nSuccess\n1605: 676191832485810177\nSuccess\n1606: 676146341966438401\nSuccess\n1607: 676121918416756736\nSuccess\n1608: 676101918813499392\nSuccess\n1609: 676098748976615425\nSuccess\n1610: 676089483918516224\nSuccess\n1611: 675898130735476737\nSuccess\n1612: 675891555769696257\nSuccess\n1613: 675888385639251968\nSuccess\n1614: 675878199931371520\nSuccess\n1615: 675870721063669760\nSuccess\n1616: 675853064436391936\nSuccess\n1617: 675845657354215424\nSuccess\n1618: 675822767435051008\nSuccess\n1619: 675820929667219457\nSuccess\n1620: 675798442703122432\nSuccess\n1621: 675781562965868544\nSuccess\n1622: 675740360753160193\nSuccess\n1623: 675710890956750848\nSuccess\n1624: 675707330206547968\nSuccess\n1625: 675706639471788032\nSuccess\n1626: 675534494439489536\nSuccess\n1627: 675531475945709568\nSuccess\n1628: 675522403582218240\nSuccess\n1629: 675517828909424640\nSuccess\n1630: 675501075957489664\nSuccess\n1631: 675497103322386432\nSuccess\n1632: 675489971617296384\nSuccess\n1633: 675483430902214656\nSuccess\n1634: 675432746517426176\nSuccess\n1635: 675372240448454658\nSuccess\n1636: 675362609739206656\nSuccess\n1637: 675354435921575936\nSuccess\n1638: 675349384339542016\nSuccess\n1639: 675334060156301312\nSuccess\n1640: 675166823650848770\nSuccess\n1641: 675153376133427200\nSuccess\n1642: 675149409102012420\nSuccess\n1643: 675147105808306176\nSuccess\n1644: 675146535592706048\nSuccess\n1645: 675145476954566656\nSuccess\n1646: 675135153782571009\nSuccess\n1647: 675113801096802304\nSuccess\n1648: 675111688094527488\nSuccess\n1649: 675109292475830276\nSuccess\n1650: 675047298674663426\nSuccess\n1651: 675015141583413248\nSuccess\n1652: 675006312288268288\nSuccess\n1653: 675003128568291329\nSuccess\n1654: 674999807681908736\nSuccess\n1655: 674805413498527744\nSuccess\n1656: 674800520222154752\nSuccess\n1657: 674793399141146624\nSuccess\n1658: 674790488185167872\nSuccess\n1659: 674788554665512960\nSuccess\n1660: 674781762103414784\nSuccess\n1661: 674774481756377088\nSuccess\n1662: 674767892831932416\nSuccess\n1663: 674764817387900928\nSuccess\n1664: 674754018082705410\nSuccess\n1665: 674752233200820224\nSuccess\n1666: 674743008475090944\nSuccess\n1667: 674739953134403584\nSuccess\n1668: 674737130913071104\nSuccess\n1669: 674690135443775488\nSuccess\n1670: 674670581682434048\nSuccess\n1671: 674664755118911488\nSuccess\n1672: 674646392044941312\nSuccess\n1673: 674644256330530816\nSuccess\n1674: 674638615994089473\nSuccess\n1675: 674632714662858753\nSuccess\n1676: 674468880899788800\nSuccess\n1677: 674447403907457024\nSuccess\n1678: 674436901579923456\nSuccess\n1679: 674422304705744896\nSuccess\n1680: 674416750885273600\nSuccess\n1681: 674410619106390016\nSuccess\n1682: 674394782723014656\nSuccess\n1683: 674372068062928900\nSuccess\n1684: 674318007229923329\nSuccess\n1685: 674307341513269249\nSuccess\n1686: 674291837063053312\nSuccess\n1687: 674271431610523648\nSuccess\n1688: 674269164442398721\nSuccess\n1689: 674265582246694913\nSuccess\n1690: 674262580978937856\nSuccess\n1691: 674255168825880576\nSuccess\n1692: 674082852460433408\nSuccess\n1693: 674075285688614912\nSuccess\n1694: 674063288070742018\nSuccess\n1695: 674053186244734976\nSuccess\n1696: 674051556661161984\nSuccess\n1697: 674045139690631169\nSuccess\n1698: 674042553264685056\nSuccess\n1699: 674038233588723717\nSuccess\n1700: 674036086168010753\nSuccess\n1701: 674024893172875264\nSuccess\n1702: 674019345211760640\nSuccess\n1703: 674014384960745472\nSuccess\n1704: 674008982932058114\nSuccess\n1705: 673956914389192708\nSuccess\n1706: 673919437611909120\nSuccess\n1707: 673906403526995968\nSuccess\n1708: 673887867907739649\nSuccess\n1709: 673715861853720576\nSuccess\n1710: 673711475735838725\nSuccess\n1711: 673709992831262724\nSuccess\n1712: 673708611235921920\nSuccess\n1713: 673707060090052608\nSuccess\n1714: 673705679337693185\nSuccess\n1715: 673700254269775872\nSuccess\n1716: 673697980713705472\nSuccess\n1717: 673689733134946305\nSuccess\n1718: 673688752737402881\nSuccess\n1719: 673686845050527744\nSuccess\n1720: 673680198160809984\nSuccess\n1721: 673662677122719744\nSuccess\n1722: 673656262056419329\nSuccess\n1723: 673636718965334016\nSuccess\n1724: 673612854080196609\nSuccess\n1725: 673583129559498752\nSuccess\n1726: 673580926094458881\nSuccess\n1727: 673576835670777856\nSuccess\n1728: 673363615379013632\nSuccess\n1729: 673359818736984064\nSuccess\n1730: 673355879178194945\nSuccess\n1731: 673352124999274496\nSuccess\n1732: 673350198937153538\nSuccess\n1733: 673345638550134785\nSuccess\n1734: 673343217010679808\nSuccess\n1735: 673342308415348736\nSuccess\n1736: 673320132811366400\nSuccess\n1737: 673317986296586240\nSuccess\n1738: 673295268553605120\nSuccess\n1739: 673270968295534593\nSuccess\n1740: 673240798075449344\nSuccess\n1741: 673213039743795200\nSuccess\n1742: 673148804208660480\nSuccess\n1743: 672997845381865473\nSuccess\n1744: 672995267319328768\nSuccess\n1745: 672988786805112832\nSuccess\n1746: 672984142909456390\nSuccess\n1747: 672980819271634944\nSuccess\n1748: 672975131468300288\nSuccess\n1749: 672970152493887488\nSuccess\n1750: 672968025906282496\nSuccess\n1751: 672964561327235073\nSuccess\n1752: 672902681409806336\nSuccess\n1753: 672898206762672129\nSuccess\n1754: 672884426393653248\nSuccess\n1755: 672877615439593473\nSuccess\n1756: 672834301050937345\nSuccess\n1757: 672828477930868736\nSuccess\n1758: 672640509974827008\nSuccess\n1759: 672622327801233409\nSuccess\n1760: 672614745925664768\nSuccess\n1761: 672609152938721280\nSuccess\n1762: 672604026190569472\nSuccess\n1763: 672594978741354496\nSuccess\n1764: 672591762242805761\nSuccess\n1765: 672591271085670400\nSuccess\n1766: 672538107540070400\nSuccess\n1767: 672523490734551040\nSuccess\n1768: 672488522314567680\nSuccess\n1769: 672482722825261057\nSuccess\n1770: 672481316919734272\nSuccess\n1771: 672475084225949696\nSuccess\n1772: 672466075045466113\nSuccess\n1773: 672272411274932228\nSuccess\n1774: 672267570918129665\nSuccess\n1775: 672264251789176834\nSuccess\n1776: 672256522047614977\nSuccess\n1777: 672254177670729728\nSuccess\n1778: 672248013293752320\nSuccess\n1779: 672245253877968896\nSuccess\n1780: 672239279297454080\nSuccess\n1781: 672231046314901505\nSuccess\n1782: 672222792075620352\nSuccess\n1783: 672205392827572224\nSuccess\n1784: 672169685991993344\nSuccess\n1785: 672160042234327040\nSuccess\n1786: 672139350159835138\nSuccess\n1787: 672125275208069120\nSuccess\n1788: 672095186491711488\nSuccess\n1789: 672082170312290304\nSuccess\n1790: 672068090318987265\nSuccess\n1791: 671896809300709376\nSuccess\n1792: 671891728106971137\nSuccess\n1793: 671882082306625538\nSuccess\n1794: 671879137494245376\nSuccess\n1795: 671874878652489728\nSuccess\n1796: 671866342182637568\nSuccess\n1797: 671855973984772097\nSuccess\n1798: 671789708968640512\nSuccess\n1799: 671768281401958400\nSuccess\n1800: 671763349865160704\nSuccess\n1801: 671744970634719232\nSuccess\n1802: 671743150407421952\nSuccess\n1803: 671735591348891648\nSuccess\n1804: 671729906628341761\nSuccess\n1805: 671561002136281088\nSuccess\n1806: 671547767500775424\nSuccess\n1807: 671544874165002241\nSuccess\n1808: 671542985629241344\nSuccess\n1809: 671538301157904385\nSuccess\n1810: 671536543010570240\nSuccess\n1811: 671533943490011136\nSuccess\n1812: 671528761649688577\nSuccess\n1813: 671520732782923777\nSuccess\n1814: 671518598289059840\nSuccess\n1815: 671511350426865664\nSuccess\n1816: 671504605491109889\nSuccess\n1817: 671497587707535361\nSuccess\n1818: 671488513339211776\nSuccess\n1819: 671486386088865792\nSuccess\n1820: 671485057807351808\nSuccess\n1821: 671390180817915904\nSuccess\n1822: 671362598324076544\nSuccess\n1823: 671357843010908160\nSuccess\n1824: 671355857343524864\nSuccess\n1825: 671347597085433856\nSuccess\n1826: 671186162933985280\nSuccess\n1827: 671182547775299584\nSuccess\n1828: 671166507850801152\nSuccess\n1829: 671163268581498880\nSuccess\n1830: 671159727754231808\nSuccess\n1831: 671154572044468225\nSuccess\n1832: 671151324042559489\nSuccess\n1833: 671147085991960577\nSuccess\n1834: 671141549288370177\nSuccess\n1835: 671138694582165504\nSuccess\n1836: 671134062904504320\nSuccess\n1837: 671122204919246848\nSuccess\n1838: 671115716440031232\nSuccess\n1839: 671109016219725825\nSuccess\n1840: 670995969505435648\nSuccess\n1841: 670842764863651840\nSuccess\n1842: 670840546554966016\nSuccess\n1843: 670838202509447168\nSuccess\n1844: 670833812859932673\nSuccess\n1845: 670832455012716544\nSuccess\n1846: 670826280409919488\nSuccess\n1847: 670823764196741120\nSuccess\n1848: 670822709593571328\nSuccess\n1849: 670815497391357952\nSuccess\n1850: 670811965569282048\nSuccess\n1851: 670807719151067136\nSuccess\n1852: 670804601705242624\nSuccess\n1853: 670803562457407488\nSuccess\n1854: 670797304698376195\nSuccess\n1855: 670792680469889025\nSuccess\n1856: 670789397210615808\nSuccess\n1857: 670786190031921152\nSuccess\n1858: 670783437142401025\nSuccess\n1859: 670782429121134593\nSuccess\n1860: 670780561024270336\nSuccess\n1861: 670778058496974848\nSuccess\n1862: 670764103623966721\nSuccess\n1863: 670755717859713024\nSuccess\n1864: 670733412878163972\nSuccess\n1865: 670727704916926465\nSuccess\n1866: 670717338665226240\nSuccess\n1867: 670704688707301377\nSuccess\n1868: 670691627984359425\nSuccess\n1869: 670679630144274432\nSuccess\n1870: 670676092097810432\nSuccess\n1871: 670668383499735048\nSuccess\n1872: 670474236058800128\nSuccess\n1873: 670468609693655041\nSuccess\n1874: 670465786746662913\nSuccess\n1875: 670452855871037440\nSuccess\n1876: 670449342516494336\nSuccess\n1877: 670444955656130560\nSuccess\n1878: 670442337873600512\nSuccess\n1879: 670435821946826752\nSuccess\n1880: 670434127938719744\nSuccess\n1881: 670433248821026816\nSuccess\n1882: 670428280563085312\nSuccess\n1883: 670427002554466305\nSuccess\n1884: 670421925039075328\nSuccess\n1885: 670420569653809152\nSuccess\n1886: 670417414769758208\nSuccess\n1887: 670411370698022913\nSuccess\n1888: 670408998013820928\nSuccess\n1889: 670403879788544000\nSuccess\n1890: 670385711116361728\nSuccess\n1891: 670374371102445568\nSuccess\n1892: 670361874861563904\nSuccess\n1893: 670338931251150849\nSuccess\n1894: 670319130621435904\nSuccess\n1895: 670303360680108032\nSuccess\n1896: 670290420111441920\nSuccess\n1897: 670093938074779648\nSuccess\n1898: 670086499208155136\nSuccess\n1899: 670079681849372674\nSuccess\n1900: 670073503555706880\nSuccess\n1901: 670069087419133954\nSuccess\n1902: 670061506722140161\nSuccess\n1903: 670055038660800512\nSuccess\n1904: 670046952931721218\nSuccess\n1905: 670040295598354432\nSuccess\n1906: 670037189829525505\nSuccess\n1907: 670003130994700288\nSuccess\n1908: 669993076832759809\nSuccess\n1909: 669972011175813120\nSuccess\n1910: 669970042633789440\nSuccess\n1911: 669942763794931712\nSuccess\n1912: 669926384437997569\nSuccess\n1913: 669923323644657664\nSuccess\n1914: 669753178989142016\nSuccess\n1915: 669749430875258880\nSuccess\n1916: 669683899023405056\nSuccess\n1917: 669682095984410625\nSuccess\n1918: 669680153564442624\nSuccess\n1919: 669661792646373376\nSuccess\n1920: 669625907762618368\nSuccess\n1921: 669603084620980224\nSuccess\n1922: 669597912108789760\nSuccess\n1923: 669583744538451968\nSuccess\n1924: 669573570759163904\nSuccess\n1925: 669571471778410496\nSuccess\n1926: 669567591774625800\nSuccess\n1927: 669564461267722241\nSuccess\n1928: 669393256313184256\nSuccess\n1929: 669375718304980992\nSuccess\n1930: 669371483794317312\nSuccess\n1931: 669367896104181761\nSuccess\n1932: 669363888236994561\nSuccess\n1933: 669359674819481600\nSuccess\n1934: 669354382627049472\nSuccess\n1935: 669353438988365824\nSuccess\n1936: 669351434509529089\nSuccess\n1937: 669328503091937280\nSuccess\n1938: 669327207240699904\nSuccess\n1939: 669324657376567296\nSuccess\n1940: 669216679721873412\nSuccess\n1941: 669214165781868544\nSuccess\n1942: 669203728096960512\nSuccess\n1943: 669037058363662336\nSuccess\n1944: 669015743032369152\nSuccess\n1945: 669006782128353280\nSuccess\n1946: 669000397445533696\nSuccess\n1947: 668994913074286592\nSuccess\n1948: 668992363537309700\nSuccess\n1949: 668989615043424256\nSuccess\n1950: 668988183816871936\nSuccess\n1951: 668986018524233728\nSuccess\n1952: 668981893510119424\nSuccess\n1953: 668979806671884288\nSuccess\n1954: 668975677807423489\nSuccess\n1955: 668960084974809088\nSuccess\n1956: 668955713004314625\nSuccess\n1957: 668932921458302977\nSuccess\n1958: 668902994700836864\nSuccess\n1959: 668892474547511297\nSuccess\n1960: 668872652652679168\nSuccess\n1961: 668852170888998912\nSuccess\n1962: 668826086256599040\nSuccess\n1963: 668815180734689280\nSuccess\n1964: 668779399630725120\nSuccess\n1965: 668655139528511488\nSuccess\n1966: 668645506898350081\nSuccess\n1967: 668643542311546881\nSuccess\n1968: 668641109086707712\nSuccess\n1969: 668636665813057536\nSuccess\n1970: 668633411083464705\nSuccess\n1971: 668631377374486528\nSuccess\n1972: 668627278264475648\nSuccess\n1973: 668625577880875008\nSuccess\n1974: 668623201287675904\nSuccess\n1975: 668620235289837568\nSuccess\n1976: 668614819948453888\nSuccess\n1977: 668587383441514497\nSuccess\n1978: 668567822092664832\nSuccess\n1979: 668544745690562560\nSuccess\n1980: 668542336805281792\nSuccess\n1981: 668537837512433665\nSuccess\n1982: 668528771708952576\nSuccess\n1983: 668507509523615744\nSuccess\n1984: 668496999348633600\nSuccess\n1985: 668484198282485761\nSuccess\n1986: 668480044826800133\nSuccess\n1987: 668466899341221888\nSuccess\n1988: 668297328638447616\nSuccess\n1989: 668291999406125056\nSuccess\n1990: 668286279830867968\nSuccess\n1991: 668274247790391296\nSuccess\n1992: 668268907921326080\nSuccess\n1993: 668256321989451776\nSuccess\n1994: 668248472370458624\nSuccess\n1995: 668237644992782336\nSuccess\n1996: 668226093875376128\nSuccess\n1997: 668221241640230912\nSuccess\n1998: 668204964695683073\nSuccess\n1999: 668190681446379520\nSuccess\n2000: 668171859951755264\nSuccess\n2001: 668154635664932864\nSuccess\n2002: 668142349051129856\nSuccess\n2003: 668113020489474048\nSuccess\n2004: 667937095915278337\nSuccess\n2005: 667924896115245057\nSuccess\n2006: 667915453470232577\nSuccess\n2007: 667911425562669056\nSuccess\n2008: 667902449697558528\nSuccess\n2009: 667886921285246976\nSuccess\n2010: 667885044254572545\nSuccess\n2011: 667878741721415682\nSuccess\n2012: 667873844930215936\nSuccess\n2013: 667866724293877760\nSuccess\n2014: 667861340749471744\nSuccess\n2015: 667832474953625600\nSuccess\n2016: 667806454573760512\nSuccess\n2017: 667801013445750784\nSuccess\n2018: 667793409583771648\nSuccess\n2019: 667782464991965184\nSuccess\n2020: 667773195014021121\nSuccess\n2021: 667766675769573376\nSuccess\n2022: 667728196545200128\nSuccess\n2023: 667724302356258817\nSuccess\n2024: 667549055577362432\nSuccess\n2025: 667546741521195010\nSuccess\n2026: 667544320556335104\nSuccess\n2027: 667538891197542400\nSuccess\n2028: 667534815156183040\nSuccess\n2029: 667530908589760512\nSuccess\n2030: 667524857454854144\nSuccess\n2031: 667517642048163840\nSuccess\n2032: 667509364010450944\nSuccess\n2033: 667502640335572993\nSuccess\n2034: 667495797102141441\nSuccess\n2035: 667491009379606528\nSuccess\n2036: 667470559035432960\nSuccess\n2037: 667455448082227200\nSuccess\n2038: 667453023279554560\nSuccess\n2039: 667443425659232256\nSuccess\n2040: 667437278097252352\nSuccess\n2041: 667435689202614272\nSuccess\n2042: 667405339315146752\nSuccess\n2043: 667393430834667520\nSuccess\n2044: 667369227918143488\nSuccess\n2045: 667211855547486208\nSuccess\n2046: 667200525029539841\nSuccess\n2047: 667192066997374976\nSuccess\n2048: 667188689915760640\nSuccess\n2049: 667182792070062081\nSuccess\n2050: 667177989038297088\nSuccess\n2051: 667176164155375616\nSuccess\n2052: 667174963120574464\nSuccess\n2053: 667171260800061440\nSuccess\n2054: 667165590075940865\nSuccess\n2055: 667160273090932737\nSuccess\n2056: 667152164079423490\nSuccess\n2057: 667138269671505920\nSuccess\n2058: 667119796878725120\nSuccess\n2059: 667090893657276420\nSuccess\n2060: 667073648344346624\nSuccess\n2061: 667065535570550784\nSuccess\n2062: 667062181243039745\nSuccess\n2063: 667044094246576128\nSuccess\n2064: 667012601033924608\nSuccess\n2065: 666996132027977728\nSuccess\n2066: 666983947667116034\nSuccess\n2067: 666837028449972224\nSuccess\n2068: 666835007768551424\nSuccess\n2069: 666826780179869698\nSuccess\n2070: 666817836334096384\nSuccess\n2071: 666804364988780544\nSuccess\n2072: 666786068205871104\nSuccess\n2073: 666781792255496192\nSuccess\n2074: 666776908487630848\nSuccess\n2075: 666739327293083650\nSuccess\n2076: 666701168228331520\nSuccess\n2077: 666691418707132416\nSuccess\n2078: 666649482315059201\nSuccess\n2079: 666644823164719104\nSuccess\n2080: 666454714377183233\nSuccess\n2081: 666447344410484738\nSuccess\n2082: 666437273139982337\nSuccess\n2083: 666435652385423360\nSuccess\n2084: 666430724426358785\nSuccess\n2085: 666428276349472768\nSuccess\n2086: 666421158376562688\nSuccess\n2087: 666418789513326592\nSuccess\n2088: 666411507551481857\nSuccess\n2089: 666407126856765440\nSuccess\n2090: 666396247373291520\nSuccess\n2091: 666373753744588802\nSuccess\n2092: 666362758909284353\nSuccess\n2093: 666353288456101888\nSuccess\n2094: 666345417576210432\nSuccess\n2095: 666337882303524864\nSuccess\n2096: 666293911632134144\nSuccess\n2097: 666287406224695296\nSuccess\n2098: 666273097616637952\nSuccess\n2099: 666268910803644416\nSuccess\n2100: 666104133288665088\nSuccess\n2101: 666102155909144576\nSuccess\n2102: 666099513787052032\nSuccess\n2103: 666094000022159362\nSuccess\n2104: 666082916733198337\nSuccess\n2105: 666073100786774016\nSuccess\n2106: 666071193221509120\nSuccess\n2107: 666063827256086533\nSuccess\n2108: 666058600524156928\nSuccess\n2109: 666057090499244032\nSuccess\n2110: 666055525042405380\nSuccess\n2111: 666051853826850816\nSuccess\n2112: 666050758794694657\nSuccess\n2113: 666049248165822465\nSuccess\n2114: 666044226329800704\nSuccess\n2115: 666033412701032449\nSuccess\n2116: 666029285002620928\nSuccess\n2117: 666020888022790149\nSuccess\n1826.8615019000135\n{872261713294495745: TweepError([{'code': 144, 'message': 'No status found with that ID.'}]), 844704788403113984: TweepError([{'code': 144, 'message': 'No status found with that ID.'}]), 837366284874571778: TweepError([{'code': 144, 'message': 'No status found with that ID.'}]), 829374341691346946: TweepError([{'code': 144, 'message': 'No status found with that ID.'}]), 779123168116150273: TweepError([{'code': 144, 'message': 'No status found with that ID.'}]), 754011816964026368: TweepError([{'code': 144, 'message': 'No status found with that ID.'}]), 680055455951884288: TweepError([{'code': 144, 'message': 'No status found with that ID.'}])}\n"
    }
   ],
   "source": [
    "# Lets collect tweet data and save to tweets data json file.\n",
    "tweet_ids = tweet_av_df.tweet_id.values\n",
    "collecttweetdata(tweet_ids)"
   ]
  },
  {
   "cell_type": "code",
   "execution_count": 54,
   "metadata": {},
   "outputs": [
    {
     "output_type": "execute_result",
     "data": {
      "text/plain": "             tweet_id  favorite_count  retweet_count\n0  892420643555336193           35727           7547\n1  892177421306343426           30867           5597\n2  891815181378084864           23212           3706\n3  891689557279858688           39015           7731\n4  891327558926688256           37264           8334",
      "text/html": "<div>\n<style scoped>\n    .dataframe tbody tr th:only-of-type {\n        vertical-align: middle;\n    }\n\n    .dataframe tbody tr th {\n        vertical-align: top;\n    }\n\n    .dataframe thead th {\n        text-align: right;\n    }\n</style>\n<table border=\"1\" class=\"dataframe\">\n  <thead>\n    <tr style=\"text-align: right;\">\n      <th></th>\n      <th>tweet_id</th>\n      <th>favorite_count</th>\n      <th>retweet_count</th>\n    </tr>\n  </thead>\n  <tbody>\n    <tr>\n      <th>0</th>\n      <td>892420643555336193</td>\n      <td>35727</td>\n      <td>7547</td>\n    </tr>\n    <tr>\n      <th>1</th>\n      <td>892177421306343426</td>\n      <td>30867</td>\n      <td>5597</td>\n    </tr>\n    <tr>\n      <th>2</th>\n      <td>891815181378084864</td>\n      <td>23212</td>\n      <td>3706</td>\n    </tr>\n    <tr>\n      <th>3</th>\n      <td>891689557279858688</td>\n      <td>39015</td>\n      <td>7731</td>\n    </tr>\n    <tr>\n      <th>4</th>\n      <td>891327558926688256</td>\n      <td>37264</td>\n      <td>8334</td>\n    </tr>\n  </tbody>\n</table>\n</div>"
     },
     "metadata": {},
     "execution_count": 54
    }
   ],
   "source": [
    "# Creating dataframe from the tweet json that will have the 'favorite_count' and 'retweet_count'\n",
    "def is_json_key_present(json, key):\n",
    "    try:\n",
    "        buf = json[key]\n",
    "    except KeyError:\n",
    "        return False\n",
    "\n",
    "    return True\n",
    "\n",
    "column_names = [\"tweet_id\", \"favorite_count\", \"retweet_count\"]\n",
    "list_vals = []\n",
    "with open('tweet-json.txt','r') as jfile:\n",
    "    for line in jfile:\n",
    "        try:\n",
    "            myjson = json.loads(line)\n",
    "            if (is_json_key_present(myjson,'id') and  is_json_key_present(myjson,'favorite_count') and is_json_key_present(myjson,'retweet_count')):\n",
    "                vals = [myjson['id'], myjson['favorite_count'], myjson['retweet_count']]\n",
    "                list_vals.append(vals)\n",
    "            else:\n",
    "                print('Skipping row as there is no data')\n",
    "        except:\n",
    "            pass\n",
    "tweet_data_df = pd.DataFrame(list_vals, columns=column_names)\n",
    "tweet_data_df.head()"
   ]
  },
  {
   "cell_type": "markdown",
   "metadata": {},
   "source": [
    "### Tideness issues ###\n",
    "\n",
    "The following tideness issues were identified.\n",
    "\n",
    "- The retweet and favorite count belong to twitter data set - to form an observational unit (table).\n",
    "- \n",
    "- As each variable forms a column, the columns on twitter data set 'doggo', 'floofer', 'pupper', 'puppo' are identifing various stages of dog. We fix this by creating a single column 'present_stage' that captures the dog stage.\n",
    "\n"
   ]
  },
  {
   "cell_type": "code",
   "execution_count": 55,
   "metadata": {
    "tags": []
   },
   "outputs": [
    {
     "output_type": "stream",
     "name": "stdout",
     "text": "<class 'pandas.core.frame.DataFrame'>\nInt64Index: 2117 entries, 0 to 2355\nData columns (total 12 columns):\n #   Column              Non-Null Count  Dtype              \n---  ------              --------------  -----              \n 0   tweet_id            2117 non-null   int64              \n 1   timestamp           2117 non-null   datetime64[ns, UTC]\n 2   source              2117 non-null   object             \n 3   text                2117 non-null   object             \n 4   expanded_urls       2117 non-null   object             \n 5   rating_numerator    2117 non-null   int64              \n 6   rating_denominator  2117 non-null   int64              \n 7   name                2117 non-null   object             \n 8   doggo               2117 non-null   object             \n 9   floofer             2117 non-null   object             \n 10  pupper              2117 non-null   object             \n 11  puppo               2117 non-null   object             \ndtypes: datetime64[ns, UTC](1), int64(3), object(8)\nmemory usage: 295.0+ KB\n"
    }
   ],
   "source": [
    "tweet_av_df.info()"
   ]
  },
  {
   "cell_type": "code",
   "execution_count": 57,
   "metadata": {
    "tags": []
   },
   "outputs": [
    {
     "output_type": "stream",
     "name": "stdout",
     "text": "<class 'pandas.core.frame.DataFrame'>\nRangeIndex: 2110 entries, 0 to 2109\nData columns (total 3 columns):\n #   Column          Non-Null Count  Dtype\n---  ------          --------------  -----\n 0   tweet_id        2110 non-null   int64\n 1   favorite_count  2110 non-null   int64\n 2   retweet_count   2110 non-null   int64\ndtypes: int64(3)\nmemory usage: 49.6 KB\n"
    }
   ],
   "source": [
    "tweet_data_df.info()"
   ]
  },
  {
   "cell_type": "code",
   "execution_count": 65,
   "metadata": {},
   "outputs": [],
   "source": [
    "# Merge tweet archive data set with tweet json data set that has favorite and retweet count.\n",
    "twitter_av_favs_df =  tweet_av_df.merge(tweet_data_df, on='tweet_id')"
   ]
  },
  {
   "cell_type": "code",
   "execution_count": 59,
   "metadata": {
    "tags": []
   },
   "outputs": [
    {
     "output_type": "stream",
     "name": "stdout",
     "text": "<class 'pandas.core.frame.DataFrame'>\nInt64Index: 2110 entries, 0 to 2109\nData columns (total 14 columns):\n #   Column              Non-Null Count  Dtype              \n---  ------              --------------  -----              \n 0   tweet_id            2110 non-null   int64              \n 1   timestamp           2110 non-null   datetime64[ns, UTC]\n 2   source              2110 non-null   object             \n 3   text                2110 non-null   object             \n 4   expanded_urls       2110 non-null   object             \n 5   rating_numerator    2110 non-null   int64              \n 6   rating_denominator  2110 non-null   int64              \n 7   name                2110 non-null   object             \n 8   doggo               2110 non-null   object             \n 9   floofer             2110 non-null   object             \n 10  pupper              2110 non-null   object             \n 11  puppo               2110 non-null   object             \n 12  favorite_count      2110 non-null   int64              \n 13  retweet_count       2110 non-null   int64              \ndtypes: datetime64[ns, UTC](1), int64(5), object(8)\nmemory usage: 327.3+ KB\n"
    }
   ],
   "source": [
    "twitter_av_favs_df.info()"
   ]
  },
  {
   "cell_type": "code",
   "execution_count": 66,
   "metadata": {},
   "outputs": [
    {
     "output_type": "execute_result",
     "data": {
      "text/plain": "          doggo  floofer  pupper   puppo\nNone     2027.0   2100.0  1878.0  2086.0\ndoggo      83.0      NaN     NaN     NaN\nfloofer     NaN     10.0     NaN     NaN\npupper      NaN      NaN   232.0     NaN\npuppo       NaN      NaN     NaN    24.0",
      "text/html": "<div>\n<style scoped>\n    .dataframe tbody tr th:only-of-type {\n        vertical-align: middle;\n    }\n\n    .dataframe tbody tr th {\n        vertical-align: top;\n    }\n\n    .dataframe thead th {\n        text-align: right;\n    }\n</style>\n<table border=\"1\" class=\"dataframe\">\n  <thead>\n    <tr style=\"text-align: right;\">\n      <th></th>\n      <th>doggo</th>\n      <th>floofer</th>\n      <th>pupper</th>\n      <th>puppo</th>\n    </tr>\n  </thead>\n  <tbody>\n    <tr>\n      <th>None</th>\n      <td>2027.0</td>\n      <td>2100.0</td>\n      <td>1878.0</td>\n      <td>2086.0</td>\n    </tr>\n    <tr>\n      <th>doggo</th>\n      <td>83.0</td>\n      <td>NaN</td>\n      <td>NaN</td>\n      <td>NaN</td>\n    </tr>\n    <tr>\n      <th>floofer</th>\n      <td>NaN</td>\n      <td>10.0</td>\n      <td>NaN</td>\n      <td>NaN</td>\n    </tr>\n    <tr>\n      <th>pupper</th>\n      <td>NaN</td>\n      <td>NaN</td>\n      <td>232.0</td>\n      <td>NaN</td>\n    </tr>\n    <tr>\n      <th>puppo</th>\n      <td>NaN</td>\n      <td>NaN</td>\n      <td>NaN</td>\n      <td>24.0</td>\n    </tr>\n  </tbody>\n</table>\n</div>"
     },
     "metadata": {},
     "execution_count": 66
    }
   ],
   "source": [
    "twitter_av_favs_df[['doggo', 'floofer', 'pupper', 'puppo']].apply(pd.Series.value_counts)"
   ]
  },
  {
   "cell_type": "code",
   "execution_count": 64,
   "metadata": {},
   "outputs": [
    {
     "output_type": "execute_result",
     "data": {
      "text/plain": "                tweet_id                 timestamp  \\\n0     892420643555336193 2017-08-01 16:23:56+00:00   \n1     892177421306343426 2017-08-01 00:17:27+00:00   \n2     891815181378084864 2017-07-31 00:18:03+00:00   \n3     891689557279858688 2017-07-30 15:58:51+00:00   \n4     891327558926688256 2017-07-29 16:00:24+00:00   \n...                  ...                       ...   \n8435  666049248165822465 2015-11-16 00:24:50+00:00   \n8436  666044226329800704 2015-11-16 00:04:52+00:00   \n8437  666033412701032449 2015-11-15 23:21:54+00:00   \n8438  666029285002620928 2015-11-15 23:05:30+00:00   \n8439  666020888022790149 2015-11-15 22:32:08+00:00   \n\n                                                 source  \\\n0     <a href=\"http://twitter.com/download/iphone\" r...   \n1     <a href=\"http://twitter.com/download/iphone\" r...   \n2     <a href=\"http://twitter.com/download/iphone\" r...   \n3     <a href=\"http://twitter.com/download/iphone\" r...   \n4     <a href=\"http://twitter.com/download/iphone\" r...   \n...                                                 ...   \n8435  <a href=\"http://twitter.com/download/iphone\" r...   \n8436  <a href=\"http://twitter.com/download/iphone\" r...   \n8437  <a href=\"http://twitter.com/download/iphone\" r...   \n8438  <a href=\"http://twitter.com/download/iphone\" r...   \n8439  <a href=\"http://twitter.com/download/iphone\" r...   \n\n                                                   text  \\\n0     This is Phineas. He's a mystical boy. Only eve...   \n1     This is Tilly. She's just checking pup on you....   \n2     This is Archie. He is a rare Norwegian Pouncin...   \n3     This is Darla. She commenced a snooze mid meal...   \n4     This is Franklin. He would like you to stop ca...   \n...                                                 ...   \n8435  Here we have a 1949 1st generation vulpix. Enj...   \n8436  This is a purebred Piers Morgan. Loves to Netf...   \n8437  Here is a very happy pup. Big fan of well-main...   \n8438  This is a western brown Mitsubishi terrier. Up...   \n8439  Here we have a Japanese Irish Setter. Lost eye...   \n\n                                          expanded_urls  rating_numerator  \\\n0     https://twitter.com/dog_rates/status/892420643...                13   \n1     https://twitter.com/dog_rates/status/892177421...                13   \n2     https://twitter.com/dog_rates/status/891815181...                12   \n3     https://twitter.com/dog_rates/status/891689557...                13   \n4     https://twitter.com/dog_rates/status/891327558...                12   \n...                                                 ...               ...   \n8435  https://twitter.com/dog_rates/status/666049248...                 5   \n8436  https://twitter.com/dog_rates/status/666044226...                 6   \n8437  https://twitter.com/dog_rates/status/666033412...                 9   \n8438  https://twitter.com/dog_rates/status/666029285...                 7   \n8439  https://twitter.com/dog_rates/status/666020888...                 8   \n\n          name  favorite_count  retweet_count dog_stage value  \n0      Phineas           35727           7547     doggo  None  \n1        Tilly           30867           5597     doggo  None  \n2       Archie           23212           3706     doggo  None  \n3        Darla           39015           7731     doggo  None  \n4     Franklin           37264           8334     doggo  None  \n...        ...             ...            ...       ...   ...  \n8435      None              96             40     puppo  None  \n8436         a             265            127     puppo  None  \n8437         a             111             40     puppo  None  \n8438         a             120             42     puppo  None  \n8439      None            2380            457     puppo  None  \n\n[8440 rows x 11 columns]",
      "text/html": "<div>\n<style scoped>\n    .dataframe tbody tr th:only-of-type {\n        vertical-align: middle;\n    }\n\n    .dataframe tbody tr th {\n        vertical-align: top;\n    }\n\n    .dataframe thead th {\n        text-align: right;\n    }\n</style>\n<table border=\"1\" class=\"dataframe\">\n  <thead>\n    <tr style=\"text-align: right;\">\n      <th></th>\n      <th>tweet_id</th>\n      <th>timestamp</th>\n      <th>source</th>\n      <th>text</th>\n      <th>expanded_urls</th>\n      <th>rating_numerator</th>\n      <th>name</th>\n      <th>favorite_count</th>\n      <th>retweet_count</th>\n      <th>dog_stage</th>\n      <th>value</th>\n    </tr>\n  </thead>\n  <tbody>\n    <tr>\n      <th>0</th>\n      <td>892420643555336193</td>\n      <td>2017-08-01 16:23:56+00:00</td>\n      <td>&lt;a href=\"http://twitter.com/download/iphone\" r...</td>\n      <td>This is Phineas. He's a mystical boy. Only eve...</td>\n      <td>https://twitter.com/dog_rates/status/892420643...</td>\n      <td>13</td>\n      <td>Phineas</td>\n      <td>35727</td>\n      <td>7547</td>\n      <td>doggo</td>\n      <td>None</td>\n    </tr>\n    <tr>\n      <th>1</th>\n      <td>892177421306343426</td>\n      <td>2017-08-01 00:17:27+00:00</td>\n      <td>&lt;a href=\"http://twitter.com/download/iphone\" r...</td>\n      <td>This is Tilly. She's just checking pup on you....</td>\n      <td>https://twitter.com/dog_rates/status/892177421...</td>\n      <td>13</td>\n      <td>Tilly</td>\n      <td>30867</td>\n      <td>5597</td>\n      <td>doggo</td>\n      <td>None</td>\n    </tr>\n    <tr>\n      <th>2</th>\n      <td>891815181378084864</td>\n      <td>2017-07-31 00:18:03+00:00</td>\n      <td>&lt;a href=\"http://twitter.com/download/iphone\" r...</td>\n      <td>This is Archie. He is a rare Norwegian Pouncin...</td>\n      <td>https://twitter.com/dog_rates/status/891815181...</td>\n      <td>12</td>\n      <td>Archie</td>\n      <td>23212</td>\n      <td>3706</td>\n      <td>doggo</td>\n      <td>None</td>\n    </tr>\n    <tr>\n      <th>3</th>\n      <td>891689557279858688</td>\n      <td>2017-07-30 15:58:51+00:00</td>\n      <td>&lt;a href=\"http://twitter.com/download/iphone\" r...</td>\n      <td>This is Darla. She commenced a snooze mid meal...</td>\n      <td>https://twitter.com/dog_rates/status/891689557...</td>\n      <td>13</td>\n      <td>Darla</td>\n      <td>39015</td>\n      <td>7731</td>\n      <td>doggo</td>\n      <td>None</td>\n    </tr>\n    <tr>\n      <th>4</th>\n      <td>891327558926688256</td>\n      <td>2017-07-29 16:00:24+00:00</td>\n      <td>&lt;a href=\"http://twitter.com/download/iphone\" r...</td>\n      <td>This is Franklin. He would like you to stop ca...</td>\n      <td>https://twitter.com/dog_rates/status/891327558...</td>\n      <td>12</td>\n      <td>Franklin</td>\n      <td>37264</td>\n      <td>8334</td>\n      <td>doggo</td>\n      <td>None</td>\n    </tr>\n    <tr>\n      <th>...</th>\n      <td>...</td>\n      <td>...</td>\n      <td>...</td>\n      <td>...</td>\n      <td>...</td>\n      <td>...</td>\n      <td>...</td>\n      <td>...</td>\n      <td>...</td>\n      <td>...</td>\n      <td>...</td>\n    </tr>\n    <tr>\n      <th>8435</th>\n      <td>666049248165822465</td>\n      <td>2015-11-16 00:24:50+00:00</td>\n      <td>&lt;a href=\"http://twitter.com/download/iphone\" r...</td>\n      <td>Here we have a 1949 1st generation vulpix. Enj...</td>\n      <td>https://twitter.com/dog_rates/status/666049248...</td>\n      <td>5</td>\n      <td>None</td>\n      <td>96</td>\n      <td>40</td>\n      <td>puppo</td>\n      <td>None</td>\n    </tr>\n    <tr>\n      <th>8436</th>\n      <td>666044226329800704</td>\n      <td>2015-11-16 00:04:52+00:00</td>\n      <td>&lt;a href=\"http://twitter.com/download/iphone\" r...</td>\n      <td>This is a purebred Piers Morgan. Loves to Netf...</td>\n      <td>https://twitter.com/dog_rates/status/666044226...</td>\n      <td>6</td>\n      <td>a</td>\n      <td>265</td>\n      <td>127</td>\n      <td>puppo</td>\n      <td>None</td>\n    </tr>\n    <tr>\n      <th>8437</th>\n      <td>666033412701032449</td>\n      <td>2015-11-15 23:21:54+00:00</td>\n      <td>&lt;a href=\"http://twitter.com/download/iphone\" r...</td>\n      <td>Here is a very happy pup. Big fan of well-main...</td>\n      <td>https://twitter.com/dog_rates/status/666033412...</td>\n      <td>9</td>\n      <td>a</td>\n      <td>111</td>\n      <td>40</td>\n      <td>puppo</td>\n      <td>None</td>\n    </tr>\n    <tr>\n      <th>8438</th>\n      <td>666029285002620928</td>\n      <td>2015-11-15 23:05:30+00:00</td>\n      <td>&lt;a href=\"http://twitter.com/download/iphone\" r...</td>\n      <td>This is a western brown Mitsubishi terrier. Up...</td>\n      <td>https://twitter.com/dog_rates/status/666029285...</td>\n      <td>7</td>\n      <td>a</td>\n      <td>120</td>\n      <td>42</td>\n      <td>puppo</td>\n      <td>None</td>\n    </tr>\n    <tr>\n      <th>8439</th>\n      <td>666020888022790149</td>\n      <td>2015-11-15 22:32:08+00:00</td>\n      <td>&lt;a href=\"http://twitter.com/download/iphone\" r...</td>\n      <td>Here we have a Japanese Irish Setter. Lost eye...</td>\n      <td>https://twitter.com/dog_rates/status/666020888...</td>\n      <td>8</td>\n      <td>None</td>\n      <td>2380</td>\n      <td>457</td>\n      <td>puppo</td>\n      <td>None</td>\n    </tr>\n  </tbody>\n</table>\n<p>8440 rows × 11 columns</p>\n</div>"
     },
     "metadata": {},
     "execution_count": 64
    }
   ],
   "source": [
    "twitter_av_favs_df"
   ]
  },
  {
   "cell_type": "code",
   "execution_count": 60,
   "metadata": {},
   "outputs": [
    {
     "output_type": "execute_result",
     "data": {
      "text/plain": "             tweet_id                 timestamp  \\\n0  892420643555336193 2017-08-01 16:23:56+00:00   \n1  892177421306343426 2017-08-01 00:17:27+00:00   \n2  891815181378084864 2017-07-31 00:18:03+00:00   \n3  891689557279858688 2017-07-30 15:58:51+00:00   \n4  891327558926688256 2017-07-29 16:00:24+00:00   \n\n                                              source  \\\n0  <a href=\"http://twitter.com/download/iphone\" r...   \n1  <a href=\"http://twitter.com/download/iphone\" r...   \n2  <a href=\"http://twitter.com/download/iphone\" r...   \n3  <a href=\"http://twitter.com/download/iphone\" r...   \n4  <a href=\"http://twitter.com/download/iphone\" r...   \n\n                                                text  \\\n0  This is Phineas. He's a mystical boy. Only eve...   \n1  This is Tilly. She's just checking pup on you....   \n2  This is Archie. He is a rare Norwegian Pouncin...   \n3  This is Darla. She commenced a snooze mid meal...   \n4  This is Franklin. He would like you to stop ca...   \n\n                                       expanded_urls  rating_numerator  \\\n0  https://twitter.com/dog_rates/status/892420643...                13   \n1  https://twitter.com/dog_rates/status/892177421...                13   \n2  https://twitter.com/dog_rates/status/891815181...                12   \n3  https://twitter.com/dog_rates/status/891689557...                13   \n4  https://twitter.com/dog_rates/status/891327558...                12   \n\n   rating_denominator      name doggo floofer pupper puppo  favorite_count  \\\n0                  10   Phineas  None    None   None  None           35727   \n1                  10     Tilly  None    None   None  None           30867   \n2                  10    Archie  None    None   None  None           23212   \n3                  10     Darla  None    None   None  None           39015   \n4                  10  Franklin  None    None   None  None           37264   \n\n   retweet_count  \n0           7547  \n1           5597  \n2           3706  \n3           7731  \n4           8334  ",
      "text/html": "<div>\n<style scoped>\n    .dataframe tbody tr th:only-of-type {\n        vertical-align: middle;\n    }\n\n    .dataframe tbody tr th {\n        vertical-align: top;\n    }\n\n    .dataframe thead th {\n        text-align: right;\n    }\n</style>\n<table border=\"1\" class=\"dataframe\">\n  <thead>\n    <tr style=\"text-align: right;\">\n      <th></th>\n      <th>tweet_id</th>\n      <th>timestamp</th>\n      <th>source</th>\n      <th>text</th>\n      <th>expanded_urls</th>\n      <th>rating_numerator</th>\n      <th>rating_denominator</th>\n      <th>name</th>\n      <th>doggo</th>\n      <th>floofer</th>\n      <th>pupper</th>\n      <th>puppo</th>\n      <th>favorite_count</th>\n      <th>retweet_count</th>\n    </tr>\n  </thead>\n  <tbody>\n    <tr>\n      <th>0</th>\n      <td>892420643555336193</td>\n      <td>2017-08-01 16:23:56+00:00</td>\n      <td>&lt;a href=\"http://twitter.com/download/iphone\" r...</td>\n      <td>This is Phineas. He's a mystical boy. Only eve...</td>\n      <td>https://twitter.com/dog_rates/status/892420643...</td>\n      <td>13</td>\n      <td>10</td>\n      <td>Phineas</td>\n      <td>None</td>\n      <td>None</td>\n      <td>None</td>\n      <td>None</td>\n      <td>35727</td>\n      <td>7547</td>\n    </tr>\n    <tr>\n      <th>1</th>\n      <td>892177421306343426</td>\n      <td>2017-08-01 00:17:27+00:00</td>\n      <td>&lt;a href=\"http://twitter.com/download/iphone\" r...</td>\n      <td>This is Tilly. She's just checking pup on you....</td>\n      <td>https://twitter.com/dog_rates/status/892177421...</td>\n      <td>13</td>\n      <td>10</td>\n      <td>Tilly</td>\n      <td>None</td>\n      <td>None</td>\n      <td>None</td>\n      <td>None</td>\n      <td>30867</td>\n      <td>5597</td>\n    </tr>\n    <tr>\n      <th>2</th>\n      <td>891815181378084864</td>\n      <td>2017-07-31 00:18:03+00:00</td>\n      <td>&lt;a href=\"http://twitter.com/download/iphone\" r...</td>\n      <td>This is Archie. He is a rare Norwegian Pouncin...</td>\n      <td>https://twitter.com/dog_rates/status/891815181...</td>\n      <td>12</td>\n      <td>10</td>\n      <td>Archie</td>\n      <td>None</td>\n      <td>None</td>\n      <td>None</td>\n      <td>None</td>\n      <td>23212</td>\n      <td>3706</td>\n    </tr>\n    <tr>\n      <th>3</th>\n      <td>891689557279858688</td>\n      <td>2017-07-30 15:58:51+00:00</td>\n      <td>&lt;a href=\"http://twitter.com/download/iphone\" r...</td>\n      <td>This is Darla. She commenced a snooze mid meal...</td>\n      <td>https://twitter.com/dog_rates/status/891689557...</td>\n      <td>13</td>\n      <td>10</td>\n      <td>Darla</td>\n      <td>None</td>\n      <td>None</td>\n      <td>None</td>\n      <td>None</td>\n      <td>39015</td>\n      <td>7731</td>\n    </tr>\n    <tr>\n      <th>4</th>\n      <td>891327558926688256</td>\n      <td>2017-07-29 16:00:24+00:00</td>\n      <td>&lt;a href=\"http://twitter.com/download/iphone\" r...</td>\n      <td>This is Franklin. He would like you to stop ca...</td>\n      <td>https://twitter.com/dog_rates/status/891327558...</td>\n      <td>12</td>\n      <td>10</td>\n      <td>Franklin</td>\n      <td>None</td>\n      <td>None</td>\n      <td>None</td>\n      <td>None</td>\n      <td>37264</td>\n      <td>8334</td>\n    </tr>\n  </tbody>\n</table>\n</div>"
     },
     "metadata": {},
     "execution_count": 60
    }
   ],
   "source": [
    "twitter_av_favs_df.head()"
   ]
  },
  {
   "cell_type": "code",
   "execution_count": 19,
   "metadata": {},
   "outputs": [
    {
     "output_type": "execute_result",
     "data": {
      "text/plain": "                tweet_id                 timestamp retweeted_status_timestamp\n19    888202515573088257 2017-07-21 01:02:36+00:00  2017-07-19 00:47:34 +0000\n32    886054160059072513 2017-07-15 02:45:48+00:00  2017-07-15 02:44:07 +0000\n36    885311592912609280 2017-07-13 01:35:06+00:00  2017-02-12 01:04:29 +0000\n68    879130579576475649 2017-06-26 00:13:58+00:00  2017-06-23 01:10:23 +0000\n73    878404777348136964 2017-06-24 00:09:53+00:00  2017-06-23 16:00:04 +0000\n...                  ...                       ...                        ...\n1023  746521445350707200 2016-06-25 01:52:36+00:00  2015-11-21 00:46:50 +0000\n1043  743835915802583040 2016-06-17 16:01:16+00:00  2015-11-19 00:32:12 +0000\n1242  711998809858043904 2016-03-21 19:31:59+00:00  2016-03-21 19:29:52 +0000\n2259  667550904950915073 2015-11-20 03:51:52+00:00  2015-11-20 03:43:06 +0000\n2260  667550882905632768 2015-11-20 03:51:47+00:00  2015-11-20 03:41:59 +0000\n\n[181 rows x 3 columns]",
      "text/html": "<div>\n<style scoped>\n    .dataframe tbody tr th:only-of-type {\n        vertical-align: middle;\n    }\n\n    .dataframe tbody tr th {\n        vertical-align: top;\n    }\n\n    .dataframe thead th {\n        text-align: right;\n    }\n</style>\n<table border=\"1\" class=\"dataframe\">\n  <thead>\n    <tr style=\"text-align: right;\">\n      <th></th>\n      <th>tweet_id</th>\n      <th>timestamp</th>\n      <th>retweeted_status_timestamp</th>\n    </tr>\n  </thead>\n  <tbody>\n    <tr>\n      <th>19</th>\n      <td>888202515573088257</td>\n      <td>2017-07-21 01:02:36+00:00</td>\n      <td>2017-07-19 00:47:34 +0000</td>\n    </tr>\n    <tr>\n      <th>32</th>\n      <td>886054160059072513</td>\n      <td>2017-07-15 02:45:48+00:00</td>\n      <td>2017-07-15 02:44:07 +0000</td>\n    </tr>\n    <tr>\n      <th>36</th>\n      <td>885311592912609280</td>\n      <td>2017-07-13 01:35:06+00:00</td>\n      <td>2017-02-12 01:04:29 +0000</td>\n    </tr>\n    <tr>\n      <th>68</th>\n      <td>879130579576475649</td>\n      <td>2017-06-26 00:13:58+00:00</td>\n      <td>2017-06-23 01:10:23 +0000</td>\n    </tr>\n    <tr>\n      <th>73</th>\n      <td>878404777348136964</td>\n      <td>2017-06-24 00:09:53+00:00</td>\n      <td>2017-06-23 16:00:04 +0000</td>\n    </tr>\n    <tr>\n      <th>...</th>\n      <td>...</td>\n      <td>...</td>\n      <td>...</td>\n    </tr>\n    <tr>\n      <th>1023</th>\n      <td>746521445350707200</td>\n      <td>2016-06-25 01:52:36+00:00</td>\n      <td>2015-11-21 00:46:50 +0000</td>\n    </tr>\n    <tr>\n      <th>1043</th>\n      <td>743835915802583040</td>\n      <td>2016-06-17 16:01:16+00:00</td>\n      <td>2015-11-19 00:32:12 +0000</td>\n    </tr>\n    <tr>\n      <th>1242</th>\n      <td>711998809858043904</td>\n      <td>2016-03-21 19:31:59+00:00</td>\n      <td>2016-03-21 19:29:52 +0000</td>\n    </tr>\n    <tr>\n      <th>2259</th>\n      <td>667550904950915073</td>\n      <td>2015-11-20 03:51:52+00:00</td>\n      <td>2015-11-20 03:43:06 +0000</td>\n    </tr>\n    <tr>\n      <th>2260</th>\n      <td>667550882905632768</td>\n      <td>2015-11-20 03:51:47+00:00</td>\n      <td>2015-11-20 03:41:59 +0000</td>\n    </tr>\n  </tbody>\n</table>\n<p>181 rows × 3 columns</p>\n</div>"
     },
     "metadata": {},
     "execution_count": 19
    }
   ],
   "source": [
    "tweet_av_df[tweet_av_df.retweeted_status_timestamp.notna()][['tweet_id', 'timestamp', 'retweeted_status_timestamp']]"
   ]
  },
  {
   "cell_type": "code",
   "execution_count": 6,
   "metadata": {},
   "outputs": [
    {
     "output_type": "execute_result",
     "data": {
      "text/plain": "       doggo floofer pupper puppo\ncount   2356    2356   2356  2356\nunique     2       2      2     2\ntop     None    None   None  None\nfreq    2259    2346   2099  2326",
      "text/html": "<div>\n<style scoped>\n    .dataframe tbody tr th:only-of-type {\n        vertical-align: middle;\n    }\n\n    .dataframe tbody tr th {\n        vertical-align: top;\n    }\n\n    .dataframe thead th {\n        text-align: right;\n    }\n</style>\n<table border=\"1\" class=\"dataframe\">\n  <thead>\n    <tr style=\"text-align: right;\">\n      <th></th>\n      <th>doggo</th>\n      <th>floofer</th>\n      <th>pupper</th>\n      <th>puppo</th>\n    </tr>\n  </thead>\n  <tbody>\n    <tr>\n      <th>count</th>\n      <td>2356</td>\n      <td>2356</td>\n      <td>2356</td>\n      <td>2356</td>\n    </tr>\n    <tr>\n      <th>unique</th>\n      <td>2</td>\n      <td>2</td>\n      <td>2</td>\n      <td>2</td>\n    </tr>\n    <tr>\n      <th>top</th>\n      <td>None</td>\n      <td>None</td>\n      <td>None</td>\n      <td>None</td>\n    </tr>\n    <tr>\n      <th>freq</th>\n      <td>2259</td>\n      <td>2346</td>\n      <td>2099</td>\n      <td>2326</td>\n    </tr>\n  </tbody>\n</table>\n</div>"
     },
     "metadata": {},
     "execution_count": 6
    }
   ],
   "source": [
    "tweet_av_df[['doggo', 'floofer', 'pupper', 'puppo']].describe()"
   ]
  },
  {
   "cell_type": "code",
   "execution_count": 5,
   "metadata": {},
   "outputs": [
    {
     "output_type": "execute_result",
     "data": {
      "text/plain": "                tweet_id                                          jpg_url  \\\n85    667509364010450944  https://pbs.twimg.com/media/CUN4Or5UAAAa5K4.jpg   \n224   670319130621435904  https://pbs.twimg.com/media/CU1zsMSUAAAS0qW.jpg   \n241   670444955656130560  https://pbs.twimg.com/media/CU3mITUWIAAfyQS.jpg   \n327   671896809300709376  https://pbs.twimg.com/media/CVMOlMiWwAA4Yxl.jpg   \n382   673320132811366400  https://pbs.twimg.com/media/CVgdFjNWEAAxmbq.jpg   \n...                  ...                                              ...   \n1970  868880397819494401  https://pbs.twimg.com/media/DA7iHL5U0AA1OQo.jpg   \n1992  873697596434513921  https://pbs.twimg.com/media/DA7iHL5U0AA1OQo.jpg   \n2041  885311592912609280  https://pbs.twimg.com/media/C4bTH6nWMAAX_bJ.jpg   \n2051  887473957103951883  https://pbs.twimg.com/media/DFDw2tyUQAAAFke.jpg   \n2055  888202515573088257  https://pbs.twimg.com/media/DFDw2tyUQAAAFke.jpg   \n\n      img_num                  p1   p1_conf  p1_dog                   p2  \\\n85          1              beagle  0.636169    True   Labrador_retriever   \n224         1       Irish_terrier  0.254856    True               briard   \n241         1    English_springer  0.403698    True     Brittany_spaniel   \n327         1                chow  0.243529    True              hamster   \n382         3             Samoyed  0.978833    True           Pomeranian   \n...       ...                 ...       ...     ...                  ...   \n1970        1              laptop  0.153718   False       French_bulldog   \n1992        1              laptop  0.153718   False       French_bulldog   \n2041        1  Labrador_retriever  0.908703    True            seat_belt   \n2051        2            Pembroke  0.809197    True  Rhodesian_ridgeback   \n2055        2            Pembroke  0.809197    True  Rhodesian_ridgeback   \n\n       p2_conf  p2_dog                           p3   p3_conf  p3_dog  \n85    0.119256    True             golden_retriever  0.082549    True  \n224   0.227716    True  soft-coated_wheaten_terrier  0.223263    True  \n241   0.347609    True       Welsh_springer_spaniel  0.137186    True  \n327   0.227150   False                   Pomeranian  0.056057    True  \n382   0.012763    True                   Eskimo_dog  0.001853    True  \n...        ...     ...                          ...       ...     ...  \n1970  0.099984    True                      printer  0.077130   False  \n1992  0.099984    True                      printer  0.077130   False  \n2041  0.057091   False                          pug  0.011933    True  \n2051  0.054950    True                       beagle  0.038915    True  \n2055  0.054950    True                       beagle  0.038915    True  \n\n[132 rows x 12 columns]",
      "text/html": "<div>\n<style scoped>\n    .dataframe tbody tr th:only-of-type {\n        vertical-align: middle;\n    }\n\n    .dataframe tbody tr th {\n        vertical-align: top;\n    }\n\n    .dataframe thead th {\n        text-align: right;\n    }\n</style>\n<table border=\"1\" class=\"dataframe\">\n  <thead>\n    <tr style=\"text-align: right;\">\n      <th></th>\n      <th>tweet_id</th>\n      <th>jpg_url</th>\n      <th>img_num</th>\n      <th>p1</th>\n      <th>p1_conf</th>\n      <th>p1_dog</th>\n      <th>p2</th>\n      <th>p2_conf</th>\n      <th>p2_dog</th>\n      <th>p3</th>\n      <th>p3_conf</th>\n      <th>p3_dog</th>\n    </tr>\n  </thead>\n  <tbody>\n    <tr>\n      <th>85</th>\n      <td>667509364010450944</td>\n      <td>https://pbs.twimg.com/media/CUN4Or5UAAAa5K4.jpg</td>\n      <td>1</td>\n      <td>beagle</td>\n      <td>0.636169</td>\n      <td>True</td>\n      <td>Labrador_retriever</td>\n      <td>0.119256</td>\n      <td>True</td>\n      <td>golden_retriever</td>\n      <td>0.082549</td>\n      <td>True</td>\n    </tr>\n    <tr>\n      <th>224</th>\n      <td>670319130621435904</td>\n      <td>https://pbs.twimg.com/media/CU1zsMSUAAAS0qW.jpg</td>\n      <td>1</td>\n      <td>Irish_terrier</td>\n      <td>0.254856</td>\n      <td>True</td>\n      <td>briard</td>\n      <td>0.227716</td>\n      <td>True</td>\n      <td>soft-coated_wheaten_terrier</td>\n      <td>0.223263</td>\n      <td>True</td>\n    </tr>\n    <tr>\n      <th>241</th>\n      <td>670444955656130560</td>\n      <td>https://pbs.twimg.com/media/CU3mITUWIAAfyQS.jpg</td>\n      <td>1</td>\n      <td>English_springer</td>\n      <td>0.403698</td>\n      <td>True</td>\n      <td>Brittany_spaniel</td>\n      <td>0.347609</td>\n      <td>True</td>\n      <td>Welsh_springer_spaniel</td>\n      <td>0.137186</td>\n      <td>True</td>\n    </tr>\n    <tr>\n      <th>327</th>\n      <td>671896809300709376</td>\n      <td>https://pbs.twimg.com/media/CVMOlMiWwAA4Yxl.jpg</td>\n      <td>1</td>\n      <td>chow</td>\n      <td>0.243529</td>\n      <td>True</td>\n      <td>hamster</td>\n      <td>0.227150</td>\n      <td>False</td>\n      <td>Pomeranian</td>\n      <td>0.056057</td>\n      <td>True</td>\n    </tr>\n    <tr>\n      <th>382</th>\n      <td>673320132811366400</td>\n      <td>https://pbs.twimg.com/media/CVgdFjNWEAAxmbq.jpg</td>\n      <td>3</td>\n      <td>Samoyed</td>\n      <td>0.978833</td>\n      <td>True</td>\n      <td>Pomeranian</td>\n      <td>0.012763</td>\n      <td>True</td>\n      <td>Eskimo_dog</td>\n      <td>0.001853</td>\n      <td>True</td>\n    </tr>\n    <tr>\n      <th>...</th>\n      <td>...</td>\n      <td>...</td>\n      <td>...</td>\n      <td>...</td>\n      <td>...</td>\n      <td>...</td>\n      <td>...</td>\n      <td>...</td>\n      <td>...</td>\n      <td>...</td>\n      <td>...</td>\n      <td>...</td>\n    </tr>\n    <tr>\n      <th>1970</th>\n      <td>868880397819494401</td>\n      <td>https://pbs.twimg.com/media/DA7iHL5U0AA1OQo.jpg</td>\n      <td>1</td>\n      <td>laptop</td>\n      <td>0.153718</td>\n      <td>False</td>\n      <td>French_bulldog</td>\n      <td>0.099984</td>\n      <td>True</td>\n      <td>printer</td>\n      <td>0.077130</td>\n      <td>False</td>\n    </tr>\n    <tr>\n      <th>1992</th>\n      <td>873697596434513921</td>\n      <td>https://pbs.twimg.com/media/DA7iHL5U0AA1OQo.jpg</td>\n      <td>1</td>\n      <td>laptop</td>\n      <td>0.153718</td>\n      <td>False</td>\n      <td>French_bulldog</td>\n      <td>0.099984</td>\n      <td>True</td>\n      <td>printer</td>\n      <td>0.077130</td>\n      <td>False</td>\n    </tr>\n    <tr>\n      <th>2041</th>\n      <td>885311592912609280</td>\n      <td>https://pbs.twimg.com/media/C4bTH6nWMAAX_bJ.jpg</td>\n      <td>1</td>\n      <td>Labrador_retriever</td>\n      <td>0.908703</td>\n      <td>True</td>\n      <td>seat_belt</td>\n      <td>0.057091</td>\n      <td>False</td>\n      <td>pug</td>\n      <td>0.011933</td>\n      <td>True</td>\n    </tr>\n    <tr>\n      <th>2051</th>\n      <td>887473957103951883</td>\n      <td>https://pbs.twimg.com/media/DFDw2tyUQAAAFke.jpg</td>\n      <td>2</td>\n      <td>Pembroke</td>\n      <td>0.809197</td>\n      <td>True</td>\n      <td>Rhodesian_ridgeback</td>\n      <td>0.054950</td>\n      <td>True</td>\n      <td>beagle</td>\n      <td>0.038915</td>\n      <td>True</td>\n    </tr>\n    <tr>\n      <th>2055</th>\n      <td>888202515573088257</td>\n      <td>https://pbs.twimg.com/media/DFDw2tyUQAAAFke.jpg</td>\n      <td>2</td>\n      <td>Pembroke</td>\n      <td>0.809197</td>\n      <td>True</td>\n      <td>Rhodesian_ridgeback</td>\n      <td>0.054950</td>\n      <td>True</td>\n      <td>beagle</td>\n      <td>0.038915</td>\n      <td>True</td>\n    </tr>\n  </tbody>\n</table>\n<p>132 rows × 12 columns</p>\n</div>"
     },
     "metadata": {},
     "execution_count": 5
    }
   ],
   "source": [
    "image_pred_df[image_pred_df.duplicated(['jpg_url'], keep=False)].sort()"
   ]
  },
  {
   "cell_type": "code",
   "execution_count": null,
   "metadata": {
    "tags": []
   },
   "outputs": [],
   "source": [
    "tweets_data = []\n",
    "with open('tweets.json', errors='ignore') as tweets:\n",
    "    for line in tweets:\n",
    "        #print(json.loads(json.dumps(line)))\n",
    "        tweets_data.append(json.loads(json.dumps(line)))\n",
    "tweets_df = pd.DataFrame(tweets_data)\n",
    "tweets_df.head()"
   ]
  },
  {
   "cell_type": "code",
   "execution_count": null,
   "metadata": {
    "tags": []
   },
   "outputs": [],
   "source": [
    "from pandas.io.json import json_normalize\n",
    "twt_dt = {}\n",
    "with open('tweets.json', errors='ignore') as tweets:\n",
    "    for line in tweets:\n",
    "        twt_dt.append(json_normalize(json.loads(line)))\n",
    "        #twt_dict = json.loads(line)\n",
    "        #print(json_normalize(twt_dict))        \n",
    "cmpd_df = pd.DataFrame.from_records(twt_dt)\n",
    "cmpd_df.head()\n",
    "#print(tweets_data[0])\n",
    "#json_normalize(tweets_data[0])\n",
    "\n"
   ]
  },
  {
   "cell_type": "code",
   "execution_count": null,
   "metadata": {},
   "outputs": [],
   "source": [
    "from pandas.io.json import json_normalize\n",
    "df = json_normalize([json.loads(x) for x in open('tweets.json').readlines()])\n",
    "print (df)"
   ]
  },
  {
   "cell_type": "code",
   "execution_count": null,
   "metadata": {
    "tags": []
   },
   "outputs": [],
   "source": [
    "df = pd.DataFrame()\n",
    "row_df=[]\n",
    "with open('tweets.json') as f:\n",
    "    for l in f:\n",
    "        try:\n",
    "            df. = json_normalize(json.loads(l))\n",
    "            row_df.append(df)\n",
    "        except:\n",
    "            pass\n",
    "dt = pd.concat(row_df)\n",
    "dt.head()\n",
    "#dfA.head()"
   ]
  },
  {
   "cell_type": "code",
   "execution_count": null,
   "metadata": {
    "tags": []
   },
   "outputs": [],
   "source": [
    "df.info()"
   ]
  },
  {
   "cell_type": "code",
   "execution_count": null,
   "metadata": {
    "tags": []
   },
   "outputs": [],
   "source": [
    "dt.columns"
   ]
  },
  {
   "cell_type": "code",
   "execution_count": null,
   "metadata": {
    "tags": []
   },
   "outputs": [],
   "source": [
    "data = []\n",
    "with open('tweets.json','r') as f:\n",
    "    for l in f:\n",
    "        try:\n",
    "            data.append(json_normalize(json.loads(l)))\n",
    "        except:\n",
    "            pass\n",
    "print(type(data[0]))\n",
    "df = pd.DataFrame.from_dict(map(dict,data))\n",
    "pd.DataFrame.join()\n",
    "df.head()"
   ]
  },
  {
   "cell_type": "code",
   "execution_count": null,
   "metadata": {},
   "outputs": [],
   "source": [
    "df.columns[pd.Series(df.columns).str.contains(\"favorite_count\")]"
   ]
  },
  {
   "cell_type": "code",
   "execution_count": null,
   "metadata": {},
   "outputs": [],
   "source": [
    "df.columns[pd.Series(df.columns).str.contains(\"retweet_count\")]"
   ]
  },
  {
   "cell_type": "code",
   "execution_count": null,
   "metadata": {
    "tags": []
   },
   "outputs": [],
   "source": [
    "df[['favorite_count']].info()"
   ]
  },
  {
   "cell_type": "code",
   "execution_count": null,
   "metadata": {
    "tags": []
   },
   "outputs": [],
   "source": [
    "df[['retweet_count']].info()"
   ]
  },
  {
   "cell_type": "code",
   "execution_count": null,
   "metadata": {
    "tags": []
   },
   "outputs": [],
   "source": [
    "df[['id']].info()"
   ]
  },
  {
   "cell_type": "code",
   "execution_count": null,
   "metadata": {},
   "outputs": [],
   "source": [
    "df[['retweet_count']]"
   ]
  },
  {
   "cell_type": "code",
   "execution_count": null,
   "metadata": {},
   "outputs": [],
   "source": [
    "df[['id']]"
   ]
  },
  {
   "cell_type": "code",
   "execution_count": null,
   "metadata": {},
   "outputs": [],
   "source": [
    "df[['favorite_count']]"
   ]
  },
  {
   "cell_type": "code",
   "execution_count": null,
   "metadata": {},
   "outputs": [],
   "source": [
    "df[['id','favorite_count', 'retweet_count']].head()"
   ]
  },
  {
   "cell_type": "code",
   "execution_count": 4,
   "metadata": {
    "tags": []
   },
   "outputs": [
    {
     "output_type": "execute_result",
     "data": {
      "text/plain": "             tweet_id  favorite_count  retweet_count\n0  892420643555336193           39467           8853\n1  892177421306343426           33819           6514\n2  891815181378084864           25461           4328\n3  891689557279858688           42908           8964\n4  891327558926688256           41048           9774",
      "text/html": "<div>\n<style scoped>\n    .dataframe tbody tr th:only-of-type {\n        vertical-align: middle;\n    }\n\n    .dataframe tbody tr th {\n        vertical-align: top;\n    }\n\n    .dataframe thead th {\n        text-align: right;\n    }\n</style>\n<table border=\"1\" class=\"dataframe\">\n  <thead>\n    <tr style=\"text-align: right;\">\n      <th></th>\n      <th>tweet_id</th>\n      <th>favorite_count</th>\n      <th>retweet_count</th>\n    </tr>\n  </thead>\n  <tbody>\n    <tr>\n      <th>0</th>\n      <td>892420643555336193</td>\n      <td>39467</td>\n      <td>8853</td>\n    </tr>\n    <tr>\n      <th>1</th>\n      <td>892177421306343426</td>\n      <td>33819</td>\n      <td>6514</td>\n    </tr>\n    <tr>\n      <th>2</th>\n      <td>891815181378084864</td>\n      <td>25461</td>\n      <td>4328</td>\n    </tr>\n    <tr>\n      <th>3</th>\n      <td>891689557279858688</td>\n      <td>42908</td>\n      <td>8964</td>\n    </tr>\n    <tr>\n      <th>4</th>\n      <td>891327558926688256</td>\n      <td>41048</td>\n      <td>9774</td>\n    </tr>\n  </tbody>\n</table>\n</div>"
     },
     "metadata": {},
     "execution_count": 4
    }
   ],
   "source": [
    "def is_json_key_present(json, key):\n",
    "    try:\n",
    "        buf = json[key]\n",
    "    except KeyError:\n",
    "        return False\n",
    "\n",
    "    return True\n",
    "\n",
    "column_names = [\"tweet_id\", \"favorite_count\", \"retweet_count\"]\n",
    "list_vals = []\n",
    "with open('tweet-json.txt','r') as f:\n",
    "    for l in f:\n",
    "        try:\n",
    "            myjson = json.loads(l)\n",
    "            if (is_json_key_present(myjson,'id') and  is_json_key_present(myjson,'favorite_count') and is_json_key_present(myjson,'retweet_count')):\n",
    "                vals = [myjson['id'], myjson['favorite_count'], myjson['retweet_count']]\n",
    "                list_vals.append(vals)\n",
    "            else:\n",
    "                print('Skipping row as there is no data')\n",
    "        except:\n",
    "            pass\n",
    "mydf = pd.DataFrame(list_vals, columns=column_names)\n",
    "mydf.head()"
   ]
  },
  {
   "cell_type": "code",
   "execution_count": null,
   "metadata": {
    "tags": []
   },
   "outputs": [],
   "source": [
    "mydf.info()"
   ]
  },
  {
   "cell_type": "code",
   "execution_count": null,
   "metadata": {},
   "outputs": [],
   "source": [
    "twitter_archive_favs_df =  tweet_av_df.merge(mydf, on='tweet_id')"
   ]
  },
  {
   "cell_type": "code",
   "execution_count": null,
   "metadata": {},
   "outputs": [],
   "source": [
    "twitter_archive_master_df.head()"
   ]
  },
  {
   "cell_type": "code",
   "execution_count": null,
   "metadata": {
    "tags": []
   },
   "outputs": [],
   "source": [
    "twitter_archive_master_df.info()"
   ]
  },
  {
   "cell_type": "code",
   "execution_count": null,
   "metadata": {},
   "outputs": [],
   "source": [
    "del(twitter_archive_master_df)"
   ]
  },
  {
   "cell_type": "code",
   "execution_count": null,
   "metadata": {},
   "outputs": [],
   "source": [
    "twitter_archive_master_df = twitter_archive_favs_df.merge(image_pd_df, on='tweet_id')"
   ]
  },
  {
   "cell_type": "code",
   "execution_count": null,
   "metadata": {
    "tags": []
   },
   "outputs": [],
   "source": [
    "twitter_archive_master_df.info()"
   ]
  },
  {
   "cell_type": "code",
   "execution_count": 134,
   "metadata": {},
   "outputs": [],
   "source": [
    "twitter_archive_master_df.to_csv('twitter_archive_master.csv')"
   ]
  },
  {
   "cell_type": "code",
   "execution_count": 6,
   "metadata": {},
   "outputs": [
    {
     "output_type": "execute_result",
     "data": {
      "text/plain": "0       This is Phineas. He's a mystical boy. Only eve...\n1       This is Tilly. She's just checking pup on you....\n3       This is Darla. She commenced a snooze mid meal...\n5       Here we have a majestic great white breaching ...\n6       Meet Jax. He enjoys ice cream so much he gets ...\n                              ...                        \n2037    This is the best thing I've ever seen so sprea...\n2074    After so many requests... here you go.\\n\\nGood...\n2172    Just got home from college. Dis my dog. She do...\n2212    Never forget this vine. You will not stop watc...\n2228    This is Jareld. Jareld rules these waters. Lad...\nName: text, Length: 433, dtype: object"
     },
     "metadata": {},
     "execution_count": 6
    }
   ],
   "source": [
    "tweet_av_df[tweet_av_df.rating_numerator > 12 ].text"
   ]
  },
  {
   "cell_type": "code",
   "execution_count": 7,
   "metadata": {},
   "outputs": [
    {
     "output_type": "execute_result",
     "data": {
      "text/plain": "Index(['in_reply_to_status_id', 'in_reply_to_user_id', 'retweeted_status_id',\n       'retweeted_status_user_id', 'retweeted_status_timestamp',\n       'expanded_urls'],\n      dtype='object')"
     },
     "metadata": {},
     "execution_count": 7
    }
   ],
   "source": [
    "tweet_av_df.columns[tweet_av_df.isnull().any()]"
   ]
  },
  {
   "cell_type": "code",
   "execution_count": 8,
   "metadata": {
    "tags": []
   },
   "outputs": [
    {
     "output_type": "stream",
     "name": "stdout",
     "text": "<class 'pandas.core.frame.DataFrame'>\nRangeIndex: 2356 entries, 0 to 2355\nData columns (total 17 columns):\n #   Column                      Non-Null Count  Dtype  \n---  ------                      --------------  -----  \n 0   tweet_id                    2356 non-null   int64  \n 1   in_reply_to_status_id       78 non-null     float64\n 2   in_reply_to_user_id         78 non-null     float64\n 3   timestamp                   2356 non-null   object \n 4   source                      2356 non-null   object \n 5   text                        2356 non-null   object \n 6   retweeted_status_id         181 non-null    float64\n 7   retweeted_status_user_id    181 non-null    float64\n 8   retweeted_status_timestamp  181 non-null    object \n 9   expanded_urls               2297 non-null   object \n 10  rating_numerator            2356 non-null   int64  \n 11  rating_denominator          2356 non-null   int64  \n 12  name                        2356 non-null   object \n 13  doggo                       2356 non-null   object \n 14  floofer                     2356 non-null   object \n 15  pupper                      2356 non-null   object \n 16  puppo                       2356 non-null   object \ndtypes: float64(4), int64(3), object(10)\nmemory usage: 313.0+ KB\n"
    }
   ],
   "source": [
    "tweet_av_df.info()"
   ]
  },
  {
   "cell_type": "code",
   "execution_count": 9,
   "metadata": {
    "tags": []
   },
   "outputs": [
    {
     "output_type": "stream",
     "name": "stdout",
     "text": "<class 'pandas.core.frame.DataFrame'>\nRangeIndex: 2075 entries, 0 to 2074\nData columns (total 12 columns):\n #   Column    Non-Null Count  Dtype  \n---  ------    --------------  -----  \n 0   tweet_id  2075 non-null   int64  \n 1   jpg_url   2075 non-null   object \n 2   img_num   2075 non-null   int64  \n 3   p1        2075 non-null   object \n 4   p1_conf   2075 non-null   float64\n 5   p1_dog    2075 non-null   bool   \n 6   p2        2075 non-null   object \n 7   p2_conf   2075 non-null   float64\n 8   p2_dog    2075 non-null   bool   \n 9   p3        2075 non-null   object \n 10  p3_conf   2075 non-null   float64\n 11  p3_dog    2075 non-null   bool   \ndtypes: bool(3), float64(3), int64(2), object(4)\nmemory usage: 152.1+ KB\n"
    }
   ],
   "source": [
    "image_pd_df.info()"
   ]
  },
  {
   "cell_type": "code",
   "execution_count": 10,
   "metadata": {
    "tags": []
   },
   "outputs": [
    {
     "output_type": "stream",
     "name": "stdout",
     "text": "<class 'pandas.core.frame.DataFrame'>\nRangeIndex: 2354 entries, 0 to 2353\nData columns (total 3 columns):\n #   Column          Non-Null Count  Dtype\n---  ------          --------------  -----\n 0   tweet_id        2354 non-null   int64\n 1   favorite_count  2354 non-null   int64\n 2   retweet_count   2354 non-null   int64\ndtypes: int64(3)\nmemory usage: 55.3 KB\n"
    }
   ],
   "source": [
    "mydf.info()"
   ]
  },
  {
   "cell_type": "code",
   "execution_count": 11,
   "metadata": {},
   "outputs": [
    {
     "output_type": "execute_result",
     "data": {
      "text/plain": "Empty DataFrame\nColumns: [tweet_id, in_reply_to_status_id, in_reply_to_user_id, timestamp, source, text, retweeted_status_id, retweeted_status_user_id, retweeted_status_timestamp, expanded_urls, rating_numerator, rating_denominator, name, doggo, floofer, pupper, puppo]\nIndex: []",
      "text/html": "<div>\n<style scoped>\n    .dataframe tbody tr th:only-of-type {\n        vertical-align: middle;\n    }\n\n    .dataframe tbody tr th {\n        vertical-align: top;\n    }\n\n    .dataframe thead th {\n        text-align: right;\n    }\n</style>\n<table border=\"1\" class=\"dataframe\">\n  <thead>\n    <tr style=\"text-align: right;\">\n      <th></th>\n      <th>tweet_id</th>\n      <th>in_reply_to_status_id</th>\n      <th>in_reply_to_user_id</th>\n      <th>timestamp</th>\n      <th>source</th>\n      <th>text</th>\n      <th>retweeted_status_id</th>\n      <th>retweeted_status_user_id</th>\n      <th>retweeted_status_timestamp</th>\n      <th>expanded_urls</th>\n      <th>rating_numerator</th>\n      <th>rating_denominator</th>\n      <th>name</th>\n      <th>doggo</th>\n      <th>floofer</th>\n      <th>pupper</th>\n      <th>puppo</th>\n    </tr>\n  </thead>\n  <tbody>\n  </tbody>\n</table>\n</div>"
     },
     "metadata": {},
     "execution_count": 11
    }
   ],
   "source": [
    "tweet_av_df[tweet_av_df.tweet_id.duplicated()]"
   ]
  },
  {
   "cell_type": "code",
   "execution_count": 15,
   "metadata": {},
   "outputs": [
    {
     "output_type": "execute_result",
     "data": {
      "text/plain": "979     1776\n313      960\n189      666\n188      420\n2074     420\n1120     204\n290      182\n902      165\n1779     144\n1634     143\n1635     121\n1228      99\n1843      88\n433       84\n1254      80\n695       75\n340       75\n1351      60\n1202      50\n1274      45\n1433      44\n763       27\n1712      26\n516       24\n1663      20\n55        17\n285       15\n291       15\n83        14\n866       14\nName: rating_numerator, dtype: int64"
     },
     "metadata": {},
     "execution_count": 15
    }
   ],
   "source": [
    "tweet_av_df.rating_numerator.sort_values(ascending=False).head(30)"
   ]
  },
  {
   "cell_type": "code",
   "execution_count": 35,
   "metadata": {},
   "outputs": [
    {
     "output_type": "execute_result",
     "data": {
      "text/plain": "7"
     },
     "metadata": {},
     "execution_count": 35
    }
   ],
   "source": [
    "int(np.rint(np.log2(165)))"
   ]
  },
  {
   "cell_type": "code",
   "execution_count": 24,
   "metadata": {},
   "outputs": [
    {
     "output_type": "execute_result",
     "data": {
      "text/plain": "      rating_numerator  rating_denominator\n188                420                  10\n189                666                  10\n290                182                  10\n313                960                   0\n902                165                 150\n979               1776                  10\n1120               204                 170\n1634               143                 130\n1635               121                 110\n1779               144                 120\n2074               420                  10",
      "text/html": "<div>\n<style scoped>\n    .dataframe tbody tr th:only-of-type {\n        vertical-align: middle;\n    }\n\n    .dataframe tbody tr th {\n        vertical-align: top;\n    }\n\n    .dataframe thead th {\n        text-align: right;\n    }\n</style>\n<table border=\"1\" class=\"dataframe\">\n  <thead>\n    <tr style=\"text-align: right;\">\n      <th></th>\n      <th>rating_numerator</th>\n      <th>rating_denominator</th>\n    </tr>\n  </thead>\n  <tbody>\n    <tr>\n      <th>188</th>\n      <td>420</td>\n      <td>10</td>\n    </tr>\n    <tr>\n      <th>189</th>\n      <td>666</td>\n      <td>10</td>\n    </tr>\n    <tr>\n      <th>290</th>\n      <td>182</td>\n      <td>10</td>\n    </tr>\n    <tr>\n      <th>313</th>\n      <td>960</td>\n      <td>0</td>\n    </tr>\n    <tr>\n      <th>902</th>\n      <td>165</td>\n      <td>150</td>\n    </tr>\n    <tr>\n      <th>979</th>\n      <td>1776</td>\n      <td>10</td>\n    </tr>\n    <tr>\n      <th>1120</th>\n      <td>204</td>\n      <td>170</td>\n    </tr>\n    <tr>\n      <th>1634</th>\n      <td>143</td>\n      <td>130</td>\n    </tr>\n    <tr>\n      <th>1635</th>\n      <td>121</td>\n      <td>110</td>\n    </tr>\n    <tr>\n      <th>1779</th>\n      <td>144</td>\n      <td>120</td>\n    </tr>\n    <tr>\n      <th>2074</th>\n      <td>420</td>\n      <td>10</td>\n    </tr>\n  </tbody>\n</table>\n</div>"
     },
     "metadata": {},
     "execution_count": 24
    }
   ],
   "source": [
    "tweet_av_df[tweet_av_df.rating_numerator > 100][['rating_numerator', 'rating_denominator']]"
   ]
  },
  {
   "cell_type": "code",
   "execution_count": null,
   "metadata": {},
   "outputs": [],
   "source": []
  },
  {
   "cell_type": "code",
   "execution_count": 17,
   "metadata": {},
   "outputs": [
    {
     "output_type": "execute_result",
     "data": {
      "text/plain": "315     0\n1016    0\n2335    1\n2261    1\n2338    1\n605     1\n1446    1\n1869    1\n2091    1\n2038    1\n1940    1\n1764    2\n2310    2\n1761    2\n1920    2\n2246    2\n2237    2\n2349    2\n2326    2\n2079    2\n2305    3\n1249    3\n1898    3\n1478    3\n1692    3\n2202    3\n765     3\n1928    3\n1314    3\n2183    3\nName: rating_numerator, dtype: int64"
     },
     "metadata": {},
     "execution_count": 17
    }
   ],
   "source": [
    "tweet_av_df.rating_numerator.sort_values().head(30)"
   ]
  },
  {
   "cell_type": "code",
   "execution_count": 36,
   "metadata": {},
   "outputs": [
    {
     "output_type": "execute_result",
     "data": {
      "text/plain": "Index(['tweet_id', 'in_reply_to_status_id', 'in_reply_to_user_id', 'timestamp',\n       'source', 'text', 'retweeted_status_id', 'retweeted_status_user_id',\n       'retweeted_status_timestamp', 'expanded_urls', 'rating_numerator',\n       'rating_denominator', 'name', 'doggo', 'floofer', 'pupper', 'puppo'],\n      dtype='object')"
     },
     "metadata": {},
     "execution_count": 36
    }
   ],
   "source": [
    "tweet_av_df.columns"
   ]
  },
  {
   "cell_type": "code",
   "execution_count": 37,
   "metadata": {},
   "outputs": [
    {
     "output_type": "execute_result",
     "data": {
      "text/plain": "array(['None', 'doggo'], dtype=object)"
     },
     "metadata": {},
     "execution_count": 37
    }
   ],
   "source": [
    "tweet_av_df.doggo.unique()"
   ]
  },
  {
   "cell_type": "code",
   "execution_count": 40,
   "metadata": {},
   "outputs": [
    {
     "output_type": "execute_result",
     "data": {
      "text/plain": "               tweet_id  in_reply_to_status_id  in_reply_to_user_id  \\\n200  854010172552949760                    NaN                  NaN   \n\n                     timestamp  \\\n200  2017-04-17 16:34:26 +0000   \n\n                                                source  \\\n200  <a href=\"http://twitter.com/download/iphone\" r...   \n\n                                                  text  retweeted_status_id  \\\n200  At first I thought this was a shy doggo, but i...                  NaN   \n\n     retweeted_status_user_id retweeted_status_timestamp  \\\n200                       NaN                        NaN   \n\n                                         expanded_urls  rating_numerator  \\\n200  https://twitter.com/dog_rates/status/854010172...                11   \n\n     rating_denominator  name  doggo  floofer pupper puppo  \n200                  10  None  doggo  floofer   None  None  ",
      "text/html": "<div>\n<style scoped>\n    .dataframe tbody tr th:only-of-type {\n        vertical-align: middle;\n    }\n\n    .dataframe tbody tr th {\n        vertical-align: top;\n    }\n\n    .dataframe thead th {\n        text-align: right;\n    }\n</style>\n<table border=\"1\" class=\"dataframe\">\n  <thead>\n    <tr style=\"text-align: right;\">\n      <th></th>\n      <th>tweet_id</th>\n      <th>in_reply_to_status_id</th>\n      <th>in_reply_to_user_id</th>\n      <th>timestamp</th>\n      <th>source</th>\n      <th>text</th>\n      <th>retweeted_status_id</th>\n      <th>retweeted_status_user_id</th>\n      <th>retweeted_status_timestamp</th>\n      <th>expanded_urls</th>\n      <th>rating_numerator</th>\n      <th>rating_denominator</th>\n      <th>name</th>\n      <th>doggo</th>\n      <th>floofer</th>\n      <th>pupper</th>\n      <th>puppo</th>\n    </tr>\n  </thead>\n  <tbody>\n    <tr>\n      <th>200</th>\n      <td>854010172552949760</td>\n      <td>NaN</td>\n      <td>NaN</td>\n      <td>2017-04-17 16:34:26 +0000</td>\n      <td>&lt;a href=\"http://twitter.com/download/iphone\" r...</td>\n      <td>At first I thought this was a shy doggo, but i...</td>\n      <td>NaN</td>\n      <td>NaN</td>\n      <td>NaN</td>\n      <td>https://twitter.com/dog_rates/status/854010172...</td>\n      <td>11</td>\n      <td>10</td>\n      <td>None</td>\n      <td>doggo</td>\n      <td>floofer</td>\n      <td>None</td>\n      <td>None</td>\n    </tr>\n  </tbody>\n</table>\n</div>"
     },
     "metadata": {},
     "execution_count": 40
    }
   ],
   "source": [
    "tweet_av_df.query('doggo != \"None\" and  floofer != \"None\"')"
   ]
  },
  {
   "cell_type": "code",
   "execution_count": 43,
   "metadata": {},
   "outputs": [
    {
     "output_type": "execute_result",
     "data": {
      "text/plain": "                tweet_id  in_reply_to_status_id  in_reply_to_user_id  \\\n0     892420643555336193                    NaN                  NaN   \n1     892177421306343426                    NaN                  NaN   \n2     891815181378084864                    NaN                  NaN   \n3     891689557279858688                    NaN                  NaN   \n4     891327558926688256                    NaN                  NaN   \n...                  ...                    ...                  ...   \n2351  666049248165822465                    NaN                  NaN   \n2352  666044226329800704                    NaN                  NaN   \n2353  666033412701032449                    NaN                  NaN   \n2354  666029285002620928                    NaN                  NaN   \n2355  666020888022790149                    NaN                  NaN   \n\n                      timestamp  \\\n0     2017-08-01 16:23:56 +0000   \n1     2017-08-01 00:17:27 +0000   \n2     2017-07-31 00:18:03 +0000   \n3     2017-07-30 15:58:51 +0000   \n4     2017-07-29 16:00:24 +0000   \n...                         ...   \n2351  2015-11-16 00:24:50 +0000   \n2352  2015-11-16 00:04:52 +0000   \n2353  2015-11-15 23:21:54 +0000   \n2354  2015-11-15 23:05:30 +0000   \n2355  2015-11-15 22:32:08 +0000   \n\n                                                 source  \\\n0     <a href=\"http://twitter.com/download/iphone\" r...   \n1     <a href=\"http://twitter.com/download/iphone\" r...   \n2     <a href=\"http://twitter.com/download/iphone\" r...   \n3     <a href=\"http://twitter.com/download/iphone\" r...   \n4     <a href=\"http://twitter.com/download/iphone\" r...   \n...                                                 ...   \n2351  <a href=\"http://twitter.com/download/iphone\" r...   \n2352  <a href=\"http://twitter.com/download/iphone\" r...   \n2353  <a href=\"http://twitter.com/download/iphone\" r...   \n2354  <a href=\"http://twitter.com/download/iphone\" r...   \n2355  <a href=\"http://twitter.com/download/iphone\" r...   \n\n                                                   text  retweeted_status_id  \\\n0     This is Phineas. He's a mystical boy. Only eve...                  NaN   \n1     This is Tilly. She's just checking pup on you....                  NaN   \n2     This is Archie. He is a rare Norwegian Pouncin...                  NaN   \n3     This is Darla. She commenced a snooze mid meal...                  NaN   \n4     This is Franklin. He would like you to stop ca...                  NaN   \n...                                                 ...                  ...   \n2351  Here we have a 1949 1st generation vulpix. Enj...                  NaN   \n2352  This is a purebred Piers Morgan. Loves to Netf...                  NaN   \n2353  Here is a very happy pup. Big fan of well-main...                  NaN   \n2354  This is a western brown Mitsubishi terrier. Up...                  NaN   \n2355  Here we have a Japanese Irish Setter. Lost eye...                  NaN   \n\n      retweeted_status_user_id retweeted_status_timestamp  \\\n0                          NaN                        NaN   \n1                          NaN                        NaN   \n2                          NaN                        NaN   \n3                          NaN                        NaN   \n4                          NaN                        NaN   \n...                        ...                        ...   \n2351                       NaN                        NaN   \n2352                       NaN                        NaN   \n2353                       NaN                        NaN   \n2354                       NaN                        NaN   \n2355                       NaN                        NaN   \n\n                                          expanded_urls  rating_numerator  \\\n0     https://twitter.com/dog_rates/status/892420643...                13   \n1     https://twitter.com/dog_rates/status/892177421...                13   \n2     https://twitter.com/dog_rates/status/891815181...                12   \n3     https://twitter.com/dog_rates/status/891689557...                13   \n4     https://twitter.com/dog_rates/status/891327558...                12   \n...                                                 ...               ...   \n2351  https://twitter.com/dog_rates/status/666049248...                 5   \n2352  https://twitter.com/dog_rates/status/666044226...                 6   \n2353  https://twitter.com/dog_rates/status/666033412...                 9   \n2354  https://twitter.com/dog_rates/status/666029285...                 7   \n2355  https://twitter.com/dog_rates/status/666020888...                 8   \n\n      rating_denominator      name doggo floofer pupper puppo  \n0                     10   Phineas  None    None   None  None  \n1                     10     Tilly  None    None   None  None  \n2                     10    Archie  None    None   None  None  \n3                     10     Darla  None    None   None  None  \n4                     10  Franklin  None    None   None  None  \n...                  ...       ...   ...     ...    ...   ...  \n2351                  10      None  None    None   None  None  \n2352                  10         a  None    None   None  None  \n2353                  10         a  None    None   None  None  \n2354                  10         a  None    None   None  None  \n2355                  10      None  None    None   None  None  \n\n[1976 rows x 17 columns]",
      "text/html": "<div>\n<style scoped>\n    .dataframe tbody tr th:only-of-type {\n        vertical-align: middle;\n    }\n\n    .dataframe tbody tr th {\n        vertical-align: top;\n    }\n\n    .dataframe thead th {\n        text-align: right;\n    }\n</style>\n<table border=\"1\" class=\"dataframe\">\n  <thead>\n    <tr style=\"text-align: right;\">\n      <th></th>\n      <th>tweet_id</th>\n      <th>in_reply_to_status_id</th>\n      <th>in_reply_to_user_id</th>\n      <th>timestamp</th>\n      <th>source</th>\n      <th>text</th>\n      <th>retweeted_status_id</th>\n      <th>retweeted_status_user_id</th>\n      <th>retweeted_status_timestamp</th>\n      <th>expanded_urls</th>\n      <th>rating_numerator</th>\n      <th>rating_denominator</th>\n      <th>name</th>\n      <th>doggo</th>\n      <th>floofer</th>\n      <th>pupper</th>\n      <th>puppo</th>\n    </tr>\n  </thead>\n  <tbody>\n    <tr>\n      <th>0</th>\n      <td>892420643555336193</td>\n      <td>NaN</td>\n      <td>NaN</td>\n      <td>2017-08-01 16:23:56 +0000</td>\n      <td>&lt;a href=\"http://twitter.com/download/iphone\" r...</td>\n      <td>This is Phineas. He's a mystical boy. Only eve...</td>\n      <td>NaN</td>\n      <td>NaN</td>\n      <td>NaN</td>\n      <td>https://twitter.com/dog_rates/status/892420643...</td>\n      <td>13</td>\n      <td>10</td>\n      <td>Phineas</td>\n      <td>None</td>\n      <td>None</td>\n      <td>None</td>\n      <td>None</td>\n    </tr>\n    <tr>\n      <th>1</th>\n      <td>892177421306343426</td>\n      <td>NaN</td>\n      <td>NaN</td>\n      <td>2017-08-01 00:17:27 +0000</td>\n      <td>&lt;a href=\"http://twitter.com/download/iphone\" r...</td>\n      <td>This is Tilly. She's just checking pup on you....</td>\n      <td>NaN</td>\n      <td>NaN</td>\n      <td>NaN</td>\n      <td>https://twitter.com/dog_rates/status/892177421...</td>\n      <td>13</td>\n      <td>10</td>\n      <td>Tilly</td>\n      <td>None</td>\n      <td>None</td>\n      <td>None</td>\n      <td>None</td>\n    </tr>\n    <tr>\n      <th>2</th>\n      <td>891815181378084864</td>\n      <td>NaN</td>\n      <td>NaN</td>\n      <td>2017-07-31 00:18:03 +0000</td>\n      <td>&lt;a href=\"http://twitter.com/download/iphone\" r...</td>\n      <td>This is Archie. He is a rare Norwegian Pouncin...</td>\n      <td>NaN</td>\n      <td>NaN</td>\n      <td>NaN</td>\n      <td>https://twitter.com/dog_rates/status/891815181...</td>\n      <td>12</td>\n      <td>10</td>\n      <td>Archie</td>\n      <td>None</td>\n      <td>None</td>\n      <td>None</td>\n      <td>None</td>\n    </tr>\n    <tr>\n      <th>3</th>\n      <td>891689557279858688</td>\n      <td>NaN</td>\n      <td>NaN</td>\n      <td>2017-07-30 15:58:51 +0000</td>\n      <td>&lt;a href=\"http://twitter.com/download/iphone\" r...</td>\n      <td>This is Darla. She commenced a snooze mid meal...</td>\n      <td>NaN</td>\n      <td>NaN</td>\n      <td>NaN</td>\n      <td>https://twitter.com/dog_rates/status/891689557...</td>\n      <td>13</td>\n      <td>10</td>\n      <td>Darla</td>\n      <td>None</td>\n      <td>None</td>\n      <td>None</td>\n      <td>None</td>\n    </tr>\n    <tr>\n      <th>4</th>\n      <td>891327558926688256</td>\n      <td>NaN</td>\n      <td>NaN</td>\n      <td>2017-07-29 16:00:24 +0000</td>\n      <td>&lt;a href=\"http://twitter.com/download/iphone\" r...</td>\n      <td>This is Franklin. He would like you to stop ca...</td>\n      <td>NaN</td>\n      <td>NaN</td>\n      <td>NaN</td>\n      <td>https://twitter.com/dog_rates/status/891327558...</td>\n      <td>12</td>\n      <td>10</td>\n      <td>Franklin</td>\n      <td>None</td>\n      <td>None</td>\n      <td>None</td>\n      <td>None</td>\n    </tr>\n    <tr>\n      <th>...</th>\n      <td>...</td>\n      <td>...</td>\n      <td>...</td>\n      <td>...</td>\n      <td>...</td>\n      <td>...</td>\n      <td>...</td>\n      <td>...</td>\n      <td>...</td>\n      <td>...</td>\n      <td>...</td>\n      <td>...</td>\n      <td>...</td>\n      <td>...</td>\n      <td>...</td>\n      <td>...</td>\n      <td>...</td>\n    </tr>\n    <tr>\n      <th>2351</th>\n      <td>666049248165822465</td>\n      <td>NaN</td>\n      <td>NaN</td>\n      <td>2015-11-16 00:24:50 +0000</td>\n      <td>&lt;a href=\"http://twitter.com/download/iphone\" r...</td>\n      <td>Here we have a 1949 1st generation vulpix. Enj...</td>\n      <td>NaN</td>\n      <td>NaN</td>\n      <td>NaN</td>\n      <td>https://twitter.com/dog_rates/status/666049248...</td>\n      <td>5</td>\n      <td>10</td>\n      <td>None</td>\n      <td>None</td>\n      <td>None</td>\n      <td>None</td>\n      <td>None</td>\n    </tr>\n    <tr>\n      <th>2352</th>\n      <td>666044226329800704</td>\n      <td>NaN</td>\n      <td>NaN</td>\n      <td>2015-11-16 00:04:52 +0000</td>\n      <td>&lt;a href=\"http://twitter.com/download/iphone\" r...</td>\n      <td>This is a purebred Piers Morgan. Loves to Netf...</td>\n      <td>NaN</td>\n      <td>NaN</td>\n      <td>NaN</td>\n      <td>https://twitter.com/dog_rates/status/666044226...</td>\n      <td>6</td>\n      <td>10</td>\n      <td>a</td>\n      <td>None</td>\n      <td>None</td>\n      <td>None</td>\n      <td>None</td>\n    </tr>\n    <tr>\n      <th>2353</th>\n      <td>666033412701032449</td>\n      <td>NaN</td>\n      <td>NaN</td>\n      <td>2015-11-15 23:21:54 +0000</td>\n      <td>&lt;a href=\"http://twitter.com/download/iphone\" r...</td>\n      <td>Here is a very happy pup. Big fan of well-main...</td>\n      <td>NaN</td>\n      <td>NaN</td>\n      <td>NaN</td>\n      <td>https://twitter.com/dog_rates/status/666033412...</td>\n      <td>9</td>\n      <td>10</td>\n      <td>a</td>\n      <td>None</td>\n      <td>None</td>\n      <td>None</td>\n      <td>None</td>\n    </tr>\n    <tr>\n      <th>2354</th>\n      <td>666029285002620928</td>\n      <td>NaN</td>\n      <td>NaN</td>\n      <td>2015-11-15 23:05:30 +0000</td>\n      <td>&lt;a href=\"http://twitter.com/download/iphone\" r...</td>\n      <td>This is a western brown Mitsubishi terrier. Up...</td>\n      <td>NaN</td>\n      <td>NaN</td>\n      <td>NaN</td>\n      <td>https://twitter.com/dog_rates/status/666029285...</td>\n      <td>7</td>\n      <td>10</td>\n      <td>a</td>\n      <td>None</td>\n      <td>None</td>\n      <td>None</td>\n      <td>None</td>\n    </tr>\n    <tr>\n      <th>2355</th>\n      <td>666020888022790149</td>\n      <td>NaN</td>\n      <td>NaN</td>\n      <td>2015-11-15 22:32:08 +0000</td>\n      <td>&lt;a href=\"http://twitter.com/download/iphone\" r...</td>\n      <td>Here we have a Japanese Irish Setter. Lost eye...</td>\n      <td>NaN</td>\n      <td>NaN</td>\n      <td>NaN</td>\n      <td>https://twitter.com/dog_rates/status/666020888...</td>\n      <td>8</td>\n      <td>10</td>\n      <td>None</td>\n      <td>None</td>\n      <td>None</td>\n      <td>None</td>\n      <td>None</td>\n    </tr>\n  </tbody>\n</table>\n<p>1976 rows × 17 columns</p>\n</div>"
     },
     "metadata": {},
     "execution_count": 43
    }
   ],
   "source": [
    " tweet_av_df.query('doggo != \"doggo\" and  floofer != \"floofer\" and pupper != \"pupper\" and puppo != \"puppo\" ')"
   ]
  },
  {
   "cell_type": "code",
   "execution_count": 44,
   "metadata": {},
   "outputs": [
    {
     "output_type": "execute_result",
     "data": {
      "text/plain": "['tweet_id',\n 'in_reply_to_status_id',\n 'in_reply_to_user_id',\n 'timestamp',\n 'source',\n 'text',\n 'retweeted_status_id',\n 'retweeted_status_user_id',\n 'retweeted_status_timestamp',\n 'expanded_urls',\n 'rating_numerator',\n 'rating_denominator',\n 'name',\n 'doggo',\n 'floofer',\n 'pupper',\n 'puppo']"
     },
     "metadata": {},
     "execution_count": 44
    }
   ],
   "source": [
    "list(tweet_av_df)"
   ]
  },
  {
   "cell_type": "code",
   "execution_count": 47,
   "metadata": {},
   "outputs": [
    {
     "output_type": "execute_result",
     "data": {
      "text/plain": "17    tweet_id\n29    tweet_id\ndtype: object"
     },
     "metadata": {},
     "execution_count": 47
    }
   ],
   "source": [
    "all_columns = pd.Series(list(tweet_av_df) + list(image_pd_df) + list(mydf))\n",
    "all_columns[all_columns.duplicated()]"
   ]
  },
  {
   "cell_type": "code",
   "execution_count": 48,
   "metadata": {},
   "outputs": [
    {
     "output_type": "execute_result",
     "data": {
      "text/plain": "['tweet_id', 'favorite_count', 'retweet_count']"
     },
     "metadata": {},
     "execution_count": 48
    }
   ],
   "source": [
    "list(mydf)"
   ]
  },
  {
   "cell_type": "code",
   "execution_count": 10,
   "metadata": {
    "tags": []
   },
   "outputs": [],
   "source": [
    "def collecttweetdata(id):\n",
    "    consumer_key = 'AeFxgKcFhsENzkKD8MfoMPoA9'\n",
    "    consumer_secret = 'PErJwUZAwfmLBzZKyWBNwOpprGbUNsrro167rBYZ04JmzqmSqx'\n",
    "    auth = tweepy.AppAuthHandler(consumer_key, consumer_secret)\n",
    "    api = tweepy.API(auth)\n",
    "    try:\n",
    "        status = api.get_status(id, tweet_mode=\"extended\")\n",
    "        print(status)\n",
    "        return status\n",
    "    except tweepy.TweepError as e:\n",
    "        print(\"Fail\", e)\n",
    "        pass\n"
   ]
  },
  {
   "cell_type": "code",
   "execution_count": 18,
   "metadata": {},
   "outputs": [
    {
     "output_type": "execute_result",
     "data": {
      "text/plain": "(2356, 17)"
     },
     "metadata": {},
     "execution_count": 18
    }
   ],
   "source": [
    "tweet_av_df.shape"
   ]
  },
  {
   "cell_type": "code",
   "execution_count": null,
   "metadata": {},
   "outputs": [],
   "source": []
  }
 ]
}